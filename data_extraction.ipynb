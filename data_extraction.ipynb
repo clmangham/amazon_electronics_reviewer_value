{
 "cells": [
  {
   "attachments": {},
   "cell_type": "markdown",
   "metadata": {},
   "source": [
    "## ETL Notebook:\n",
    "\n",
    "For getting started with extracting and transforming compressed (.gz) JSON files."
   ]
  },
  {
   "cell_type": "code",
   "execution_count": 4,
   "metadata": {},
   "outputs": [],
   "source": [
    "import pandas as pd\n",
    "import numpy as np\n",
    "import json\n",
    "import gzip\n",
    "from pyspark.sql import SparkSession\n",
    "from pyspark.sql import SQLContext\n",
    "from pyspark.sql.types import *"
   ]
  },
  {
   "cell_type": "code",
   "execution_count": 5,
   "metadata": {},
   "outputs": [],
   "source": [
    "# Create Spark session \n",
    "spark = SparkSession \\\n",
    "    .builder \\\n",
    "    .master(\"local[*]\") \\\n",
    "    .appName('test') \\\n",
    "    .getOrCreate()\n",
    "\n",
    "sc = spark.sparkContext"
   ]
  },
  {
   "attachments": {},
   "cell_type": "markdown",
   "metadata": {},
   "source": [
    "Run shell script (`%% sh`) and unzip file with [gzip](https://docs.python.org/3/library/gzip.html):"
   ]
  },
  {
   "cell_type": "code",
   "execution_count": null,
   "metadata": {},
   "outputs": [],
   "source": [
    "# %%sh\n",
    "\n",
    "# gzip -d Electronics_5.json.gz\n",
    "# ls -lhtr"
   ]
  },
  {
   "attachments": {},
   "cell_type": "markdown",
   "metadata": {},
   "source": [
    "View first few rows of JSON:"
   ]
  },
  {
   "cell_type": "code",
   "execution_count": 6,
   "metadata": {},
   "outputs": [
    {
     "name": "stdout",
     "output_type": "stream",
     "text": [
      "{\"overall\": 5.0, \"vote\": \"67\", \"verified\": true, \"reviewTime\": \"09 18, 1999\", \"reviewerID\": \"AAP7PPBU72QFM\", \"asin\": \"0151004714\", \"style\": {\"Format:\": \" Hardcover\"}, \"reviewerName\": \"D. C. Carrad\", \"reviewText\": \"This is the best novel I have read in 2 or 3 years.  It is everything that fiction should be -- beautifully written, engaging, well-plotted and structured.  It has several layers of meanings -- historical, family,  philosophical and more -- and blends them all skillfully and interestingly.  It makes the American grad student/writers' workshop \\\"my parents were  mean to me and then my professors were mean to me\\\" trivia look  childish and silly by comparison, as they are.\\nAnyone who says this is an  adolescent girl's coming of age story is trivializing it.  Ignore them.  Read this book if you love literature.\\nI was particularly impressed with  this young author's grasp of the meaning and texture of the lost world of  French Algeria in the 1950's and '60's...particularly poignant when read in  1999 from another ruined and abandoned French colony, amid the decaying  buildings of Phnom Penh...\\nI hope the author will write many more books  and that her publishers will bring her first novel back into print -- I  want to read it.  Thank you, Ms. Messud, for writing such a wonderful work.\", \"summary\": \"A star is born\", \"unixReviewTime\": 937612800}\n",
      "{\"overall\": 3.0, \"vote\": \"5\", \"verified\": true, \"reviewTime\": \"10 23, 2013\", \"reviewerID\": \"A2E168DTVGE6SV\", \"asin\": \"0151004714\", \"style\": {\"Format:\": \" Kindle Edition\"}, \"reviewerName\": \"Evy\", \"reviewText\": \"Pages and pages of introspection, in the style of writers like Henry James.  I like this kind of  novels and the writer occasionally delights me with her descriptions and observations.  But it's way too repetitious for me and, I think, some parts could have been cut out while still preserving, and probably more tightly crystallizing, the themes and \\\"truths\\\" within the story.\\n\\nIt's a story I could relate to but I wish it hadn't been too tedious to read.\", \"summary\": \"A stream of consciousness novel\", \"unixReviewTime\": 1382486400}\n",
      "{\"overall\": 5.0, \"vote\": \"4\", \"verified\": false, \"reviewTime\": \"09 2, 2008\", \"reviewerID\": \"A1ER5AYS3FQ9O3\", \"asin\": \"0151004714\", \"style\": {\"Format:\": \" Paperback\"}, \"reviewerName\": \"Kcorn\", \"reviewText\": \"This is the kind of novel to read when you have time to lose yourself in a book for days, possibly weeks. I had to go back and reread it as soon as I finished it because it is so rich in historical and psychological  details, particularly themes centering on painful family dynamics and history.\\n\\nPotential readers of this novel by Claire Messud should know it isn't exactly a sunny, bouncy work. If you are looking for that you'll want to look elsewhere. It also moves between countries, including sections based in France, the U.S. and Algeria.\\n\\nThe focus of the novel is the LaBasse family and the story is told from the viewpoint of Sagesse, a woman who conveys the weight of a turbulent family history. Starting with Sagesse's grandfather, a man who owns the Hotel Bellevue in France,the family dynamics begin to play themselves out, connecting to larger themes of France and Algeria's history as well, with stunning consequences.\\n\\nSagesse's parents, Alex and Carol, reveal plenty about the kind of problems that can arise when there are cross-cultural challenges to face in a marriage. Carol, coming from America, marries Alex, but is unable to see the potential sacrifices and problems she'll face as she moves overseas to live with her husband...or the impact the marriage will have on her daughter and the rest of the family, including a handicapped son.\\n\\n It is a bit hard to categorize this book because it covers so many areas. It is part mystery because Sagesse is trying to separate truth from myth when figuring out her family's history. It is part suspense because of Sagesse's short love affair and a moment of violence (and I don't want to give the details of that moment or I'll spoil it for you). It is also a historical novel, rich with information about events in Algeria and France and the United States.\\n\\nFor me, also, this one centers on themes of personal identity and displacement,primarily for Sagesse, a woman trying to figure out where she belongs in the world and how to make peace with her difficult family as well as coming to grips with history's impact on her family.\", \"summary\": \"I'm a huge fan of the author and this one did not disappoint\", \"unixReviewTime\": 1220313600}\n"
     ]
    }
   ],
   "source": [
    "N = 3\n",
    "with open(\"Electronics_5.json\") as f:\n",
    "    for i in range(0,N):\n",
    "        print(f.readline(), end = '')"
   ]
  },
  {
   "attachments": {},
   "cell_type": "markdown",
   "metadata": {},
   "source": [
    "Copy first row of JSON output above and use [Schema Generator](https://preetranjan.github.io/pyspark-schema-generator/) to create schema like below:\n",
    "\n",
    "This schema below *should* work for all of the k-core datasets..."
   ]
  },
  {
   "cell_type": "code",
   "execution_count": 7,
   "metadata": {},
   "outputs": [],
   "source": [
    "schema = StructType([StructField('overall',FloatType(),True),  # Changed to FloatType from StringType\n",
    "    StructField('vote',StringType(),True),  \n",
    "    StructField('verified',BooleanType(),True),  \n",
    "    StructField('reviewTime',StringType(),True),  \n",
    "    StructField('reviewerID',StringType(),True),  \n",
    "    StructField('asin',StringType(),True),  \n",
    "    StructField('style',StructType([StructField('Format:',StringType(),True)]),True),  \n",
    "    StructField('reviewerName',StringType(),True),  \n",
    "    StructField('reviewText',StringType(),True),  \n",
    "    StructField('summary',StringType(),True),  \n",
    "    StructField('unixReviewTime',IntegerType(),True)])"
   ]
  },
  {
   "attachments": {},
   "cell_type": "markdown",
   "metadata": {},
   "source": [
    "Use schema so spark does not have to infer:"
   ]
  },
  {
   "cell_type": "code",
   "execution_count": 8,
   "metadata": {},
   "outputs": [
    {
     "name": "stdout",
     "output_type": "stream",
     "text": [
      "root\n",
      " |-- overall: float (nullable = true)\n",
      " |-- vote: string (nullable = true)\n",
      " |-- verified: boolean (nullable = true)\n",
      " |-- reviewTime: string (nullable = true)\n",
      " |-- reviewerID: string (nullable = true)\n",
      " |-- asin: string (nullable = true)\n",
      " |-- style: struct (nullable = true)\n",
      " |    |-- Format:: string (nullable = true)\n",
      " |-- reviewerName: string (nullable = true)\n",
      " |-- reviewText: string (nullable = true)\n",
      " |-- summary: string (nullable = true)\n",
      " |-- unixReviewTime: integer (nullable = true)\n",
      "\n"
     ]
    }
   ],
   "source": [
    "# 5 core electronics data\n",
    "e5_core_df = spark \\\n",
    "    .read \\\n",
    "    .json(\"Electronics_5.json\", schema = schema)\n",
    "\n",
    "e5_core_df.printSchema()"
   ]
  },
  {
   "attachments": {},
   "cell_type": "markdown",
   "metadata": {},
   "source": [
    "Show data:"
   ]
  },
  {
   "cell_type": "code",
   "execution_count": 9,
   "metadata": {},
   "outputs": [
    {
     "name": "stderr",
     "output_type": "stream",
     "text": [
      "[Stage 0:>                                                          (0 + 1) / 1]\r"
     ]
    },
    {
     "name": "stdout",
     "output_type": "stream",
     "text": [
      "+-------+----+--------+-----------+--------------+----------+-----------------+--------------------+--------------------+--------------------+--------------+\n",
      "|overall|vote|verified| reviewTime|    reviewerID|      asin|            style|        reviewerName|          reviewText|             summary|unixReviewTime|\n",
      "+-------+----+--------+-----------+--------------+----------+-----------------+--------------------+--------------------+--------------------+--------------+\n",
      "|    5.0|  67|    true|09 18, 1999| AAP7PPBU72QFM|0151004714|     { Hardcover}|        D. C. Carrad|This is the best ...|      A star is born|     937612800|\n",
      "|    3.0|   5|    true|10 23, 2013|A2E168DTVGE6SV|0151004714|{ Kindle Edition}|                 Evy|Pages and pages o...|A stream of consc...|    1382486400|\n",
      "|    5.0|   4|   false| 09 2, 2008|A1ER5AYS3FQ9O3|0151004714|     { Paperback}|               Kcorn|This is the kind ...|I'm a huge fan of...|    1220313600|\n",
      "|    5.0|  13|   false| 09 4, 2000|A1T17LMQABMBN5|0151004714|     { Hardcover}|     Caf Girl Writes|What gorgeous lan...|The most beautifu...|     968025600|\n",
      "|    3.0|   8|    true| 02 4, 2000|A3QHJ0FXK33OBE|0151004714|     { Hardcover}|    W. Shane Schmidt|I was taken in by...|A dissenting view...|     949622400|\n",
      "|    4.0|null|    true| 06 5, 2013|A3IYSOTP3HA77N|0380709473|{ Kindle Edition}|            B. Marks|I read this proba...|Above average mys...|    1370390400|\n",
      "|    5.0|null|    true|06 27, 2016|A11SXV34PZUQ5E|0380709473|{ Kindle Edition}|              Tom C.|I read every Perr...|        Lam is cool!|    1466985600|\n",
      "|    5.0|null|    true|07 30, 2015|A2AUQM1HT2D5T8|0380709473|{ Kindle Edition}|                 ema|I love this serie...|          Five Stars|    1438214400|\n",
      "|    5.0|null|    true|02 16, 2015|A3UD8JRWLX6SRX|0380709473|     { Paperback}|          Michael O.|         Great read!|          Five Stars|    1424044800|\n",
      "|    4.0|null|   false|11 21, 2013|A3MV1KKHX51FYT|0380709473|     { Paperback}|      Acute Observer|Crows Can't Count...|A Fast and Far Mo...|    1384992000|\n",
      "|    5.0|null|   false|07 14, 2009|A3LXXYBYUHZWS5|0446697192|     { Paperback}|        Monie Garcia|Fresh from Connec...|    A quick fun read|    1247529600|\n",
      "|    5.0|null|   false|07 10, 2009|A1X4L7AO1BXMHK|0446697192|     { Paperback}|             Deborah|I don't know abou...|  A Great Beach Read|    1247184000|\n",
      "|    3.0|null|   false| 09 2, 2009|A1Y9RUTH5GG3MU|0446697192|     { Paperback}|            D. Quinn|Obviously the pre...|Quick & fun summe...|    1251849600|\n",
      "|    4.0|null|   false|08 30, 2009| AAR8E3JF9K93P|0446697192|     { Paperback}|                Tina|I am very happy t...|Perfect beach/end...|    1251590400|\n",
      "|    4.0|   2|   false|07 29, 2009|A277GP2U2TXH51|0446697192|     { Paperback}|           grumpydan|\"Hollywood is Lik...|    Funny and Quirky|    1248825600|\n",
      "|    4.0|null|   false|07 28, 2009|A19KLUZ1XD3SRN|0446697192|     { Paperback}|Gaby at Starting ...|Synopsis:\\n\\nTayl...|Fun, satisfying, ...|    1248739200|\n",
      "|    2.0|  12|   false|04 14, 2014|A3J3BRHTDRFJ2G|0511189877|             null|            EJ Honda|This remote, for ...| Ergonomic nightmare|    1397433600|\n",
      "|    5.0|null|    true|05 31, 2017| A7362LXMQEM6W|0511189877|             null|      Online shopper|Worked out of the...|     Paid full price|    1496188800|\n",
      "|    2.0|null|   false|11 11, 2016| A2OSUEZJIN7BI|0511189877|             null|               Chris|I have an older U...|        Cannot Learn|    1478822400|\n",
      "|    5.0|null|   false|10 29, 2016|A1917RO9OGLVT9|0511189877|             null|             Spicoli|        Works great!|          Five Stars|    1477699200|\n",
      "+-------+----+--------+-----------+--------------+----------+-----------------+--------------------+--------------------+--------------------+--------------+\n",
      "only showing top 20 rows\n",
      "\n"
     ]
    },
    {
     "name": "stderr",
     "output_type": "stream",
     "text": [
      "                                                                                \r"
     ]
    }
   ],
   "source": [
    "e5_core_df.show()"
   ]
  },
  {
   "attachments": {},
   "cell_type": "markdown",
   "metadata": {},
   "source": [
    "Check partitions:"
   ]
  },
  {
   "cell_type": "code",
   "execution_count": 10,
   "metadata": {},
   "outputs": [
    {
     "data": {
      "text/plain": [
       "32"
      ]
     },
     "execution_count": 10,
     "metadata": {},
     "output_type": "execute_result"
    }
   ],
   "source": [
    "e5_core_df.rdd.getNumPartitions()"
   ]
  },
  {
   "attachments": {},
   "cell_type": "markdown",
   "metadata": {},
   "source": [
    "Check shape:"
   ]
  },
  {
   "cell_type": "code",
   "execution_count": 11,
   "metadata": {},
   "outputs": [
    {
     "name": "stderr",
     "output_type": "stream",
     "text": [
      "[Stage 1:============================================>            (25 + 7) / 32]\r"
     ]
    },
    {
     "name": "stdout",
     "output_type": "stream",
     "text": [
      "(6739590, 11)\n"
     ]
    },
    {
     "name": "stderr",
     "output_type": "stream",
     "text": [
      "                                                                                \r"
     ]
    }
   ],
   "source": [
    "print((e5_core_df.count(), len(e5_core_df.columns)))"
   ]
  }
 ],
 "metadata": {
  "kernelspec": {
   "display_name": "mads",
   "language": "python",
   "name": "python3"
  },
  "language_info": {
   "codemirror_mode": {
    "name": "ipython",
    "version": 3
   },
   "file_extension": ".py",
   "mimetype": "text/x-python",
   "name": "python",
   "nbconvert_exporter": "python",
   "pygments_lexer": "ipython3",
   "version": "3.11.3"
  },
  "orig_nbformat": 4
 },
 "nbformat": 4,
 "nbformat_minor": 2
}
