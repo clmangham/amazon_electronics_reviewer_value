{
 "cells": [
  {
   "attachments": {},
   "cell_type": "markdown",
   "metadata": {},
   "source": [
    "### Amazon Electronics Analysis"
   ]
  },
  {
   "cell_type": "code",
   "execution_count": 1,
   "metadata": {},
   "outputs": [],
   "source": [
    "import pandas as pd\n",
    "import numpy as np\n",
    "import json\n",
    "import gzip\n",
    "from pyspark.sql import SparkSession\n",
    "from pyspark.sql import SQLContext\n",
    "from pyspark.sql.types import *\n",
    "from pyspark.sql.functions import *\n",
    "import re\n"
   ]
  },
  {
   "cell_type": "code",
   "execution_count": 2,
   "metadata": {},
   "outputs": [
    {
     "name": "stderr",
     "output_type": "stream",
     "text": [
      "23/06/07 17:36:28 WARN Utils: Your hostname, MBP.local resolves to a loopback address: 127.0.0.1; using 192.168.0.29 instead (on interface en0)\n",
      "23/06/07 17:36:28 WARN Utils: Set SPARK_LOCAL_IP if you need to bind to another address\n",
      "Setting default log level to \"WARN\".\n",
      "To adjust logging level use sc.setLogLevel(newLevel). For SparkR, use setLogLevel(newLevel).\n",
      "23/06/07 17:36:29 WARN NativeCodeLoader: Unable to load native-hadoop library for your platform... using builtin-java classes where applicable\n"
     ]
    }
   ],
   "source": [
    "# Create Spark session \n",
    "spark = SparkSession \\\n",
    "    .builder \\\n",
    "    .master(\"local[*]\") \\\n",
    "    .appName('Milestone_I') \\\n",
    "    .getOrCreate()\n",
    "\n",
    "sc = spark.sparkContext"
   ]
  },
  {
   "attachments": {},
   "cell_type": "markdown",
   "metadata": {},
   "source": [
    "### Meta electronics file for price data"
   ]
  },
  {
   "attachments": {},
   "cell_type": "markdown",
   "metadata": {},
   "source": [
    "View first few rows of JSON:"
   ]
  },
  {
   "cell_type": "code",
   "execution_count": 3,
   "metadata": {},
   "outputs": [
    {
     "name": "stdout",
     "output_type": "stream",
     "text": [
      "{\"category\": [\"Electronics\", \"Camera &amp; Photo\", \"Video Surveillance\", \"Surveillance Systems\", \"Surveillance DVR Kits\"], \"tech1\": \"\", \"description\": [\"The following camera brands and models have been tested for compatibility with GV-Software.\\nGeoVision \\tACTi \\tArecont Vision \\tAXIS \\tBosch \\tCanon\\nCNB \\tD-Link \\tEtroVision \\tHikVision \\tHUNT \\tIQEye\\nJVC \\tLG \\tMOBOTIX \\tPanasonic \\tPelco \\tSamsung\\nSanyo \\tSony \\tUDP \\tVerint \\tVIVOTEK \\t \\n \\nCompatible Standard and Protocol\\nGV-System also allows for integration with all other IP video devices compatible with ONVIF(V2.0), PSIA (V1.1) standards, or RTSP protocol.\\nONVIF \\tPSIA \\tRTSP \\t  \\t  \\t \\nNote: Specifications are subject to change without notice. Every effort has been made to ensure that the information on this Web site is accurate. No liability is assumed for incidental or consequential damages arising from the use of the information or products contained herein.\"], \"fit\": \"\", \"title\": \"Genuine Geovision 1 Channel 3rd Party NVR IP Software with USB Dongle Onvif PSIA\", \"also_buy\": [], \"tech2\": \"\", \"brand\": \"GeoVision\", \"feature\": [\"Genuine Geovision 1 Channel NVR IP Software\", \"Support 3rd Party IP Camera\", \"USB Dongle\"], \"rank\": [\">#3,092 in Tools &amp; Home Improvement &gt; Safety &amp; Security &gt; Home Security &amp; Surveillance &gt; Complete Surveillance Systems &gt; Surveillance DVR Kits\", \">#5,010 in Tools &amp; Home Improvement &gt; Safety &amp; Security &gt; Home Security &amp; Surveillance &gt; Surveillance Video Equipment\"], \"also_view\": [], \"main_cat\": \"Camera &amp; Photo\", \"similar_item\": \"\", \"date\": \"January 28, 2014\", \"price\": \"$65.00\", \"asin\": \"0011300000\", \"imageURL\": [\"https://images-na.ssl-images-amazon.com/images/I/411uoWa89KL._SS40_.jpg\"], \"imageURLHighRes\": [\"https://images-na.ssl-images-amazon.com/images/I/411uoWa89KL.jpg\"]}\n",
      "{\"category\": [\"Electronics\", \"Camera &amp; Photo\"], \"tech1\": \"\", \"description\": [\"This second edition of the Handbook of Astronomical Image Processing (HAIP) and its integral AIP for Windows 2.0 image processing software (AIP4Win2.0) addresses many important changes that have taken place in astronomical imaging since the publication of the first edition.  Today's affordable astro-imaging capable digital single-lens-reflex cameras (DSLRs), the growing power of personal computers, and the proliferation of telescopes and imaging accessories has brought imaging capabilities within the reach of practically every amateur astronomer - and this second edition of the Handbook plus AIP4Win 2.0 is ready, willing, and able to assist every observer in making great astronomical images.  In the Handbook, we amplified the original chapters on astronomical equipment and imaging techniques, revised our discussions of astrometry and photometry to reflect the steady growth in these scientific fields, and expanded tutorials in the back of the book to help you get up to speed quickly.  On the accompanying CDROM (found on the inside back cover) you will find hundreds of megabytes of sample images you can use to learn techniques such as image registration and stacking that guarantee good results even from those living with suburban and urban skies.  Also new are comprehensive chapters on color imaging with astronomical CCD cameras and processing color images from digital cameras, and photon-counting fundamentals every serious astro-imager needs to\"], \"fit\": \"\", \"title\": \"Books \\\"Handbook of Astronomical Image Processing\\\" with CD ROM, 2nd Edition, Hardcover Book by Berry &amp; Burnell\", \"also_buy\": [\"0999470906\"], \"tech2\": \"\", \"brand\": \"33 Books Co.\", \"feature\": [\"Detailed chapters cover these fundamental topics:\", \"Basic imaging: How the light that falls on your CCD becomes an image. Covers image formation, cameras, telescopes, detectors, sensor geometry, image capture,field of view, and angluar coverage.\", \"Counting Photons: \\\"Astronomy is about counting photons....\\\" Covers signal, noise, the signal-to-noise ratio, the Poisson and Gaussian distributions and whythey matter, making better pictures by summing images, and how dark frames and flat frames effect the signal and noise in your images.\", \"Digital Image Formats: Covers the file formats that astronomers use, including FITS, TIFF, BMP, and JPEG. Learn file format basics, how your image data is arranged inside the file on your computer's hard disk.\", \"Imaging Tools: All about sensors, optics, cameras, and telescopes. Explains how to calculate the field of view and resolution of your system, telescope optics for imagers, auxiliary optics, mounts, drives, tracking, filters, and how to recognize and correct common equipment problems.\"], \"rank\": [\">#55,933 in Camera &amp; Photo (See Top 100 in Camera &amp; Photo)\", \">#90,232 in Electronics &gt; Camera &amp; Photo\"], \"also_view\": [\"0943396670\", \"1138055360\", \"0999470906\"], \"main_cat\": \"Camera &amp; Photo\", \"similar_item\": \"\", \"date\": \"June 17, 2003\", \"price\": \"\", \"asin\": \"0043396828\", \"imageURL\": [\"https://images-na.ssl-images-amazon.com/images/I/51BjDGZhNvL._SS40_.jpg\"], \"imageURLHighRes\": [\"https://images-na.ssl-images-amazon.com/images/I/51BjDGZhNvL.jpg\"]}\n"
     ]
    }
   ],
   "source": [
    "N = 2\n",
    "with open(\"meta_Electronics.json\") as f:\n",
    "    for i in range(0,N):\n",
    "        print(f.readline(), end = '')"
   ]
  },
  {
   "attachments": {},
   "cell_type": "markdown",
   "metadata": {},
   "source": [
    "[Generate Schema](https://preetranjan.github.io/pyspark-schema-generator/) and Load into spark dataframe:"
   ]
  },
  {
   "cell_type": "code",
   "execution_count": 4,
   "metadata": {},
   "outputs": [],
   "source": [
    "schema = StructType([StructField('category',ArrayType(StringType()),True),  \n",
    "StructField('tech1',StringType(),True),  \n",
    "StructField('description',ArrayType(StringType()),True),  \n",
    "StructField('fit',StringType(),True),  \n",
    "StructField('title',StringType(),True),  \n",
    "StructField('also_buy',ArrayType(StringType()),True),  \n",
    "StructField('tech2',StringType(),True),  \n",
    "StructField('brand',StringType(),True),  \n",
    "StructField('feature',ArrayType(StringType()),True),  \n",
    "StructField('rank',ArrayType(StringType()),True),  \n",
    "StructField('also_view',ArrayType(StringType()),True),  \n",
    "StructField('main_cat',StringType(),True),  \n",
    "StructField('similar_item',StringType(),True),  \n",
    "StructField('date',StringType(),True),  \n",
    "StructField('price',StringType(),True),  \n",
    "StructField('asin',StringType(),True),  \n",
    "StructField('imageURL',ArrayType(StringType()),True),  \n",
    "StructField('imageURLHighRes',ArrayType(StringType()),True)])"
   ]
  },
  {
   "attachments": {},
   "cell_type": "markdown",
   "metadata": {},
   "source": [
    "Schema required some editing, added `StringType()` as parameter in some `ArrayType()` fields that had `null` as parameter."
   ]
  },
  {
   "cell_type": "code",
   "execution_count": 5,
   "metadata": {},
   "outputs": [
    {
     "name": "stdout",
     "output_type": "stream",
     "text": [
      "root\n",
      " |-- category: array (nullable = true)\n",
      " |    |-- element: string (containsNull = true)\n",
      " |-- tech1: string (nullable = true)\n",
      " |-- description: array (nullable = true)\n",
      " |    |-- element: string (containsNull = true)\n",
      " |-- fit: string (nullable = true)\n",
      " |-- title: string (nullable = true)\n",
      " |-- also_buy: array (nullable = true)\n",
      " |    |-- element: string (containsNull = true)\n",
      " |-- tech2: string (nullable = true)\n",
      " |-- brand: string (nullable = true)\n",
      " |-- feature: array (nullable = true)\n",
      " |    |-- element: string (containsNull = true)\n",
      " |-- rank: array (nullable = true)\n",
      " |    |-- element: string (containsNull = true)\n",
      " |-- also_view: array (nullable = true)\n",
      " |    |-- element: string (containsNull = true)\n",
      " |-- main_cat: string (nullable = true)\n",
      " |-- similar_item: string (nullable = true)\n",
      " |-- date: string (nullable = true)\n",
      " |-- price: string (nullable = true)\n",
      " |-- asin: string (nullable = true)\n",
      " |-- imageURL: array (nullable = true)\n",
      " |    |-- element: string (containsNull = true)\n",
      " |-- imageURLHighRes: array (nullable = true)\n",
      " |    |-- element: string (containsNull = true)\n",
      "\n"
     ]
    }
   ],
   "source": [
    "meta_elect_df = spark \\\n",
    "    .read \\\n",
    "    .format(\"json\") \\\n",
    "    .load(\"meta_Electronics.json\", schema = schema)\n",
    "\n",
    "meta_elect_df.printSchema()"
   ]
  },
  {
   "attachments": {},
   "cell_type": "markdown",
   "metadata": {},
   "source": [
    "Check partitions:"
   ]
  },
  {
   "cell_type": "code",
   "execution_count": 6,
   "metadata": {},
   "outputs": [
    {
     "data": {
      "text/plain": [
       "82"
      ]
     },
     "execution_count": 6,
     "metadata": {},
     "output_type": "execute_result"
    }
   ],
   "source": [
    "meta_elect_df.rdd.getNumPartitions()"
   ]
  },
  {
   "attachments": {},
   "cell_type": "markdown",
   "metadata": {},
   "source": [
    "Check size:"
   ]
  },
  {
   "cell_type": "code",
   "execution_count": 7,
   "metadata": {},
   "outputs": [
    {
     "name": "stderr",
     "output_type": "stream",
     "text": [
      "[Stage 0:=======================================================> (80 + 2) / 82]\r"
     ]
    },
    {
     "name": "stdout",
     "output_type": "stream",
     "text": [
      "(786445, 18)\n"
     ]
    },
    {
     "name": "stderr",
     "output_type": "stream",
     "text": [
      "                                                                                \r"
     ]
    }
   ],
   "source": [
    "print((meta_elect_df.count(), len(meta_elect_df.columns)))"
   ]
  },
  {
   "attachments": {},
   "cell_type": "markdown",
   "metadata": {},
   "source": [
    "Looks like a few hundred rows are missing (minor %). Website lists 786,868 products"
   ]
  },
  {
   "attachments": {},
   "cell_type": "markdown",
   "metadata": {},
   "source": [
    "Look at data:"
   ]
  },
  {
   "cell_type": "code",
   "execution_count": 8,
   "metadata": {},
   "outputs": [
    {
     "name": "stdout",
     "output_type": "stream",
     "text": [
      "+--------------------+-----+--------------------+---+--------------------+--------------------+-----+--------------------+--------------------+--------------------+--------------------+--------------------+--------------------+------------------+--------------------+----------+--------------------+--------------------+\n",
      "|            category|tech1|         description|fit|               title|            also_buy|tech2|               brand|             feature|                rank|           also_view|            main_cat|        similar_item|              date|               price|      asin|            imageURL|     imageURLHighRes|\n",
      "+--------------------+-----+--------------------+---+--------------------+--------------------+-----+--------------------+--------------------+--------------------+--------------------+--------------------+--------------------+------------------+--------------------+----------+--------------------+--------------------+\n",
      "|[Electronics, Cam...|     |[The following ca...|   |Genuine Geovision...|                  []|     |           GeoVision|[Genuine Geovisio...|[>#3,092 in Tools...|                  []|  Camera &amp; Photo|                    |  January 28, 2014|              $65.00|0011300000|[https://images-n...|[https://images-n...|\n",
      "|[Electronics, Cam...|     |[This second edit...|   |Books \"Handbook o...|        [0999470906]|     |        33 Books Co.|[Detailed chapter...|[>#55,933 in Came...|[0943396670, 1138...|  Camera &amp; Photo|                    |     June 17, 2003|                    |0043396828|[https://images-n...|[https://images-n...|\n",
      "|[Electronics, eBo...|     |[A zesty tale. (P...|   |      One Hot Summer|[0425167798, 0399...|     |Visit Amazon's Ca...|                  []|                null|                  []|               Books|                    |                  |              $11.49|0060009810|                  []|                  []|\n",
      "|[Electronics, eBo...|     |                  []|   |Hurray for Hattie...|[0060219521, 0060...|     |Visit Amazon's Di...|                  []|                null|[0060219521, 0060...|               Books|                    |                  |.a-section.a-spac...|0060219602|                  []|                  []|\n",
      "|[Electronics, eBo...|     |[&#8220;sex.lies....|   |sex.lies.murder.f...|                  []|     |Visit Amazon's Lo...|                  []|                null|                  []|               Books|                    |                  |              $13.95|0060786817|                  []|                  []|\n",
      "|[Electronics, eBo...|     |                [, ]|   |     College Physics|[0073049557, 0134...|     |Visit Amazon's Al...|                  []|                null|[0073512141, 0077...|               Books|                    |                  |                    |0070524076|                  []|                  []|\n",
      "|[Electronics, eBo...|     |[GIRL WITH A ONE-...|   |Girl with a One-t...|        [0330509691]|     |            ABBY LEE|                  []|                null|        [B0719LDQR1]|               Books|                    |                  |               $4.76|0091912407|                  []|                  []|\n",
      "|[Electronics, Por...|     |[Support system: ...|   |abcGoodefg&reg; 4...|[B01NAJ3KQB, B00W...|     |          Crazy Cart|[Package Content:...|[>#177,454 in Ele...|[B01NAJ3KQB, B00O...|     All Electronics| class=\"a-bordere...| December 28, 2012|                    |0101635370|[https://images-n...|[https://images-n...|\n",
      "|[Electronics, Hea...|     |[, <b>True High D...|   |Wireless Bluetoot...|                  []|     |     Enter The Arena|[Superb Sound Qua...|[>#950 in Cell Ph...|                  []|Home Audio & Theater|                    |  October 23, 2017|               $7.99|0132492776|[https://images-n...|[https://images-n...|\n",
      "|[Electronics, Com...|     |                  []|   |Kelby Training DV...|                  []|     |      Kelby Training|                  []|[>#932,732 in Com...|                  []|           Computers|                    |  December 9, 2011|                    |0132793040|[https://images-n...|[https://images-n...|\n",
      "|[Electronics, eBo...|     |[Claire Messud's ...|   |The Last Life: A ...|[0307596907, 0307...|     |Visit Amazon's Cl...|                  []|                null|[0393356051, 0307...|               Books|                    |                  |              $13.81|0151004714|                  []|                  []|\n",
      "|[Electronics, eBo...|     |[In this gleeful,...|   |        Lady Lazarus|                  []|     |Visit Amazon's An...|                  []|                null|        [1582436010]|               Books|                    |                  |               $5.79|0151014841|                  []|                  []|\n",
      "|[Electronics, Acc...|     |[, This book is a...|   |Practical Modern ...|[0736083723, 0205...|     |      John R. Wooden|                  []|                null|[1933538511, 0805...|               Books|                    |                  |                    |0205291252|                  []|                  []|\n",
      "|[Electronics, Com...|     |[Brand SAMSUNG Sp...|   |SAMSUNG Evo Plus ...|                  []|     |             Samsung|[64 GB MicroSDHC ...|[>#677,490 in Cel...|                  []|           Computers|                    |     July 22, 2016|                    |0246003235|[https://images-n...|[https://images-n...|\n",
      "|[Electronics, eBo...|     |                  []|   |BOOX Max Carta Er...|                  []|     |                BOOX|[Excellent Pinch ...|[>#264,331 in Ele...|[B077GVLMJN, B07B...|     All Electronics| class=\"a-bordere...|     June 30, 2016|                    |0285175270|[https://images-n...|[https://images-n...|\n",
      "|[Electronics, Cam...|     |[TDK Hi8 MP120 Pr...|   |TDK Hi8 MP120 Pre...|                  []|     |TDK Electronics Corp|                  []|[>#79 in Electron...|[B00009VX8C, B000...|Home Audio &amp; ...| class=\"a-bordere...|   August 22, 2014|              $48.99|0303532572|[https://images-n...|[https://images-n...|\n",
      "|[Electronics, Acc...|     |[While Frodo &amp...|   |The Lord of the R...|[B00009TB5G, B000...|     |                  WB|[Actors: Orlando ...|[>#359,908 in Ele...|                  []|Home Audio &amp; ...|                    |September 16, 2016|                    |0302643370|[https://images-n...|[https://images-n...|\n",
      "|[Electronics, eBo...|     |[Featuring a line...|   |Linen-Look Patter...|        [B000OWOS1Q]|     |Visit Amazon's Zo...|                  []|                null|                  []|               Books|                    |                  |                    |0310810515|                  []|                  []|\n",
      "|[Electronics, eBo...|     |[YA?Life in Thoma...|   |The Angel Doll: A...|[1878086804, 0060...|     |Visit Amazon's Je...|                  []|                null|[1878086804, B000...|               Books|                    |                  |               $3.98|0312171048|                  []|                  []|\n",
      "|[Electronics, eBo...|     |[Edgar-finalist H...|   |        Scared Money|[0312534868, 0312...|     |          James Hime|                  []|                null|                  []|               Books|                    |                  |              $12.78|0312331363|                  []|                  []|\n",
      "+--------------------+-----+--------------------+---+--------------------+--------------------+-----+--------------------+--------------------+--------------------+--------------------+--------------------+--------------------+------------------+--------------------+----------+--------------------+--------------------+\n",
      "only showing top 20 rows\n",
      "\n"
     ]
    }
   ],
   "source": [
    "meta_elect_df.show()"
   ]
  },
  {
   "attachments": {},
   "cell_type": "markdown",
   "metadata": {},
   "source": [
    "Pick columns we want:"
   ]
  },
  {
   "cell_type": "code",
   "execution_count": 9,
   "metadata": {},
   "outputs": [
    {
     "name": "stdout",
     "output_type": "stream",
     "text": [
      "+----------+--------------------+--------------------+--------------------+--------------------+\n",
      "|      asin|               brand|            main_cat|               price|               title|\n",
      "+----------+--------------------+--------------------+--------------------+--------------------+\n",
      "|0011300000|           GeoVision|  Camera &amp; Photo|              $65.00|Genuine Geovision...|\n",
      "|0043396828|        33 Books Co.|  Camera &amp; Photo|                    |Books \"Handbook o...|\n",
      "|0060009810|Visit Amazon's Ca...|               Books|              $11.49|      One Hot Summer|\n",
      "|0060219602|Visit Amazon's Di...|               Books|.a-section.a-spac...|Hurray for Hattie...|\n",
      "|0060786817|Visit Amazon's Lo...|               Books|              $13.95|sex.lies.murder.f...|\n",
      "|0070524076|Visit Amazon's Al...|               Books|                    |     College Physics|\n",
      "|0091912407|            ABBY LEE|               Books|               $4.76|Girl with a One-t...|\n",
      "|0101635370|          Crazy Cart|     All Electronics|                    |abcGoodefg&reg; 4...|\n",
      "|0132492776|     Enter The Arena|Home Audio & Theater|               $7.99|Wireless Bluetoot...|\n",
      "|0132793040|      Kelby Training|           Computers|                    |Kelby Training DV...|\n",
      "|0151004714|Visit Amazon's Cl...|               Books|              $13.81|The Last Life: A ...|\n",
      "|0151014841|Visit Amazon's An...|               Books|               $5.79|        Lady Lazarus|\n",
      "|0205291252|      John R. Wooden|               Books|                    |Practical Modern ...|\n",
      "|0246003235|             Samsung|           Computers|                    |SAMSUNG Evo Plus ...|\n",
      "|0285175270|                BOOX|     All Electronics|                    |BOOX Max Carta Er...|\n",
      "|0303532572|TDK Electronics Corp|Home Audio &amp; ...|              $48.99|TDK Hi8 MP120 Pre...|\n",
      "|0302643370|                  WB|Home Audio &amp; ...|                    |The Lord of the R...|\n",
      "|0310810515|Visit Amazon's Zo...|               Books|                    |Linen-Look Patter...|\n",
      "|0312171048|Visit Amazon's Je...|               Books|               $3.98|The Angel Doll: A...|\n",
      "|0312331363|          James Hime|               Books|              $12.78|        Scared Money|\n",
      "+----------+--------------------+--------------------+--------------------+--------------------+\n",
      "only showing top 20 rows\n",
      "\n"
     ]
    }
   ],
   "source": [
    "cols_to_use = ['asin', 'brand', 'main_cat', 'price', 'title']\n",
    "meta_elect_df.select(cols_to_use).show()"
   ]
  },
  {
   "attachments": {},
   "cell_type": "markdown",
   "metadata": {},
   "source": [
    "We only want rows with prices:"
   ]
  },
  {
   "cell_type": "code",
   "execution_count": 10,
   "metadata": {},
   "outputs": [
    {
     "name": "stdout",
     "output_type": "stream",
     "text": [
      "+----------+--------------------+--------------------+---------+--------------------+\n",
      "|      asin|               brand|            main_cat|    price|               title|\n",
      "+----------+--------------------+--------------------+---------+--------------------+\n",
      "|0011300000|           GeoVision|  Camera &amp; Photo|   $65.00|Genuine Geovision...|\n",
      "|0060009810|Visit Amazon's Ca...|               Books|   $11.49|      One Hot Summer|\n",
      "|0060786817|Visit Amazon's Lo...|               Books|   $13.95|sex.lies.murder.f...|\n",
      "|0091912407|            ABBY LEE|               Books|    $4.76|Girl with a One-t...|\n",
      "|0132492776|     Enter The Arena|Home Audio & Theater|    $7.99|Wireless Bluetoot...|\n",
      "|0151004714|Visit Amazon's Cl...|               Books|   $13.81|The Last Life: A ...|\n",
      "|0151014841|Visit Amazon's An...|               Books|    $5.79|        Lady Lazarus|\n",
      "|0303532572|TDK Electronics Corp|Home Audio &amp; ...|   $48.99|TDK Hi8 MP120 Pre...|\n",
      "|0312171048|Visit Amazon's Je...|               Books|    $3.98|The Angel Doll: A...|\n",
      "|0312331363|          James Hime|               Books|   $12.78|        Scared Money|\n",
      "|0312364415|Visit Amazon's St...|               Books|    $3.25|A Stranger Lies T...|\n",
      "|0314185550|             BAR/BRI|               Books|    $3.00|BARBRI First Year...|\n",
      "|0323230008|           GeoVision|  Camera &amp; Photo|$2,080.00|Genuine Geovision...|\n",
      "|0375503757|Visit Amazon's Lu...|               Books|    $9.90|What She Saw...: ...|\n",
      "|0375505458|Visit Amazon's Wh...|               Books|    $7.00|A Collection of B...|\n",
      "|0380812916|Visit Amazon's Is...|               Books|    $9.07|Tokyo Suckerpunch...|\n",
      "|0385671539|       Brian Francis|               Books|   $32.95|       Natural Order|\n",
      "|0385666535|Visit Amazon's Da...|               Books|    $4.98|Incidents in the ...|\n",
      "|0446576476|Visit Amazon's Ch...|               Books|   $19.99|    Plenty Good Room|\n",
      "|0446697192|Visit Amazon's Zo...|               Books|   $17.99|Hollywood Is like...|\n",
      "+----------+--------------------+--------------------+---------+--------------------+\n",
      "only showing top 20 rows\n",
      "\n"
     ]
    }
   ],
   "source": [
    "expr = '\\$.*' #Regex for anything that starts with a dollar sign ($)\n",
    "\n",
    "#Filter with regex\n",
    "meta_elect_df = meta_elect_df.filter(meta_elect_df.price.rlike(expr)).select(cols_to_use)\n",
    "meta_elect_df.show()"
   ]
  },
  {
   "cell_type": "code",
   "execution_count": 11,
   "metadata": {},
   "outputs": [
    {
     "name": "stderr",
     "output_type": "stream",
     "text": [
      "[Stage 6:=======================================================> (80 + 2) / 82]\r"
     ]
    },
    {
     "name": "stdout",
     "output_type": "stream",
     "text": [
      "(304323, 5)\n"
     ]
    },
    {
     "name": "stderr",
     "output_type": "stream",
     "text": [
      "                                                                                \r"
     ]
    }
   ],
   "source": [
    "# Check dimensions\n",
    "print((meta_elect_df.count(), len(meta_elect_df.columns)))"
   ]
  },
  {
   "attachments": {},
   "cell_type": "markdown",
   "metadata": {},
   "source": [
    "Looks like about half of the meta datset has prices."
   ]
  },
  {
   "attachments": {},
   "cell_type": "markdown",
   "metadata": {},
   "source": [
    "### Electronics data subset (5-core)"
   ]
  },
  {
   "attachments": {},
   "cell_type": "markdown",
   "metadata": {},
   "source": [
    "Read first few lines of JSON: "
   ]
  },
  {
   "cell_type": "code",
   "execution_count": 12,
   "metadata": {},
   "outputs": [
    {
     "name": "stdout",
     "output_type": "stream",
     "text": [
      "{\"overall\": 5.0, \"vote\": \"67\", \"verified\": true, \"reviewTime\": \"09 18, 1999\", \"reviewerID\": \"AAP7PPBU72QFM\", \"asin\": \"0151004714\", \"style\": {\"Format:\": \" Hardcover\"}, \"reviewerName\": \"D. C. Carrad\", \"reviewText\": \"This is the best novel I have read in 2 or 3 years.  It is everything that fiction should be -- beautifully written, engaging, well-plotted and structured.  It has several layers of meanings -- historical, family,  philosophical and more -- and blends them all skillfully and interestingly.  It makes the American grad student/writers' workshop \\\"my parents were  mean to me and then my professors were mean to me\\\" trivia look  childish and silly by comparison, as they are.\\nAnyone who says this is an  adolescent girl's coming of age story is trivializing it.  Ignore them.  Read this book if you love literature.\\nI was particularly impressed with  this young author's grasp of the meaning and texture of the lost world of  French Algeria in the 1950's and '60's...particularly poignant when read in  1999 from another ruined and abandoned French colony, amid the decaying  buildings of Phnom Penh...\\nI hope the author will write many more books  and that her publishers will bring her first novel back into print -- I  want to read it.  Thank you, Ms. Messud, for writing such a wonderful work.\", \"summary\": \"A star is born\", \"unixReviewTime\": 937612800}\n",
      "{\"overall\": 3.0, \"vote\": \"5\", \"verified\": true, \"reviewTime\": \"10 23, 2013\", \"reviewerID\": \"A2E168DTVGE6SV\", \"asin\": \"0151004714\", \"style\": {\"Format:\": \" Kindle Edition\"}, \"reviewerName\": \"Evy\", \"reviewText\": \"Pages and pages of introspection, in the style of writers like Henry James.  I like this kind of  novels and the writer occasionally delights me with her descriptions and observations.  But it's way too repetitious for me and, I think, some parts could have been cut out while still preserving, and probably more tightly crystallizing, the themes and \\\"truths\\\" within the story.\\n\\nIt's a story I could relate to but I wish it hadn't been too tedious to read.\", \"summary\": \"A stream of consciousness novel\", \"unixReviewTime\": 1382486400}\n"
     ]
    }
   ],
   "source": [
    "# Loading entire 4 gig file into 8GB of available ram...not good.....major slow downs.\n",
    "\n",
    "N = 2\n",
    "with open(\"Electronics_5.json\") as f:\n",
    "    for i in range(0,N):\n",
    "        print(f.readline(), end = '')\n"
   ]
  },
  {
   "attachments": {},
   "cell_type": "markdown",
   "metadata": {},
   "source": [
    "Copy first row of JSON output above and use [Schema Generator](https://preetranjan.github.io/pyspark-schema-generator/) to create schema below:"
   ]
  },
  {
   "cell_type": "code",
   "execution_count": 13,
   "metadata": {},
   "outputs": [],
   "source": [
    "schema = StructType([StructField('overall',FloatType(),True),  # Changed to FloatType from StringType\n",
    "    StructField('vote',StringType(),True),  \n",
    "    StructField('verified',BooleanType(),True),  \n",
    "    StructField('reviewTime',StringType(),True),  \n",
    "    StructField('reviewerID',StringType(),True),  \n",
    "    StructField('asin',StringType(),True),  \n",
    "    StructField('style',StructType([StructField('Format:',StringType(),True)]),True),  \n",
    "    StructField('reviewerName',StringType(),True),  \n",
    "    StructField('reviewText',StringType(),True),  \n",
    "    StructField('summary',StringType(),True),  \n",
    "    StructField('unixReviewTime',IntegerType(),True)])"
   ]
  },
  {
   "attachments": {},
   "cell_type": "markdown",
   "metadata": {},
   "source": [
    "Use schema so spark does not have to infer:"
   ]
  },
  {
   "cell_type": "code",
   "execution_count": 25,
   "metadata": {},
   "outputs": [
    {
     "name": "stdout",
     "output_type": "stream",
     "text": [
      "root\n",
      " |-- overall: float (nullable = true)\n",
      " |-- vote: string (nullable = true)\n",
      " |-- verified: boolean (nullable = true)\n",
      " |-- reviewTime: string (nullable = true)\n",
      " |-- reviewerID: string (nullable = true)\n",
      " |-- asin: string (nullable = true)\n",
      " |-- style: struct (nullable = true)\n",
      " |    |-- Format:: string (nullable = true)\n",
      " |-- reviewerName: string (nullable = true)\n",
      " |-- reviewText: string (nullable = true)\n",
      " |-- summary: string (nullable = true)\n",
      " |-- unixReviewTime: integer (nullable = true)\n",
      "\n"
     ]
    }
   ],
   "source": [
    "# 5 core electronics data\n",
    "e5_core_df = spark \\\n",
    "    .read \\\n",
    "    .json(\"Electronics_5.json\", schema = schema)\n",
    "\n",
    "e5_core_df.printSchema()"
   ]
  },
  {
   "attachments": {},
   "cell_type": "markdown",
   "metadata": {},
   "source": [
    "Show data:"
   ]
  },
  {
   "cell_type": "code",
   "execution_count": 26,
   "metadata": {},
   "outputs": [
    {
     "name": "stdout",
     "output_type": "stream",
     "text": [
      "+-------+----+--------+-----------+--------------+----------+-----------------+--------------------+--------------------+--------------------+--------------+\n",
      "|overall|vote|verified| reviewTime|    reviewerID|      asin|            style|        reviewerName|          reviewText|             summary|unixReviewTime|\n",
      "+-------+----+--------+-----------+--------------+----------+-----------------+--------------------+--------------------+--------------------+--------------+\n",
      "|    5.0|  67|    true|09 18, 1999| AAP7PPBU72QFM|0151004714|     { Hardcover}|        D. C. Carrad|This is the best ...|      A star is born|     937612800|\n",
      "|    3.0|   5|    true|10 23, 2013|A2E168DTVGE6SV|0151004714|{ Kindle Edition}|                 Evy|Pages and pages o...|A stream of consc...|    1382486400|\n",
      "|    5.0|   4|   false| 09 2, 2008|A1ER5AYS3FQ9O3|0151004714|     { Paperback}|               Kcorn|This is the kind ...|I'm a huge fan of...|    1220313600|\n",
      "|    5.0|  13|   false| 09 4, 2000|A1T17LMQABMBN5|0151004714|     { Hardcover}|     Caf Girl Writes|What gorgeous lan...|The most beautifu...|     968025600|\n",
      "|    3.0|   8|    true| 02 4, 2000|A3QHJ0FXK33OBE|0151004714|     { Hardcover}|    W. Shane Schmidt|I was taken in by...|A dissenting view...|     949622400|\n",
      "|    4.0|null|    true| 06 5, 2013|A3IYSOTP3HA77N|0380709473|{ Kindle Edition}|            B. Marks|I read this proba...|Above average mys...|    1370390400|\n",
      "|    5.0|null|    true|06 27, 2016|A11SXV34PZUQ5E|0380709473|{ Kindle Edition}|              Tom C.|I read every Perr...|        Lam is cool!|    1466985600|\n",
      "|    5.0|null|    true|07 30, 2015|A2AUQM1HT2D5T8|0380709473|{ Kindle Edition}|                 ema|I love this serie...|          Five Stars|    1438214400|\n",
      "|    5.0|null|    true|02 16, 2015|A3UD8JRWLX6SRX|0380709473|     { Paperback}|          Michael O.|         Great read!|          Five Stars|    1424044800|\n",
      "|    4.0|null|   false|11 21, 2013|A3MV1KKHX51FYT|0380709473|     { Paperback}|      Acute Observer|Crows Can't Count...|A Fast and Far Mo...|    1384992000|\n",
      "|    5.0|null|   false|07 14, 2009|A3LXXYBYUHZWS5|0446697192|     { Paperback}|        Monie Garcia|Fresh from Connec...|    A quick fun read|    1247529600|\n",
      "|    5.0|null|   false|07 10, 2009|A1X4L7AO1BXMHK|0446697192|     { Paperback}|             Deborah|I don't know abou...|  A Great Beach Read|    1247184000|\n",
      "|    3.0|null|   false| 09 2, 2009|A1Y9RUTH5GG3MU|0446697192|     { Paperback}|            D. Quinn|Obviously the pre...|Quick & fun summe...|    1251849600|\n",
      "|    4.0|null|   false|08 30, 2009| AAR8E3JF9K93P|0446697192|     { Paperback}|                Tina|I am very happy t...|Perfect beach/end...|    1251590400|\n",
      "|    4.0|   2|   false|07 29, 2009|A277GP2U2TXH51|0446697192|     { Paperback}|           grumpydan|\"Hollywood is Lik...|    Funny and Quirky|    1248825600|\n",
      "|    4.0|null|   false|07 28, 2009|A19KLUZ1XD3SRN|0446697192|     { Paperback}|Gaby at Starting ...|Synopsis:\\n\\nTayl...|Fun, satisfying, ...|    1248739200|\n",
      "|    2.0|  12|   false|04 14, 2014|A3J3BRHTDRFJ2G|0511189877|             null|            EJ Honda|This remote, for ...| Ergonomic nightmare|    1397433600|\n",
      "|    5.0|null|    true|05 31, 2017| A7362LXMQEM6W|0511189877|             null|      Online shopper|Worked out of the...|     Paid full price|    1496188800|\n",
      "|    2.0|null|   false|11 11, 2016| A2OSUEZJIN7BI|0511189877|             null|               Chris|I have an older U...|        Cannot Learn|    1478822400|\n",
      "|    5.0|null|   false|10 29, 2016|A1917RO9OGLVT9|0511189877|             null|             Spicoli|        Works great!|          Five Stars|    1477699200|\n",
      "+-------+----+--------+-----------+--------------+----------+-----------------+--------------------+--------------------+--------------------+--------------+\n",
      "only showing top 20 rows\n",
      "\n"
     ]
    }
   ],
   "source": [
    "e5_core_df.show()"
   ]
  },
  {
   "attachments": {},
   "cell_type": "markdown",
   "metadata": {},
   "source": [
    "Check partitions:"
   ]
  },
  {
   "cell_type": "code",
   "execution_count": 27,
   "metadata": {},
   "outputs": [
    {
     "data": {
      "text/plain": [
       "32"
      ]
     },
     "execution_count": 27,
     "metadata": {},
     "output_type": "execute_result"
    }
   ],
   "source": [
    "e5_core_df.rdd.getNumPartitions()"
   ]
  },
  {
   "attachments": {},
   "cell_type": "markdown",
   "metadata": {},
   "source": [
    "Check shape:"
   ]
  },
  {
   "cell_type": "code",
   "execution_count": 28,
   "metadata": {},
   "outputs": [
    {
     "name": "stderr",
     "output_type": "stream",
     "text": [
      "[Stage 39:===========================================>            (25 + 7) / 32]\r"
     ]
    },
    {
     "name": "stdout",
     "output_type": "stream",
     "text": [
      "(6739590, 11)\n"
     ]
    },
    {
     "name": "stderr",
     "output_type": "stream",
     "text": [
      "                                                                                \r"
     ]
    }
   ],
   "source": [
    "print((e5_core_df.count(), len(e5_core_df.columns)))"
   ]
  },
  {
   "attachments": {},
   "cell_type": "markdown",
   "metadata": {},
   "source": [
    "Same number of rows as described on dataset website. Now to pick the columns that we want:"
   ]
  },
  {
   "cell_type": "code",
   "execution_count": 29,
   "metadata": {},
   "outputs": [
    {
     "name": "stdout",
     "output_type": "stream",
     "text": [
      "+----------+-------+--------------+--------------+--------------------+\n",
      "|      asin|overall|unixReviewTime|    reviewerID|          reviewText|\n",
      "+----------+-------+--------------+--------------+--------------------+\n",
      "|0151004714|    5.0|     937612800| AAP7PPBU72QFM|This is the best ...|\n",
      "|0151004714|    3.0|    1382486400|A2E168DTVGE6SV|Pages and pages o...|\n",
      "|0151004714|    5.0|    1220313600|A1ER5AYS3FQ9O3|This is the kind ...|\n",
      "|0151004714|    5.0|     968025600|A1T17LMQABMBN5|What gorgeous lan...|\n",
      "|0151004714|    3.0|     949622400|A3QHJ0FXK33OBE|I was taken in by...|\n",
      "|0380709473|    4.0|    1370390400|A3IYSOTP3HA77N|I read this proba...|\n",
      "|0380709473|    5.0|    1466985600|A11SXV34PZUQ5E|I read every Perr...|\n",
      "|0380709473|    5.0|    1438214400|A2AUQM1HT2D5T8|I love this serie...|\n",
      "|0380709473|    5.0|    1424044800|A3UD8JRWLX6SRX|         Great read!|\n",
      "|0380709473|    4.0|    1384992000|A3MV1KKHX51FYT|Crows Can't Count...|\n",
      "|0446697192|    5.0|    1247529600|A3LXXYBYUHZWS5|Fresh from Connec...|\n",
      "|0446697192|    5.0|    1247184000|A1X4L7AO1BXMHK|I don't know abou...|\n",
      "|0446697192|    3.0|    1251849600|A1Y9RUTH5GG3MU|Obviously the pre...|\n",
      "|0446697192|    4.0|    1251590400| AAR8E3JF9K93P|I am very happy t...|\n",
      "|0446697192|    4.0|    1248825600|A277GP2U2TXH51|\"Hollywood is Lik...|\n",
      "|0446697192|    4.0|    1248739200|A19KLUZ1XD3SRN|Synopsis:\\n\\nTayl...|\n",
      "|0511189877|    2.0|    1397433600|A3J3BRHTDRFJ2G|This remote, for ...|\n",
      "|0511189877|    5.0|    1496188800| A7362LXMQEM6W|Worked out of the...|\n",
      "|0511189877|    2.0|    1478822400| A2OSUEZJIN7BI|I have an older U...|\n",
      "|0511189877|    5.0|    1477699200|A1917RO9OGLVT9|        Works great!|\n",
      "+----------+-------+--------------+--------------+--------------------+\n",
      "only showing top 20 rows\n",
      "\n"
     ]
    }
   ],
   "source": [
    "cols_to_use = ['asin', 'overall', 'unixReviewTime', 'reviewerID', 'reviewText']\n",
    "e5_core_df = e5_core_df.select(cols_to_use)\n",
    "e5_core_df.show()"
   ]
  },
  {
   "attachments": {},
   "cell_type": "markdown",
   "metadata": {},
   "source": [
    "\n",
    "Next up is to merge price with the data subset on `asin`."
   ]
  },
  {
   "attachments": {},
   "cell_type": "markdown",
   "metadata": {},
   "source": [
    "### Merge data (primary key = asin)"
   ]
  },
  {
   "attachments": {},
   "cell_type": "markdown",
   "metadata": {},
   "source": [
    "Left join to get meta data:"
   ]
  },
  {
   "cell_type": "code",
   "execution_count": 63,
   "metadata": {},
   "outputs": [
    {
     "name": "stderr",
     "output_type": "stream",
     "text": [
      "[Stage 239:=======================================================(82 + 0) / 82]\r"
     ]
    },
    {
     "name": "stdout",
     "output_type": "stream",
     "text": [
      "+----------+-------+--------------+--------------+--------------------+--------------------+------------------+-------+--------------------+\n",
      "|      asin|overall|unixReviewTime|    reviewerID|          reviewText|               brand|          main_cat|  price|               title|\n",
      "+----------+-------+--------------+--------------+--------------------+--------------------+------------------+-------+--------------------+\n",
      "|0446697192|    5.0|    1247529600|A3LXXYBYUHZWS5|Fresh from Connec...|Visit Amazon's Zo...|             Books| $17.99|Hollywood Is like...|\n",
      "|0446697192|    5.0|    1247184000|A1X4L7AO1BXMHK|I don't know abou...|Visit Amazon's Zo...|             Books| $17.99|Hollywood Is like...|\n",
      "|0446697192|    3.0|    1251849600|A1Y9RUTH5GG3MU|Obviously the pre...|Visit Amazon's Zo...|             Books| $17.99|Hollywood Is like...|\n",
      "|0446697192|    4.0|    1251590400| AAR8E3JF9K93P|I am very happy t...|Visit Amazon's Zo...|             Books| $17.99|Hollywood Is like...|\n",
      "|0446697192|    4.0|    1248825600|A277GP2U2TXH51|\"Hollywood is Lik...|Visit Amazon's Zo...|             Books| $17.99|Hollywood Is like...|\n",
      "|0446697192|    4.0|    1248739200|A19KLUZ1XD3SRN|Synopsis:\\n\\nTayl...|Visit Amazon's Zo...|             Books| $17.99|Hollywood Is like...|\n",
      "|B000NOEDGK|    5.0|    1378339200|A195EZSQDW3E21|Few electronic pr...|               Nikon|Camera &amp; Photo|$189.99|Nikon D40x 10.2MP...|\n",
      "|B000NOEDGK|    5.0|    1371945600|A31AX66K0TX9RE|I got this item f...|               Nikon|Camera &amp; Photo|$189.99|Nikon D40x 10.2MP...|\n",
      "|B000NOEDGK|    5.0|    1369872000| A1SQ6W1WC94E4|After using my D4...|               Nikon|Camera &amp; Photo|$189.99|Nikon D40x 10.2MP...|\n",
      "|B000NOEDGK|    5.0|    1363132800|A2FLZMVFJS231L|I've had this cam...|               Nikon|Camera &amp; Photo|$189.99|Nikon D40x 10.2MP...|\n",
      "|B000NOEDGK|    5.0|    1314057600| A4EOR1UV8KU93|This is my second...|               Nikon|Camera &amp; Photo|$189.99|Nikon D40x 10.2MP...|\n",
      "|B000NOEDGK|    1.0|    1311379200|A24YECGN7T5C98|My camera never w...|               Nikon|Camera &amp; Photo|$189.99|Nikon D40x 10.2MP...|\n",
      "|B000NOEDGK|    4.0|    1288224000|A1KKKKEPUETSGS|Light weight easy...|               Nikon|Camera &amp; Photo|$189.99|Nikon D40x 10.2MP...|\n",
      "|B000NOEDGK|    5.0|    1286841600| A27BPO6VUGDGR|                bien|               Nikon|Camera &amp; Photo|$189.99|Nikon D40x 10.2MP...|\n",
      "|B000NOEDGK|    5.0|    1257206400|A2NVQZ4Y7Y0J1R|The D40x has been...|               Nikon|Camera &amp; Photo|$189.99|Nikon D40x 10.2MP...|\n",
      "|B00361EZUQ|    3.0|    1288656000| ASRMT0X0G4UU2|I ordered a i5 im...|               Apple|         Computers|$277.00|Apple iMac MC509L...|\n",
      "|B00361EZUQ|    4.0|    1287878400|A3LB9PHFGNDC4B|This iMac replace...|               Apple|         Computers|$277.00|Apple iMac MC509L...|\n",
      "|B00361EZUQ|    5.0|    1285977600| ANW52NKL43W1S|I do a lot of pho...|               Apple|         Computers|$277.00|Apple iMac MC509L...|\n",
      "|B00361EZUQ|    5.0|    1283731200| A36C22168X6UQ|After 25+ years o...|               Apple|         Computers|$277.00|Apple iMac MC509L...|\n",
      "|B00361EZUQ|    4.0|    1283731200|A1JUBRIZMO0RJV|I anxiously await...|               Apple|         Computers|$277.00|Apple iMac MC509L...|\n",
      "+----------+-------+--------------+--------------+--------------------+--------------------+------------------+-------+--------------------+\n",
      "only showing top 20 rows\n",
      "\n"
     ]
    },
    {
     "name": "stderr",
     "output_type": "stream",
     "text": [
      "                                                                                \r"
     ]
    }
   ],
   "source": [
    "elect_df = e5_core_df.join(meta_elect_df, on = 'asin', how = 'left')\n",
    "elect_df.show()\n",
    "# print('5 core dataset: ', (e5_core_df.count(), len(e5_core_df.columns)))\n",
    "# print('Joined dataset: ', (elect_df.count(), len(elect_df.columns)))"
   ]
  },
  {
   "attachments": {},
   "cell_type": "markdown",
   "metadata": {},
   "source": [
    "Check for missing values (takes a few minutes):"
   ]
  },
  {
   "cell_type": "code",
   "execution_count": 20,
   "metadata": {},
   "outputs": [
    {
     "name": "stderr",
     "output_type": "stream",
     "text": [
      "[Stage 23:======================================================> (31 + 1) / 32]\r"
     ]
    },
    {
     "name": "stdout",
     "output_type": "stream",
     "text": [
      "+----+-------+----------+----------+----------+-------+--------+-------+-------+\n",
      "|asin|overall|reviewTime|reviewerID|reviewText|  brand|main_cat|  price|  title|\n",
      "+----+-------+----------+----------+----------+-------+--------+-------+-------+\n",
      "|   0|      0|         0|         0|      1380|2389218| 2389218|2389218|2389218|\n",
      "+----+-------+----------+----------+----------+-------+--------+-------+-------+\n",
      "\n"
     ]
    },
    {
     "name": "stderr",
     "output_type": "stream",
     "text": [
      "                                                                                \r"
     ]
    }
   ],
   "source": [
    "# elect_df.select([count(when(isnan(c) | col(c).isNull(), c)).alias(c) for c in elect_df.columns]\n",
    "#    ).show()"
   ]
  },
  {
   "attachments": {},
   "cell_type": "markdown",
   "metadata": {},
   "source": [
    "Drop any rows with missing values."
   ]
  },
  {
   "cell_type": "code",
   "execution_count": 64,
   "metadata": {},
   "outputs": [],
   "source": [
    "elect_df = elect_df.na.drop()"
   ]
  },
  {
   "cell_type": "code",
   "execution_count": 22,
   "metadata": {},
   "outputs": [
    {
     "name": "stderr",
     "output_type": "stream",
     "text": [
      "                                                                                \r"
     ]
    },
    {
     "name": "stdout",
     "output_type": "stream",
     "text": [
      "+----+-------+----------+----------+----------+-----+--------+-----+-----+\n",
      "|asin|overall|reviewTime|reviewerID|reviewText|brand|main_cat|price|title|\n",
      "+----+-------+----------+----------+----------+-----+--------+-----+-----+\n",
      "|   0|      0|         0|         0|         0|    0|       0|    0|    0|\n",
      "+----+-------+----------+----------+----------+-----+--------+-----+-----+\n",
      "\n"
     ]
    }
   ],
   "source": [
    "# elect_df.select([count(when(isnan(c) | col(c).isNull(), c)).alias(c) for c in elect_df.columns]\n",
    "#    ).show()"
   ]
  },
  {
   "attachments": {},
   "cell_type": "markdown",
   "metadata": {},
   "source": [
    "No nulls (took a long time. Almost 10 mins!)"
   ]
  },
  {
   "attachments": {},
   "cell_type": "markdown",
   "metadata": {},
   "source": [
    "### Clean dates (unixreviewTime):"
   ]
  },
  {
   "cell_type": "code",
   "execution_count": 66,
   "metadata": {},
   "outputs": [
    {
     "name": "stderr",
     "output_type": "stream",
     "text": [
      "[Stage 244:======================================================>(81 + 1) / 82]\r"
     ]
    },
    {
     "name": "stdout",
     "output_type": "stream",
     "text": [
      "+----------+-------+--------------+--------------+--------------------+--------------------+---------+------+--------------------+----+-----+\n",
      "|      asin|overall|unixReviewTime|    reviewerID|          reviewText|               brand| main_cat| price|               title|year|month|\n",
      "+----------+-------+--------------+--------------+--------------------+--------------------+---------+------+--------------------+----+-----+\n",
      "|0446697192|    5.0|    2009-07-13|A3LXXYBYUHZWS5|Fresh from Connec...|Visit Amazon's Zo...|    Books|$17.99|Hollywood Is like...|2009|    7|\n",
      "|0446697192|    5.0|    2009-07-09|A1X4L7AO1BXMHK|I don't know abou...|Visit Amazon's Zo...|    Books|$17.99|Hollywood Is like...|2009|    7|\n",
      "|0446697192|    3.0|    2009-09-01|A1Y9RUTH5GG3MU|Obviously the pre...|Visit Amazon's Zo...|    Books|$17.99|Hollywood Is like...|2009|    9|\n",
      "|0446697192|    4.0|    2009-08-29| AAR8E3JF9K93P|I am very happy t...|Visit Amazon's Zo...|    Books|$17.99|Hollywood Is like...|2009|    8|\n",
      "|0446697192|    4.0|    2009-07-28|A277GP2U2TXH51|\"Hollywood is Lik...|Visit Amazon's Zo...|    Books|$17.99|Hollywood Is like...|2009|    7|\n",
      "|0446697192|    4.0|    2009-07-27|A19KLUZ1XD3SRN|Synopsis:\\n\\nTayl...|Visit Amazon's Zo...|    Books|$17.99|Hollywood Is like...|2009|    7|\n",
      "|0446697192|    4.0|    2012-03-23|A1A8QJ282YIUQ0|Why I read It\\nI ...|Visit Amazon's Zo...|    Books|$17.99|Hollywood Is like...|2012|    3|\n",
      "|0446697192|    2.0|    2012-01-16|A1WQX8VFYHPO4P|I should have rea...|Visit Amazon's Zo...|    Books|$17.99|Hollywood Is like...|2012|    1|\n",
      "|0446697192|    4.0|    2011-03-30|A3TAF7M58DN46F|Taylor Henning's ...|Visit Amazon's Zo...|    Books|$17.99|Hollywood Is like...|2011|    3|\n",
      "|0446697192|    4.0|    2011-03-25| AX9C10JD538D9|My confession: I'...|Visit Amazon's Zo...|    Books|$17.99|Hollywood Is like...|2011|    3|\n",
      "|0446697192|    3.0|    2010-12-12|A2UAM0ITC30078|I have mixed feel...|Visit Amazon's Zo...|    Books|$17.99|Hollywood Is like...|2010|   12|\n",
      "|1432704869|    1.0|    2013-09-28|A2DQWWJ2HYR5C0|Starts with a gra...|Visit Amazon's Le...|    Books| $9.99|Predators of Dark...|2013|    9|\n",
      "|1432704869|    5.0|    2013-06-06|A3D0MHNQMGK1E1|A missle attack i...|Visit Amazon's Le...|    Books| $9.99|Predators of Dark...|2013|    6|\n",
      "|1432704869|    5.0|    2011-07-25|A18OJH46CSHJR4|There is so much ...|Visit Amazon's Le...|    Books| $9.99|Predators of Dark...|2011|    7|\n",
      "|1432704869|    3.0|    2011-04-09|A1TZWECB1JZLKY|I was given the o...|Visit Amazon's Le...|    Books| $9.99|Predators of Dark...|2011|    4|\n",
      "|1432704869|    5.0|    2011-03-15|A3ABPSWQZDPHI7|I read the first ...|Visit Amazon's Le...|    Books| $9.99|Predators of Dark...|2011|    3|\n",
      "|1432704869|    5.0|    2010-09-16| A2Y8FNMWA9A1R|Predators of Dark...|Visit Amazon's Le...|    Books| $9.99|Predators of Dark...|2010|    9|\n",
      "|6465354276|    5.0|    2013-05-29|A1JN3EDWKQ4BA5|Spectacular nice ...|               Panda|Computers| $8.99|New Style 8GB Cry...|2013|    5|\n",
      "|6465354276|    5.0|    2015-09-15|A2IUDAA88NMMMO|  Pretty for a while|               Panda|Computers| $8.99|New Style 8GB Cry...|2015|    9|\n",
      "|6465354276|    5.0|    2014-09-03|A2SGNSJA9V6UGX|         no complain|               Panda|Computers| $8.99|New Style 8GB Cry...|2014|    9|\n",
      "+----------+-------+--------------+--------------+--------------------+--------------------+---------+------+--------------------+----+-----+\n",
      "only showing top 20 rows\n",
      "\n"
     ]
    },
    {
     "name": "stderr",
     "output_type": "stream",
     "text": [
      "                                                                                \r"
     ]
    }
   ],
   "source": [
    "elect_df = elect_df \\\n",
    "    .withColumn('unixReviewTime', from_unixtime(col(\"unixReviewTime\"),\"MM-dd-yyyy\")) \\\n",
    "    .withColumn('unixReviewTime', to_date(col(\"unixReviewTime\"),\"MM-dd-yyyy\")) \\\n",
    "    .withColumn('year', year(\"unixReviewTime\")) \\\n",
    "    .withColumn('month', month(\"unixReviewTime\"))\n",
    "\n",
    "elect_df.show()"
   ]
  },
  {
   "attachments": {},
   "cell_type": "markdown",
   "metadata": {},
   "source": [
    "### Clean Price"
   ]
  },
  {
   "cell_type": "code",
   "execution_count": 72,
   "metadata": {},
   "outputs": [
    {
     "name": "stdout",
     "output_type": "stream",
     "text": [
      "root\n",
      " |-- asin: string (nullable = true)\n",
      " |-- overall: float (nullable = true)\n",
      " |-- unixReviewTime: date (nullable = true)\n",
      " |-- reviewerID: string (nullable = true)\n",
      " |-- reviewText: string (nullable = true)\n",
      " |-- brand: string (nullable = true)\n",
      " |-- main_cat: string (nullable = true)\n",
      " |-- price: double (nullable = true)\n",
      " |-- title: string (nullable = true)\n",
      " |-- year: integer (nullable = true)\n",
      " |-- month: integer (nullable = true)\n",
      "\n"
     ]
    },
    {
     "name": "stderr",
     "output_type": "stream",
     "text": [
      "                                                                                \r"
     ]
    },
    {
     "name": "stdout",
     "output_type": "stream",
     "text": [
      "+----------+-------+--------------+--------------+--------------------+--------------------+---------+-----+--------------------+----+-----+\n",
      "|      asin|overall|unixReviewTime|    reviewerID|          reviewText|               brand| main_cat|price|               title|year|month|\n",
      "+----------+-------+--------------+--------------+--------------------+--------------------+---------+-----+--------------------+----+-----+\n",
      "|0446697192|    5.0|    2009-07-13|A3LXXYBYUHZWS5|Fresh from Connec...|Visit Amazon's Zo...|    Books|17.99|Hollywood Is like...|2009|    7|\n",
      "|0446697192|    5.0|    2009-07-09|A1X4L7AO1BXMHK|I don't know abou...|Visit Amazon's Zo...|    Books|17.99|Hollywood Is like...|2009|    7|\n",
      "|0446697192|    3.0|    2009-09-01|A1Y9RUTH5GG3MU|Obviously the pre...|Visit Amazon's Zo...|    Books|17.99|Hollywood Is like...|2009|    9|\n",
      "|0446697192|    4.0|    2009-08-29| AAR8E3JF9K93P|I am very happy t...|Visit Amazon's Zo...|    Books|17.99|Hollywood Is like...|2009|    8|\n",
      "|0446697192|    4.0|    2009-07-28|A277GP2U2TXH51|\"Hollywood is Lik...|Visit Amazon's Zo...|    Books|17.99|Hollywood Is like...|2009|    7|\n",
      "|0446697192|    4.0|    2009-07-27|A19KLUZ1XD3SRN|Synopsis:\\n\\nTayl...|Visit Amazon's Zo...|    Books|17.99|Hollywood Is like...|2009|    7|\n",
      "|0446697192|    4.0|    2012-03-23|A1A8QJ282YIUQ0|Why I read It\\nI ...|Visit Amazon's Zo...|    Books|17.99|Hollywood Is like...|2012|    3|\n",
      "|0446697192|    2.0|    2012-01-16|A1WQX8VFYHPO4P|I should have rea...|Visit Amazon's Zo...|    Books|17.99|Hollywood Is like...|2012|    1|\n",
      "|0446697192|    4.0|    2011-03-30|A3TAF7M58DN46F|Taylor Henning's ...|Visit Amazon's Zo...|    Books|17.99|Hollywood Is like...|2011|    3|\n",
      "|0446697192|    4.0|    2011-03-25| AX9C10JD538D9|My confession: I'...|Visit Amazon's Zo...|    Books|17.99|Hollywood Is like...|2011|    3|\n",
      "|0446697192|    3.0|    2010-12-12|A2UAM0ITC30078|I have mixed feel...|Visit Amazon's Zo...|    Books|17.99|Hollywood Is like...|2010|   12|\n",
      "|1432704869|    1.0|    2013-09-28|A2DQWWJ2HYR5C0|Starts with a gra...|Visit Amazon's Le...|    Books| 9.99|Predators of Dark...|2013|    9|\n",
      "|1432704869|    5.0|    2013-06-06|A3D0MHNQMGK1E1|A missle attack i...|Visit Amazon's Le...|    Books| 9.99|Predators of Dark...|2013|    6|\n",
      "|1432704869|    5.0|    2011-07-25|A18OJH46CSHJR4|There is so much ...|Visit Amazon's Le...|    Books| 9.99|Predators of Dark...|2011|    7|\n",
      "|1432704869|    3.0|    2011-04-09|A1TZWECB1JZLKY|I was given the o...|Visit Amazon's Le...|    Books| 9.99|Predators of Dark...|2011|    4|\n",
      "|1432704869|    5.0|    2011-03-15|A3ABPSWQZDPHI7|I read the first ...|Visit Amazon's Le...|    Books| 9.99|Predators of Dark...|2011|    3|\n",
      "|1432704869|    5.0|    2010-09-16| A2Y8FNMWA9A1R|Predators of Dark...|Visit Amazon's Le...|    Books| 9.99|Predators of Dark...|2010|    9|\n",
      "|6465354276|    5.0|    2013-05-29|A1JN3EDWKQ4BA5|Spectacular nice ...|               Panda|Computers| 8.99|New Style 8GB Cry...|2013|    5|\n",
      "|6465354276|    5.0|    2015-09-15|A2IUDAA88NMMMO|  Pretty for a while|               Panda|Computers| 8.99|New Style 8GB Cry...|2015|    9|\n",
      "|6465354276|    5.0|    2014-09-03|A2SGNSJA9V6UGX|         no complain|               Panda|Computers| 8.99|New Style 8GB Cry...|2014|    9|\n",
      "+----------+-------+--------------+--------------+--------------------+--------------------+---------+-----+--------------------+----+-----+\n",
      "only showing top 20 rows\n",
      "\n"
     ]
    }
   ],
   "source": [
    "elect_df = elect_df.withColumn('price', regexp_replace('price', '[$,]', '').cast('double'))\n",
    "elect_df.printSchema()\n",
    "elect_df.show()"
   ]
  },
  {
   "attachments": {},
   "cell_type": "markdown",
   "metadata": {},
   "source": [
    "### A bit of exploration"
   ]
  },
  {
   "attachments": {},
   "cell_type": "markdown",
   "metadata": {},
   "source": [
    "Dimension check (after dropping missing data):"
   ]
  },
  {
   "cell_type": "code",
   "execution_count": 40,
   "metadata": {},
   "outputs": [
    {
     "name": "stderr",
     "output_type": "stream",
     "text": [
      "[Stage 77:=============================================>          (26 + 6) / 32]\r"
     ]
    },
    {
     "name": "stdout",
     "output_type": "stream",
     "text": [
      "# rows =  4585331\n"
     ]
    },
    {
     "name": "stderr",
     "output_type": "stream",
     "text": [
      "                                                                                \r"
     ]
    }
   ],
   "source": [
    "print(\"# rows: \", elect_df.count())"
   ]
  },
  {
   "attachments": {},
   "cell_type": "markdown",
   "metadata": {},
   "source": [
    "Down from 6.7mil datapoints to 4.5mil."
   ]
  },
  {
   "attachments": {},
   "cell_type": "markdown",
   "metadata": {},
   "source": [
    "How many unique items are there?"
   ]
  },
  {
   "cell_type": "code",
   "execution_count": 41,
   "metadata": {},
   "outputs": [
    {
     "name": "stderr",
     "output_type": "stream",
     "text": [
      "                                                                                \r"
     ]
    },
    {
     "data": {
      "text/plain": [
       "78133"
      ]
     },
     "execution_count": 41,
     "metadata": {},
     "output_type": "execute_result"
    }
   ],
   "source": [
    "elect_df.select('asin').distinct().count()"
   ]
  },
  {
   "attachments": {},
   "cell_type": "markdown",
   "metadata": {},
   "source": [
    "How many unique customers?"
   ]
  },
  {
   "cell_type": "code",
   "execution_count": 42,
   "metadata": {},
   "outputs": [
    {
     "name": "stderr",
     "output_type": "stream",
     "text": [
      "                                                                                \r"
     ]
    },
    {
     "data": {
      "text/plain": [
       "722689"
      ]
     },
     "execution_count": 42,
     "metadata": {},
     "output_type": "execute_result"
    }
   ],
   "source": [
    "elect_df.select('reviewerID').distinct().count()"
   ]
  },
  {
   "attachments": {},
   "cell_type": "markdown",
   "metadata": {},
   "source": [
    "725K unique customers..."
   ]
  },
  {
   "cell_type": "code",
   "execution_count": 43,
   "metadata": {},
   "outputs": [
    {
     "name": "stdout",
     "output_type": "stream",
     "text": [
      "Columns overview\n"
     ]
    },
    {
     "data": {
      "text/html": [
       "<div>\n",
       "<style scoped>\n",
       "    .dataframe tbody tr th:only-of-type {\n",
       "        vertical-align: middle;\n",
       "    }\n",
       "\n",
       "    .dataframe tbody tr th {\n",
       "        vertical-align: top;\n",
       "    }\n",
       "\n",
       "    .dataframe thead th {\n",
       "        text-align: right;\n",
       "    }\n",
       "</style>\n",
       "<table border=\"1\" class=\"dataframe\">\n",
       "  <thead>\n",
       "    <tr style=\"text-align: right;\">\n",
       "      <th></th>\n",
       "      <th>Column Name</th>\n",
       "      <th>Data type</th>\n",
       "    </tr>\n",
       "  </thead>\n",
       "  <tbody>\n",
       "    <tr>\n",
       "      <th>0</th>\n",
       "      <td>asin</td>\n",
       "      <td>string</td>\n",
       "    </tr>\n",
       "    <tr>\n",
       "      <th>1</th>\n",
       "      <td>overall</td>\n",
       "      <td>float</td>\n",
       "    </tr>\n",
       "    <tr>\n",
       "      <th>2</th>\n",
       "      <td>unixReviewTime</td>\n",
       "      <td>string</td>\n",
       "    </tr>\n",
       "    <tr>\n",
       "      <th>3</th>\n",
       "      <td>reviewerID</td>\n",
       "      <td>string</td>\n",
       "    </tr>\n",
       "    <tr>\n",
       "      <th>4</th>\n",
       "      <td>reviewText</td>\n",
       "      <td>string</td>\n",
       "    </tr>\n",
       "    <tr>\n",
       "      <th>5</th>\n",
       "      <td>brand</td>\n",
       "      <td>string</td>\n",
       "    </tr>\n",
       "    <tr>\n",
       "      <th>6</th>\n",
       "      <td>main_cat</td>\n",
       "      <td>string</td>\n",
       "    </tr>\n",
       "    <tr>\n",
       "      <th>7</th>\n",
       "      <td>price</td>\n",
       "      <td>string</td>\n",
       "    </tr>\n",
       "    <tr>\n",
       "      <th>8</th>\n",
       "      <td>title</td>\n",
       "      <td>string</td>\n",
       "    </tr>\n",
       "  </tbody>\n",
       "</table>\n",
       "</div>"
      ],
      "text/plain": [
       "      Column Name Data type\n",
       "0            asin    string\n",
       "1         overall     float\n",
       "2  unixReviewTime    string\n",
       "3      reviewerID    string\n",
       "4      reviewText    string\n",
       "5           brand    string\n",
       "6        main_cat    string\n",
       "7           price    string\n",
       "8           title    string"
      ]
     },
     "execution_count": 43,
     "metadata": {},
     "output_type": "execute_result"
    }
   ],
   "source": [
    "print('Columns overview')\n",
    "pd.DataFrame(elect_df.dtypes, columns = ['Column Name','Data type'])"
   ]
  },
  {
   "attachments": {},
   "cell_type": "markdown",
   "metadata": {},
   "source": [
    "What are the frequency of item by category? (Customer Segment?)"
   ]
  },
  {
   "cell_type": "code",
   "execution_count": 44,
   "metadata": {},
   "outputs": [
    {
     "name": "stderr",
     "output_type": "stream",
     "text": [
      "23/06/07 18:21:39 WARN RowBasedKeyValueBatch: Calling spill() on RowBasedKeyValueBatch. Will not spill but return 0.\n",
      "23/06/07 18:21:39 WARN RowBasedKeyValueBatch: Calling spill() on RowBasedKeyValueBatch. Will not spill but return 0.\n",
      "23/06/07 18:21:39 WARN RowBasedKeyValueBatch: Calling spill() on RowBasedKeyValueBatch. Will not spill but return 0.\n",
      "23/06/07 18:21:39 WARN RowBasedKeyValueBatch: Calling spill() on RowBasedKeyValueBatch. Will not spill but return 0.\n",
      "23/06/07 18:21:39 WARN RowBasedKeyValueBatch: Calling spill() on RowBasedKeyValueBatch. Will not spill but return 0.\n",
      "23/06/07 18:21:39 WARN RowBasedKeyValueBatch: Calling spill() on RowBasedKeyValueBatch. Will not spill but return 0.\n",
      "23/06/07 18:21:39 WARN RowBasedKeyValueBatch: Calling spill() on RowBasedKeyValueBatch. Will not spill but return 0.\n",
      "23/06/07 18:21:39 WARN RowBasedKeyValueBatch: Calling spill() on RowBasedKeyValueBatch. Will not spill but return 0.\n",
      "23/06/07 18:21:39 WARN RowBasedKeyValueBatch: Calling spill() on RowBasedKeyValueBatch. Will not spill but return 0.\n",
      "23/06/07 18:21:39 WARN RowBasedKeyValueBatch: Calling spill() on RowBasedKeyValueBatch. Will not spill but return 0.\n",
      "23/06/07 18:21:39 WARN RowBasedKeyValueBatch: Calling spill() on RowBasedKeyValueBatch. Will not spill but return 0.\n",
      "23/06/07 18:21:39 WARN RowBasedKeyValueBatch: Calling spill() on RowBasedKeyValueBatch. Will not spill but return 0.\n",
      "23/06/07 18:21:40 WARN RowBasedKeyValueBatch: Calling spill() on RowBasedKeyValueBatch. Will not spill but return 0.\n",
      "23/06/07 18:21:40 WARN RowBasedKeyValueBatch: Calling spill() on RowBasedKeyValueBatch. Will not spill but return 0.\n",
      "23/06/07 18:21:40 WARN RowBasedKeyValueBatch: Calling spill() on RowBasedKeyValueBatch. Will not spill but return 0.\n",
      "23/06/07 18:21:40 WARN RowBasedKeyValueBatch: Calling spill() on RowBasedKeyValueBatch. Will not spill but return 0.\n",
      "23/06/07 18:21:44 WARN RowBasedKeyValueBatch: Calling spill() on RowBasedKeyValueBatch. Will not spill but return 0.\n",
      "23/06/07 18:21:44 WARN RowBasedKeyValueBatch: Calling spill() on RowBasedKeyValueBatch. Will not spill but return 0.\n",
      "23/06/07 18:21:44 WARN RowBasedKeyValueBatch: Calling spill() on RowBasedKeyValueBatch. Will not spill but return 0.\n",
      "23/06/07 18:21:44 WARN RowBasedKeyValueBatch: Calling spill() on RowBasedKeyValueBatch. Will not spill but return 0.\n",
      "23/06/07 18:21:44 WARN RowBasedKeyValueBatch: Calling spill() on RowBasedKeyValueBatch. Will not spill but return 0.\n",
      "23/06/07 18:21:44 WARN RowBasedKeyValueBatch: Calling spill() on RowBasedKeyValueBatch. Will not spill but return 0.\n",
      "23/06/07 18:21:44 WARN RowBasedKeyValueBatch: Calling spill() on RowBasedKeyValueBatch. Will not spill but return 0.\n",
      "23/06/07 18:21:44 WARN RowBasedKeyValueBatch: Calling spill() on RowBasedKeyValueBatch. Will not spill but return 0.\n",
      "23/06/07 18:21:45 WARN RowBasedKeyValueBatch: Calling spill() on RowBasedKeyValueBatch. Will not spill but return 0.\n",
      "23/06/07 18:21:45 WARN RowBasedKeyValueBatch: Calling spill() on RowBasedKeyValueBatch. Will not spill but return 0.\n",
      "23/06/07 18:21:45 WARN RowBasedKeyValueBatch: Calling spill() on RowBasedKeyValueBatch. Will not spill but return 0.\n",
      "23/06/07 18:21:45 WARN RowBasedKeyValueBatch: Calling spill() on RowBasedKeyValueBatch. Will not spill but return 0.\n",
      "23/06/07 18:21:45 WARN RowBasedKeyValueBatch: Calling spill() on RowBasedKeyValueBatch. Will not spill but return 0.\n",
      "23/06/07 18:21:45 WARN RowBasedKeyValueBatch: Calling spill() on RowBasedKeyValueBatch. Will not spill but return 0.\n",
      "23/06/07 18:21:45 WARN RowBasedKeyValueBatch: Calling spill() on RowBasedKeyValueBatch. Will not spill but return 0.\n",
      "23/06/07 18:21:45 WARN RowBasedKeyValueBatch: Calling spill() on RowBasedKeyValueBatch. Will not spill but return 0.\n",
      "23/06/07 18:21:48 WARN RowBasedKeyValueBatch: Calling spill() on RowBasedKeyValueBatch. Will not spill but return 0.\n",
      "23/06/07 18:21:48 WARN RowBasedKeyValueBatch: Calling spill() on RowBasedKeyValueBatch. Will not spill but return 0.\n",
      "23/06/07 18:21:48 WARN RowBasedKeyValueBatch: Calling spill() on RowBasedKeyValueBatch. Will not spill but return 0.\n",
      "23/06/07 18:21:48 WARN RowBasedKeyValueBatch: Calling spill() on RowBasedKeyValueBatch. Will not spill but return 0.\n",
      "23/06/07 18:21:48 WARN RowBasedKeyValueBatch: Calling spill() on RowBasedKeyValueBatch. Will not spill but return 0.\n",
      "23/06/07 18:21:48 WARN RowBasedKeyValueBatch: Calling spill() on RowBasedKeyValueBatch. Will not spill but return 0.\n",
      "23/06/07 18:21:48 WARN RowBasedKeyValueBatch: Calling spill() on RowBasedKeyValueBatch. Will not spill but return 0.\n",
      "23/06/07 18:21:49 WARN RowBasedKeyValueBatch: Calling spill() on RowBasedKeyValueBatch. Will not spill but return 0.\n",
      "23/06/07 18:21:49 WARN RowBasedKeyValueBatch: Calling spill() on RowBasedKeyValueBatch. Will not spill but return 0.\n",
      "23/06/07 18:21:49 WARN RowBasedKeyValueBatch: Calling spill() on RowBasedKeyValueBatch. Will not spill but return 0.\n",
      "23/06/07 18:21:49 WARN RowBasedKeyValueBatch: Calling spill() on RowBasedKeyValueBatch. Will not spill but return 0.\n",
      "23/06/07 18:21:49 WARN RowBasedKeyValueBatch: Calling spill() on RowBasedKeyValueBatch. Will not spill but return 0.\n",
      "23/06/07 18:21:49 WARN RowBasedKeyValueBatch: Calling spill() on RowBasedKeyValueBatch. Will not spill but return 0.\n",
      "23/06/07 18:21:49 WARN RowBasedKeyValueBatch: Calling spill() on RowBasedKeyValueBatch. Will not spill but return 0.\n",
      "23/06/07 18:21:49 WARN RowBasedKeyValueBatch: Calling spill() on RowBasedKeyValueBatch. Will not spill but return 0.\n",
      "23/06/07 18:21:49 WARN RowBasedKeyValueBatch: Calling spill() on RowBasedKeyValueBatch. Will not spill but return 0.\n",
      "23/06/07 18:21:51 WARN RowBasedKeyValueBatch: Calling spill() on RowBasedKeyValueBatch. Will not spill but return 0.\n",
      "23/06/07 18:21:51 WARN RowBasedKeyValueBatch: Calling spill() on RowBasedKeyValueBatch. Will not spill but return 0.\n",
      "23/06/07 18:21:51 WARN RowBasedKeyValueBatch: Calling spill() on RowBasedKeyValueBatch. Will not spill but return 0.\n",
      "23/06/07 18:21:51 WARN RowBasedKeyValueBatch: Calling spill() on RowBasedKeyValueBatch. Will not spill but return 0.\n",
      "23/06/07 18:21:51 WARN RowBasedKeyValueBatch: Calling spill() on RowBasedKeyValueBatch. Will not spill but return 0.\n",
      "23/06/07 18:21:51 WARN RowBasedKeyValueBatch: Calling spill() on RowBasedKeyValueBatch. Will not spill but return 0.\n",
      "23/06/07 18:21:51 WARN RowBasedKeyValueBatch: Calling spill() on RowBasedKeyValueBatch. Will not spill but return 0.\n",
      "23/06/07 18:21:52 WARN RowBasedKeyValueBatch: Calling spill() on RowBasedKeyValueBatch. Will not spill but return 0.\n",
      "23/06/07 18:21:52 WARN RowBasedKeyValueBatch: Calling spill() on RowBasedKeyValueBatch. Will not spill but return 0.\n",
      "23/06/07 18:21:52 WARN RowBasedKeyValueBatch: Calling spill() on RowBasedKeyValueBatch. Will not spill but return 0.\n",
      "23/06/07 18:21:52 WARN RowBasedKeyValueBatch: Calling spill() on RowBasedKeyValueBatch. Will not spill but return 0.\n",
      "23/06/07 18:21:52 WARN RowBasedKeyValueBatch: Calling spill() on RowBasedKeyValueBatch. Will not spill but return 0.\n",
      "23/06/07 18:21:52 WARN RowBasedKeyValueBatch: Calling spill() on RowBasedKeyValueBatch. Will not spill but return 0.\n",
      "                                                                                \r"
     ]
    },
    {
     "data": {
      "text/html": [
       "<div>\n",
       "<style scoped>\n",
       "    .dataframe tbody tr th:only-of-type {\n",
       "        vertical-align: middle;\n",
       "    }\n",
       "\n",
       "    .dataframe tbody tr th {\n",
       "        vertical-align: top;\n",
       "    }\n",
       "\n",
       "    .dataframe thead th {\n",
       "        text-align: right;\n",
       "    }\n",
       "</style>\n",
       "<table border=\"1\" class=\"dataframe\">\n",
       "  <thead>\n",
       "    <tr style=\"text-align: right;\">\n",
       "      <th></th>\n",
       "      <th>main_cat</th>\n",
       "      <th>count</th>\n",
       "    </tr>\n",
       "  </thead>\n",
       "  <tbody>\n",
       "    <tr>\n",
       "      <th>0</th>\n",
       "      <td>Computers</td>\n",
       "      <td>1502170</td>\n",
       "    </tr>\n",
       "    <tr>\n",
       "      <th>1</th>\n",
       "      <td>All Electronics</td>\n",
       "      <td>824431</td>\n",
       "    </tr>\n",
       "    <tr>\n",
       "      <th>2</th>\n",
       "      <td>Home Audio &amp; Theater</td>\n",
       "      <td>687849</td>\n",
       "    </tr>\n",
       "    <tr>\n",
       "      <th>3</th>\n",
       "      <td>Camera &amp; Photo</td>\n",
       "      <td>675530</td>\n",
       "    </tr>\n",
       "    <tr>\n",
       "      <th>4</th>\n",
       "      <td>Cell Phones &amp; Accessories</td>\n",
       "      <td>339843</td>\n",
       "    </tr>\n",
       "    <tr>\n",
       "      <th>5</th>\n",
       "      <td>Car Electronics</td>\n",
       "      <td>95802</td>\n",
       "    </tr>\n",
       "    <tr>\n",
       "      <th>6</th>\n",
       "      <td>Camera &amp;amp; Photo</td>\n",
       "      <td>72940</td>\n",
       "    </tr>\n",
       "    <tr>\n",
       "      <th>7</th>\n",
       "      <td>Home Audio &amp;amp; Theater</td>\n",
       "      <td>70590</td>\n",
       "    </tr>\n",
       "    <tr>\n",
       "      <th>8</th>\n",
       "      <td>Tools &amp; Home Improvement</td>\n",
       "      <td>52898</td>\n",
       "    </tr>\n",
       "    <tr>\n",
       "      <th>9</th>\n",
       "      <td>Office Products</td>\n",
       "      <td>47290</td>\n",
       "    </tr>\n",
       "    <tr>\n",
       "      <th>10</th>\n",
       "      <td>Musical Instruments</td>\n",
       "      <td>46720</td>\n",
       "    </tr>\n",
       "    <tr>\n",
       "      <th>11</th>\n",
       "      <td>Sports &amp; Outdoors</td>\n",
       "      <td>30500</td>\n",
       "    </tr>\n",
       "    <tr>\n",
       "      <th>12</th>\n",
       "      <td>Amazon Devices</td>\n",
       "      <td>26570</td>\n",
       "    </tr>\n",
       "    <tr>\n",
       "      <th>13</th>\n",
       "      <td>Automotive</td>\n",
       "      <td>16102</td>\n",
       "    </tr>\n",
       "    <tr>\n",
       "      <th>14</th>\n",
       "      <td>Amazon Home</td>\n",
       "      <td>14185</td>\n",
       "    </tr>\n",
       "    <tr>\n",
       "      <th>15</th>\n",
       "      <td>Industrial &amp; Scientific</td>\n",
       "      <td>12032</td>\n",
       "    </tr>\n",
       "    <tr>\n",
       "      <th>16</th>\n",
       "      <td>GPS &amp; Navigation</td>\n",
       "      <td>8648</td>\n",
       "    </tr>\n",
       "    <tr>\n",
       "      <th>17</th>\n",
       "      <td>Cell Phones &amp;amp; Accessories</td>\n",
       "      <td>8597</td>\n",
       "    </tr>\n",
       "    <tr>\n",
       "      <th>18</th>\n",
       "      <td>Health &amp; Personal Care</td>\n",
       "      <td>8484</td>\n",
       "    </tr>\n",
       "    <tr>\n",
       "      <th>19</th>\n",
       "      <td>Portable Audio &amp; Accessories</td>\n",
       "      <td>8251</td>\n",
       "    </tr>\n",
       "    <tr>\n",
       "      <th>20</th>\n",
       "      <td>Tools &amp;amp; Home Improvement</td>\n",
       "      <td>6513</td>\n",
       "    </tr>\n",
       "    <tr>\n",
       "      <th>21</th>\n",
       "      <td></td>\n",
       "      <td>6431</td>\n",
       "    </tr>\n",
       "    <tr>\n",
       "      <th>22</th>\n",
       "      <td>&lt;img src=\"https://images-na.ssl-images-amazon....</td>\n",
       "      <td>5730</td>\n",
       "    </tr>\n",
       "    <tr>\n",
       "      <th>23</th>\n",
       "      <td>Toys &amp; Games</td>\n",
       "      <td>3818</td>\n",
       "    </tr>\n",
       "    <tr>\n",
       "      <th>24</th>\n",
       "      <td>Sports &amp;amp; Outdoors</td>\n",
       "      <td>3288</td>\n",
       "    </tr>\n",
       "    <tr>\n",
       "      <th>25</th>\n",
       "      <td>Arts, Crafts &amp; Sewing</td>\n",
       "      <td>3148</td>\n",
       "    </tr>\n",
       "    <tr>\n",
       "      <th>26</th>\n",
       "      <td>Video Games</td>\n",
       "      <td>1759</td>\n",
       "    </tr>\n",
       "    <tr>\n",
       "      <th>27</th>\n",
       "      <td>Baby</td>\n",
       "      <td>863</td>\n",
       "    </tr>\n",
       "    <tr>\n",
       "      <th>28</th>\n",
       "      <td>Apple Products</td>\n",
       "      <td>648</td>\n",
       "    </tr>\n",
       "    <tr>\n",
       "      <th>29</th>\n",
       "      <td>Software</td>\n",
       "      <td>639</td>\n",
       "    </tr>\n",
       "    <tr>\n",
       "      <th>30</th>\n",
       "      <td>Industrial &amp;amp; Scientific</td>\n",
       "      <td>535</td>\n",
       "    </tr>\n",
       "    <tr>\n",
       "      <th>31</th>\n",
       "      <td>Books</td>\n",
       "      <td>518</td>\n",
       "    </tr>\n",
       "    <tr>\n",
       "      <th>32</th>\n",
       "      <td>All Beauty</td>\n",
       "      <td>510</td>\n",
       "    </tr>\n",
       "    <tr>\n",
       "      <th>33</th>\n",
       "      <td>Portable Audio &amp;amp; Accessories</td>\n",
       "      <td>372</td>\n",
       "    </tr>\n",
       "    <tr>\n",
       "      <th>34</th>\n",
       "      <td>Pet Supplies</td>\n",
       "      <td>261</td>\n",
       "    </tr>\n",
       "    <tr>\n",
       "      <th>35</th>\n",
       "      <td>Appliances</td>\n",
       "      <td>227</td>\n",
       "    </tr>\n",
       "    <tr>\n",
       "      <th>36</th>\n",
       "      <td>Amazon Fire TV</td>\n",
       "      <td>177</td>\n",
       "    </tr>\n",
       "    <tr>\n",
       "      <th>37</th>\n",
       "      <td>Arts, Crafts &amp;amp; Sewing</td>\n",
       "      <td>117</td>\n",
       "    </tr>\n",
       "    <tr>\n",
       "      <th>38</th>\n",
       "      <td>&lt;img src=\"https://images-na.ssl-images-amazon....</td>\n",
       "      <td>113</td>\n",
       "    </tr>\n",
       "    <tr>\n",
       "      <th>39</th>\n",
       "      <td>GPS &amp;amp; Navigation</td>\n",
       "      <td>93</td>\n",
       "    </tr>\n",
       "    <tr>\n",
       "      <th>40</th>\n",
       "      <td>Health &amp;amp; Personal Care</td>\n",
       "      <td>71</td>\n",
       "    </tr>\n",
       "    <tr>\n",
       "      <th>41</th>\n",
       "      <td>&lt;img src=\"https://m.media-amazon.com/images/G/...</td>\n",
       "      <td>36</td>\n",
       "    </tr>\n",
       "    <tr>\n",
       "      <th>42</th>\n",
       "      <td>Gift Cards</td>\n",
       "      <td>21</td>\n",
       "    </tr>\n",
       "    <tr>\n",
       "      <th>43</th>\n",
       "      <td>Fire Phone</td>\n",
       "      <td>8</td>\n",
       "    </tr>\n",
       "    <tr>\n",
       "      <th>44</th>\n",
       "      <td>Toys &amp;amp; Games</td>\n",
       "      <td>3</td>\n",
       "    </tr>\n",
       "  </tbody>\n",
       "</table>\n",
       "</div>"
      ],
      "text/plain": [
       "                                             main_cat    count\n",
       "0                                           Computers  1502170\n",
       "1                                     All Electronics   824431\n",
       "2                                Home Audio & Theater   687849\n",
       "3                                      Camera & Photo   675530\n",
       "4                           Cell Phones & Accessories   339843\n",
       "5                                     Car Electronics    95802\n",
       "6                                  Camera &amp; Photo    72940\n",
       "7                            Home Audio &amp; Theater    70590\n",
       "8                            Tools & Home Improvement    52898\n",
       "9                                     Office Products    47290\n",
       "10                                Musical Instruments    46720\n",
       "11                                  Sports & Outdoors    30500\n",
       "12                                     Amazon Devices    26570\n",
       "13                                         Automotive    16102\n",
       "14                                        Amazon Home    14185\n",
       "15                            Industrial & Scientific    12032\n",
       "16                                   GPS & Navigation     8648\n",
       "17                      Cell Phones &amp; Accessories     8597\n",
       "18                             Health & Personal Care     8484\n",
       "19                       Portable Audio & Accessories     8251\n",
       "20                       Tools &amp; Home Improvement     6513\n",
       "21                                                        6431\n",
       "22  <img src=\"https://images-na.ssl-images-amazon....     5730\n",
       "23                                       Toys & Games     3818\n",
       "24                              Sports &amp; Outdoors     3288\n",
       "25                              Arts, Crafts & Sewing     3148\n",
       "26                                        Video Games     1759\n",
       "27                                               Baby      863\n",
       "28                                     Apple Products      648\n",
       "29                                           Software      639\n",
       "30                        Industrial &amp; Scientific      535\n",
       "31                                              Books      518\n",
       "32                                         All Beauty      510\n",
       "33                   Portable Audio &amp; Accessories      372\n",
       "34                                       Pet Supplies      261\n",
       "35                                         Appliances      227\n",
       "36                                     Amazon Fire TV      177\n",
       "37                          Arts, Crafts &amp; Sewing      117\n",
       "38  <img src=\"https://images-na.ssl-images-amazon....      113\n",
       "39                               GPS &amp; Navigation       93\n",
       "40                         Health &amp; Personal Care       71\n",
       "41  <img src=\"https://m.media-amazon.com/images/G/...       36\n",
       "42                                         Gift Cards       21\n",
       "43                                         Fire Phone        8\n",
       "44                                   Toys &amp; Games        3"
      ]
     },
     "execution_count": 44,
     "metadata": {},
     "output_type": "execute_result"
    }
   ],
   "source": [
    "elect_df.groupBy('main_cat').count().orderBy('count', ascending = False).toPandas()"
   ]
  },
  {
   "cell_type": "code",
   "execution_count": 47,
   "metadata": {},
   "outputs": [
    {
     "name": "stderr",
     "output_type": "stream",
     "text": [
      "23/06/07 18:27:22 WARN RowBasedKeyValueBatch: Calling spill() on RowBasedKeyValueBatch. Will not spill but return 0.\n",
      "23/06/07 18:27:22 WARN RowBasedKeyValueBatch: Calling spill() on RowBasedKeyValueBatch. Will not spill but return 0.\n",
      "23/06/07 18:27:22 WARN RowBasedKeyValueBatch: Calling spill() on RowBasedKeyValueBatch. Will not spill but return 0.\n",
      "23/06/07 18:27:22 WARN RowBasedKeyValueBatch: Calling spill() on RowBasedKeyValueBatch. Will not spill but return 0.\n",
      "23/06/07 18:27:23 WARN RowBasedKeyValueBatch: Calling spill() on RowBasedKeyValueBatch. Will not spill but return 0.\n",
      "23/06/07 18:27:23 WARN RowBasedKeyValueBatch: Calling spill() on RowBasedKeyValueBatch. Will not spill but return 0.\n",
      "23/06/07 18:27:23 WARN RowBasedKeyValueBatch: Calling spill() on RowBasedKeyValueBatch. Will not spill but return 0.\n",
      "23/06/07 18:27:23 WARN RowBasedKeyValueBatch: Calling spill() on RowBasedKeyValueBatch. Will not spill but return 0.\n",
      "23/06/07 18:27:24 WARN RowBasedKeyValueBatch: Calling spill() on RowBasedKeyValueBatch. Will not spill but return 0.\n",
      "23/06/07 18:27:24 WARN RowBasedKeyValueBatch: Calling spill() on RowBasedKeyValueBatch. Will not spill but return 0.\n",
      "23/06/07 18:27:24 WARN RowBasedKeyValueBatch: Calling spill() on RowBasedKeyValueBatch. Will not spill but return 0.\n",
      "23/06/07 18:27:24 WARN RowBasedKeyValueBatch: Calling spill() on RowBasedKeyValueBatch. Will not spill but return 0.\n",
      "23/06/07 18:27:24 WARN RowBasedKeyValueBatch: Calling spill() on RowBasedKeyValueBatch. Will not spill but return 0.\n",
      "23/06/07 18:27:24 WARN RowBasedKeyValueBatch: Calling spill() on RowBasedKeyValueBatch. Will not spill but return 0.\n",
      "23/06/07 18:27:24 WARN RowBasedKeyValueBatch: Calling spill() on RowBasedKeyValueBatch. Will not spill but return 0.\n",
      "23/06/07 18:27:24 WARN RowBasedKeyValueBatch: Calling spill() on RowBasedKeyValueBatch. Will not spill but return 0.\n",
      "23/06/07 18:27:33 WARN RowBasedKeyValueBatch: Calling spill() on RowBasedKeyValueBatch. Will not spill but return 0.\n",
      "23/06/07 18:27:33 WARN RowBasedKeyValueBatch: Calling spill() on RowBasedKeyValueBatch. Will not spill but return 0.\n",
      "23/06/07 18:27:33 WARN RowBasedKeyValueBatch: Calling spill() on RowBasedKeyValueBatch. Will not spill but return 0.\n",
      "23/06/07 18:27:33 WARN RowBasedKeyValueBatch: Calling spill() on RowBasedKeyValueBatch. Will not spill but return 0.\n",
      "23/06/07 18:27:33 WARN RowBasedKeyValueBatch: Calling spill() on RowBasedKeyValueBatch. Will not spill but return 0.\n",
      "23/06/07 18:27:33 WARN RowBasedKeyValueBatch: Calling spill() on RowBasedKeyValueBatch. Will not spill but return 0.\n",
      "23/06/07 18:27:33 WARN RowBasedKeyValueBatch: Calling spill() on RowBasedKeyValueBatch. Will not spill but return 0.\n",
      "23/06/07 18:27:33 WARN RowBasedKeyValueBatch: Calling spill() on RowBasedKeyValueBatch. Will not spill but return 0.\n",
      "23/06/07 18:27:34 WARN RowBasedKeyValueBatch: Calling spill() on RowBasedKeyValueBatch. Will not spill but return 0.\n",
      "23/06/07 18:27:34 WARN RowBasedKeyValueBatch: Calling spill() on RowBasedKeyValueBatch. Will not spill but return 0.\n",
      "23/06/07 18:27:34 WARN RowBasedKeyValueBatch: Calling spill() on RowBasedKeyValueBatch. Will not spill but return 0.\n",
      "23/06/07 18:27:34 WARN RowBasedKeyValueBatch: Calling spill() on RowBasedKeyValueBatch. Will not spill but return 0.\n",
      "23/06/07 18:27:34 WARN RowBasedKeyValueBatch: Calling spill() on RowBasedKeyValueBatch. Will not spill but return 0.\n",
      "23/06/07 18:27:34 WARN RowBasedKeyValueBatch: Calling spill() on RowBasedKeyValueBatch. Will not spill but return 0.\n",
      "23/06/07 18:27:34 WARN RowBasedKeyValueBatch: Calling spill() on RowBasedKeyValueBatch. Will not spill but return 0.\n",
      "23/06/07 18:27:34 WARN RowBasedKeyValueBatch: Calling spill() on RowBasedKeyValueBatch. Will not spill but return 0.\n",
      "23/06/07 18:27:36 WARN RowBasedKeyValueBatch: Calling spill() on RowBasedKeyValueBatch. Will not spill but return 0.\n",
      "23/06/07 18:27:36 WARN RowBasedKeyValueBatch: Calling spill() on RowBasedKeyValueBatch. Will not spill but return 0.\n",
      "23/06/07 18:27:36 WARN RowBasedKeyValueBatch: Calling spill() on RowBasedKeyValueBatch. Will not spill but return 0.\n",
      "23/06/07 18:27:36 WARN RowBasedKeyValueBatch: Calling spill() on RowBasedKeyValueBatch. Will not spill but return 0.\n",
      "23/06/07 18:27:36 WARN RowBasedKeyValueBatch: Calling spill() on RowBasedKeyValueBatch. Will not spill but return 0.\n",
      "23/06/07 18:27:36 WARN RowBasedKeyValueBatch: Calling spill() on RowBasedKeyValueBatch. Will not spill but return 0.\n",
      "23/06/07 18:27:36 WARN RowBasedKeyValueBatch: Calling spill() on RowBasedKeyValueBatch. Will not spill but return 0.\n",
      "23/06/07 18:27:36 WARN RowBasedKeyValueBatch: Calling spill() on RowBasedKeyValueBatch. Will not spill but return 0.\n",
      "23/06/07 18:27:37 WARN RowBasedKeyValueBatch: Calling spill() on RowBasedKeyValueBatch. Will not spill but return 0.\n",
      "23/06/07 18:27:37 WARN RowBasedKeyValueBatch: Calling spill() on RowBasedKeyValueBatch. Will not spill but return 0.\n",
      "23/06/07 18:27:37 WARN RowBasedKeyValueBatch: Calling spill() on RowBasedKeyValueBatch. Will not spill but return 0.\n",
      "23/06/07 18:27:37 WARN RowBasedKeyValueBatch: Calling spill() on RowBasedKeyValueBatch. Will not spill but return 0.\n",
      "23/06/07 18:27:37 WARN RowBasedKeyValueBatch: Calling spill() on RowBasedKeyValueBatch. Will not spill but return 0.\n",
      "23/06/07 18:27:37 WARN RowBasedKeyValueBatch: Calling spill() on RowBasedKeyValueBatch. Will not spill but return 0.\n",
      "23/06/07 18:27:37 WARN RowBasedKeyValueBatch: Calling spill() on RowBasedKeyValueBatch. Will not spill but return 0.\n",
      "23/06/07 18:27:37 WARN RowBasedKeyValueBatch: Calling spill() on RowBasedKeyValueBatch. Will not spill but return 0.\n",
      "23/06/07 18:27:39 WARN RowBasedKeyValueBatch: Calling spill() on RowBasedKeyValueBatch. Will not spill but return 0.\n",
      "23/06/07 18:27:39 WARN RowBasedKeyValueBatch: Calling spill() on RowBasedKeyValueBatch. Will not spill but return 0.\n",
      "23/06/07 18:27:39 WARN RowBasedKeyValueBatch: Calling spill() on RowBasedKeyValueBatch. Will not spill but return 0.\n",
      "23/06/07 18:27:39 WARN RowBasedKeyValueBatch: Calling spill() on RowBasedKeyValueBatch. Will not spill but return 0.\n",
      "23/06/07 18:27:39 WARN RowBasedKeyValueBatch: Calling spill() on RowBasedKeyValueBatch. Will not spill but return 0.\n",
      "23/06/07 18:27:39 WARN RowBasedKeyValueBatch: Calling spill() on RowBasedKeyValueBatch. Will not spill but return 0.\n",
      "23/06/07 18:27:39 WARN RowBasedKeyValueBatch: Calling spill() on RowBasedKeyValueBatch. Will not spill but return 0.\n",
      "23/06/07 18:27:39 WARN RowBasedKeyValueBatch: Calling spill() on RowBasedKeyValueBatch. Will not spill but return 0.\n",
      "23/06/07 18:27:39 WARN RowBasedKeyValueBatch: Calling spill() on RowBasedKeyValueBatch. Will not spill but return 0.\n",
      "23/06/07 18:27:39 WARN RowBasedKeyValueBatch: Calling spill() on RowBasedKeyValueBatch. Will not spill but return 0.\n",
      "23/06/07 18:27:39 WARN RowBasedKeyValueBatch: Calling spill() on RowBasedKeyValueBatch. Will not spill but return 0.\n",
      "23/06/07 18:27:39 WARN RowBasedKeyValueBatch: Calling spill() on RowBasedKeyValueBatch. Will not spill but return 0.\n",
      "23/06/07 18:27:39 WARN RowBasedKeyValueBatch: Calling spill() on RowBasedKeyValueBatch. Will not spill but return 0.\n",
      "                                                                                \r"
     ]
    },
    {
     "data": {
      "text/html": [
       "<div>\n",
       "<style scoped>\n",
       "    .dataframe tbody tr th:only-of-type {\n",
       "        vertical-align: middle;\n",
       "    }\n",
       "\n",
       "    .dataframe tbody tr th {\n",
       "        vertical-align: top;\n",
       "    }\n",
       "\n",
       "    .dataframe thead th {\n",
       "        text-align: right;\n",
       "    }\n",
       "</style>\n",
       "<table border=\"1\" class=\"dataframe\">\n",
       "  <thead>\n",
       "    <tr style=\"text-align: right;\">\n",
       "      <th></th>\n",
       "      <th>brand</th>\n",
       "      <th>count</th>\n",
       "    </tr>\n",
       "  </thead>\n",
       "  <tbody>\n",
       "    <tr>\n",
       "      <th>0</th>\n",
       "      <td>Logitech</td>\n",
       "      <td>106331</td>\n",
       "    </tr>\n",
       "    <tr>\n",
       "      <th>1</th>\n",
       "      <td>SanDisk</td>\n",
       "      <td>102637</td>\n",
       "    </tr>\n",
       "    <tr>\n",
       "      <th>2</th>\n",
       "      <td>Sony</td>\n",
       "      <td>80910</td>\n",
       "    </tr>\n",
       "    <tr>\n",
       "      <th>3</th>\n",
       "      <td>Samsung</td>\n",
       "      <td>75529</td>\n",
       "    </tr>\n",
       "    <tr>\n",
       "      <th>4</th>\n",
       "      <td>AmazonBasics</td>\n",
       "      <td>69277</td>\n",
       "    </tr>\n",
       "    <tr>\n",
       "      <th>...</th>\n",
       "      <td>...</td>\n",
       "      <td>...</td>\n",
       "    </tr>\n",
       "    <tr>\n",
       "      <th>11043</th>\n",
       "      <td>Kashimura</td>\n",
       "      <td>3</td>\n",
       "    </tr>\n",
       "    <tr>\n",
       "      <th>11044</th>\n",
       "      <td>Venturer</td>\n",
       "      <td>3</td>\n",
       "    </tr>\n",
       "    <tr>\n",
       "      <th>11045</th>\n",
       "      <td>ToolUSA</td>\n",
       "      <td>3</td>\n",
       "    </tr>\n",
       "    <tr>\n",
       "      <th>11046</th>\n",
       "      <td>Deer River</td>\n",
       "      <td>2</td>\n",
       "    </tr>\n",
       "    <tr>\n",
       "      <th>11047</th>\n",
       "      <td>Michael Pearl; Debi Pearl</td>\n",
       "      <td>2</td>\n",
       "    </tr>\n",
       "  </tbody>\n",
       "</table>\n",
       "<p>11048 rows × 2 columns</p>\n",
       "</div>"
      ],
      "text/plain": [
       "                           brand   count\n",
       "0                       Logitech  106331\n",
       "1                        SanDisk  102637\n",
       "2                           Sony   80910\n",
       "3                        Samsung   75529\n",
       "4                   AmazonBasics   69277\n",
       "...                          ...     ...\n",
       "11043                  Kashimura       3\n",
       "11044                   Venturer       3\n",
       "11045                    ToolUSA       3\n",
       "11046                 Deer River       2\n",
       "11047  Michael Pearl; Debi Pearl       2\n",
       "\n",
       "[11048 rows x 2 columns]"
      ]
     },
     "execution_count": 47,
     "metadata": {},
     "output_type": "execute_result"
    }
   ],
   "source": [
    "elect_df.groupBy('brand').count().orderBy('count', ascending = False).toPandas()"
   ]
  },
  {
   "attachments": {},
   "cell_type": "markdown",
   "metadata": {},
   "source": [
    "Some summary:"
   ]
  },
  {
   "cell_type": "code",
   "execution_count": 73,
   "metadata": {},
   "outputs": [
    {
     "name": "stderr",
     "output_type": "stream",
     "text": [
      "23/06/07 19:27:04 WARN RowBasedKeyValueBatch: Calling spill() on RowBasedKeyValueBatch. Will not spill but return 0.\n",
      "23/06/07 19:27:04 WARN RowBasedKeyValueBatch: Calling spill() on RowBasedKeyValueBatch. Will not spill but return 0.\n",
      "23/06/07 19:27:04 WARN RowBasedKeyValueBatch: Calling spill() on RowBasedKeyValueBatch. Will not spill but return 0.\n",
      "23/06/07 19:27:05 WARN RowBasedKeyValueBatch: Calling spill() on RowBasedKeyValueBatch. Will not spill but return 0.\n",
      "23/06/07 19:27:05 WARN RowBasedKeyValueBatch: Calling spill() on RowBasedKeyValueBatch. Will not spill but return 0.\n",
      "23/06/07 19:27:05 WARN RowBasedKeyValueBatch: Calling spill() on RowBasedKeyValueBatch. Will not spill but return 0.\n",
      "23/06/07 19:27:05 WARN RowBasedKeyValueBatch: Calling spill() on RowBasedKeyValueBatch. Will not spill but return 0.\n",
      "23/06/07 19:27:05 WARN RowBasedKeyValueBatch: Calling spill() on RowBasedKeyValueBatch. Will not spill but return 0.\n",
      "23/06/07 19:27:06 WARN RowBasedKeyValueBatch: Calling spill() on RowBasedKeyValueBatch. Will not spill but return 0.\n",
      "23/06/07 19:27:06 WARN RowBasedKeyValueBatch: Calling spill() on RowBasedKeyValueBatch. Will not spill but return 0.\n",
      "23/06/07 19:27:06 WARN RowBasedKeyValueBatch: Calling spill() on RowBasedKeyValueBatch. Will not spill but return 0.\n",
      "23/06/07 19:27:06 WARN RowBasedKeyValueBatch: Calling spill() on RowBasedKeyValueBatch. Will not spill but return 0.\n",
      "23/06/07 19:27:06 WARN RowBasedKeyValueBatch: Calling spill() on RowBasedKeyValueBatch. Will not spill but return 0.\n",
      "23/06/07 19:27:06 WARN RowBasedKeyValueBatch: Calling spill() on RowBasedKeyValueBatch. Will not spill but return 0.\n",
      "23/06/07 19:27:06 WARN RowBasedKeyValueBatch: Calling spill() on RowBasedKeyValueBatch. Will not spill but return 0.\n",
      "23/06/07 19:27:06 WARN RowBasedKeyValueBatch: Calling spill() on RowBasedKeyValueBatch. Will not spill but return 0.\n",
      "23/06/07 19:27:11 WARN RowBasedKeyValueBatch: Calling spill() on RowBasedKeyValueBatch. Will not spill but return 0.\n",
      "23/06/07 19:27:11 WARN RowBasedKeyValueBatch: Calling spill() on RowBasedKeyValueBatch. Will not spill but return 0.\n",
      "23/06/07 19:27:12 WARN RowBasedKeyValueBatch: Calling spill() on RowBasedKeyValueBatch. Will not spill but return 0.\n",
      "23/06/07 19:27:12 WARN RowBasedKeyValueBatch: Calling spill() on RowBasedKeyValueBatch. Will not spill but return 0.\n",
      "23/06/07 19:27:12 WARN RowBasedKeyValueBatch: Calling spill() on RowBasedKeyValueBatch. Will not spill but return 0.\n",
      "23/06/07 19:27:12 WARN RowBasedKeyValueBatch: Calling spill() on RowBasedKeyValueBatch. Will not spill but return 0.\n",
      "23/06/07 19:27:12 WARN RowBasedKeyValueBatch: Calling spill() on RowBasedKeyValueBatch. Will not spill but return 0.\n",
      "23/06/07 19:27:12 WARN RowBasedKeyValueBatch: Calling spill() on RowBasedKeyValueBatch. Will not spill but return 0.\n",
      "23/06/07 19:27:12 WARN RowBasedKeyValueBatch: Calling spill() on RowBasedKeyValueBatch. Will not spill but return 0.\n",
      "23/06/07 19:27:12 WARN RowBasedKeyValueBatch: Calling spill() on RowBasedKeyValueBatch. Will not spill but return 0.\n",
      "23/06/07 19:27:12 WARN RowBasedKeyValueBatch: Calling spill() on RowBasedKeyValueBatch. Will not spill but return 0.\n",
      "23/06/07 19:27:12 WARN RowBasedKeyValueBatch: Calling spill() on RowBasedKeyValueBatch. Will not spill but return 0.\n",
      "23/06/07 19:27:12 WARN RowBasedKeyValueBatch: Calling spill() on RowBasedKeyValueBatch. Will not spill but return 0.\n",
      "23/06/07 19:27:12 WARN RowBasedKeyValueBatch: Calling spill() on RowBasedKeyValueBatch. Will not spill but return 0.\n",
      "23/06/07 19:27:12 WARN RowBasedKeyValueBatch: Calling spill() on RowBasedKeyValueBatch. Will not spill but return 0.\n",
      "23/06/07 19:27:13 WARN RowBasedKeyValueBatch: Calling spill() on RowBasedKeyValueBatch. Will not spill but return 0.\n",
      "23/06/07 19:27:17 WARN RowBasedKeyValueBatch: Calling spill() on RowBasedKeyValueBatch. Will not spill but return 0.\n",
      "23/06/07 19:27:17 WARN RowBasedKeyValueBatch: Calling spill() on RowBasedKeyValueBatch. Will not spill but return 0.\n",
      "23/06/07 19:27:17 WARN RowBasedKeyValueBatch: Calling spill() on RowBasedKeyValueBatch. Will not spill but return 0.\n",
      "23/06/07 19:27:17 WARN RowBasedKeyValueBatch: Calling spill() on RowBasedKeyValueBatch. Will not spill but return 0.\n",
      "23/06/07 19:27:17 WARN RowBasedKeyValueBatch: Calling spill() on RowBasedKeyValueBatch. Will not spill but return 0.\n",
      "23/06/07 19:27:17 WARN RowBasedKeyValueBatch: Calling spill() on RowBasedKeyValueBatch. Will not spill but return 0.\n",
      "23/06/07 19:27:17 WARN RowBasedKeyValueBatch: Calling spill() on RowBasedKeyValueBatch. Will not spill but return 0.\n",
      "23/06/07 19:27:17 WARN RowBasedKeyValueBatch: Calling spill() on RowBasedKeyValueBatch. Will not spill but return 0.\n",
      "23/06/07 19:27:17 WARN RowBasedKeyValueBatch: Calling spill() on RowBasedKeyValueBatch. Will not spill but return 0.\n",
      "23/06/07 19:27:17 WARN RowBasedKeyValueBatch: Calling spill() on RowBasedKeyValueBatch. Will not spill but return 0.\n",
      "23/06/07 19:27:17 WARN RowBasedKeyValueBatch: Calling spill() on RowBasedKeyValueBatch. Will not spill but return 0.\n",
      "23/06/07 19:27:17 WARN RowBasedKeyValueBatch: Calling spill() on RowBasedKeyValueBatch. Will not spill but return 0.\n",
      "23/06/07 19:27:17 WARN RowBasedKeyValueBatch: Calling spill() on RowBasedKeyValueBatch. Will not spill but return 0.\n",
      "23/06/07 19:27:17 WARN RowBasedKeyValueBatch: Calling spill() on RowBasedKeyValueBatch. Will not spill but return 0.\n",
      "23/06/07 19:27:17 WARN RowBasedKeyValueBatch: Calling spill() on RowBasedKeyValueBatch. Will not spill but return 0.\n",
      "23/06/07 19:27:17 WARN RowBasedKeyValueBatch: Calling spill() on RowBasedKeyValueBatch. Will not spill but return 0.\n",
      "23/06/07 19:27:24 WARN RowBasedKeyValueBatch: Calling spill() on RowBasedKeyValueBatch. Will not spill but return 0.\n",
      "23/06/07 19:27:24 WARN RowBasedKeyValueBatch: Calling spill() on RowBasedKeyValueBatch. Will not spill but return 0.\n",
      "23/06/07 19:27:24 WARN RowBasedKeyValueBatch: Calling spill() on RowBasedKeyValueBatch. Will not spill but return 0.\n",
      "23/06/07 19:27:24 WARN RowBasedKeyValueBatch: Calling spill() on RowBasedKeyValueBatch. Will not spill but return 0.\n",
      "23/06/07 19:27:24 WARN RowBasedKeyValueBatch: Calling spill() on RowBasedKeyValueBatch. Will not spill but return 0.\n",
      "23/06/07 19:27:24 WARN RowBasedKeyValueBatch: Calling spill() on RowBasedKeyValueBatch. Will not spill but return 0.\n",
      "23/06/07 19:27:24 WARN RowBasedKeyValueBatch: Calling spill() on RowBasedKeyValueBatch. Will not spill but return 0.\n",
      "23/06/07 19:27:25 WARN RowBasedKeyValueBatch: Calling spill() on RowBasedKeyValueBatch. Will not spill but return 0.\n",
      "23/06/07 19:27:25 WARN RowBasedKeyValueBatch: Calling spill() on RowBasedKeyValueBatch. Will not spill but return 0.\n",
      "23/06/07 19:27:25 WARN RowBasedKeyValueBatch: Calling spill() on RowBasedKeyValueBatch. Will not spill but return 0.\n",
      "23/06/07 19:27:25 WARN RowBasedKeyValueBatch: Calling spill() on RowBasedKeyValueBatch. Will not spill but return 0.\n",
      "23/06/07 19:27:25 WARN RowBasedKeyValueBatch: Calling spill() on RowBasedKeyValueBatch. Will not spill but return 0.\n",
      "23/06/07 19:27:25 WARN RowBasedKeyValueBatch: Calling spill() on RowBasedKeyValueBatch. Will not spill but return 0.\n",
      "23/06/07 19:27:25 WARN RowBasedKeyValueBatch: Calling spill() on RowBasedKeyValueBatch. Will not spill but return 0.\n",
      "                                                                                \r"
     ]
    },
    {
     "name": "stdout",
     "output_type": "stream",
     "text": [
      "+----+-----------+--------------------+------------------+\n",
      "|year|num_reviews|total$              |avg_order$        |\n",
      "+----+-----------+--------------------+------------------+\n",
      "|1999|65         |1347.7299999999996  |20.734307692307684|\n",
      "|2000|595        |12513.22            |21.030621848739496|\n",
      "|2001|1055       |32970.600000000006  |31.251753554502375|\n",
      "|2002|1679       |48750.92            |29.070316040548597|\n",
      "|2003|2792       |88354.34999999998   |31.668225806451606|\n",
      "|2004|4303       |154821.74           |35.97995352079944 |\n",
      "|2005|6837       |361747.2000000001   |53.03433514147488 |\n",
      "|2006|10520      |418606.4400000002   |39.80283731102027 |\n",
      "|2007|24139      |908392.2800000019   |37.687934282039656|\n",
      "|2008|36869      |1536533.7599999977  |41.713961178227166|\n",
      "|2009|50865      |1887129.9899999986  |37.14018598335004 |\n",
      "|2010|61805      |1883727.9000000008  |30.506703051110982|\n",
      "|2011|97290      |2639615.550000003   |27.17722906327866 |\n",
      "|2012|172247     |4695731.760000022   |27.307434140894998|\n",
      "|2013|396821     |9272447.409999825   |23.40540077795431 |\n",
      "|2014|662027     |1.4777281269998899E7|22.358991799184306|\n",
      "|2015|965178     |2.1123155179997902E7|21.92342599924847 |\n",
      "|2016|1022472    |2.225975486999745E7 |21.81400744192907 |\n",
      "|2017|741528     |1.4710913259998241E7|19.879128967130857|\n",
      "|2018|326244     |5679024.929999927   |17.436099937059385|\n",
      "+----+-----------+--------------------+------------------+\n",
      "\n"
     ]
    }
   ],
   "source": [
    "elect_df.groupBy('year')\\\n",
    "    .agg(count(\"year\").alias(\"num_reviews\"), \\\n",
    "         sum(\"price\").alias(\"total$\"), \\\n",
    "         avg(\"price\").alias(\"avg_order$\") \\\n",
    "     ) \\\n",
    "    .orderBy('year')\\\n",
    "    .show(truncate=False)"
   ]
  },
  {
   "attachments": {},
   "cell_type": "markdown",
   "metadata": {},
   "source": [
    "Most reviews are from later years. Reviewers spent alot of money on electronics between 2014-2016. The average order during that time was around $25. Other interesting values would be top category or top brands (by year)."
   ]
  },
  {
   "attachments": {},
   "cell_type": "markdown",
   "metadata": {},
   "source": [
    "Next: Calculate CLV for 1 year. Use year values. First [partition](https://sparkbyexamples.com/spark/spark-read-write-dataframe-parquet-example/) and save data:"
   ]
  },
  {
   "cell_type": "code",
   "execution_count": 76,
   "metadata": {},
   "outputs": [
    {
     "name": "stderr",
     "output_type": "stream",
     "text": [
      "23/06/07 19:46:46 WARN MemoryManager: Total allocation exceeds 95.00% (929,405,326 bytes) of heap memory\n",
      "Scaling row group sizes to 98.92% for 7 writers\n",
      "23/06/07 19:46:46 WARN MemoryManager: Total allocation exceeds 95.00% (929,405,326 bytes) of heap memory\n",
      "Scaling row group sizes to 86.56% for 8 writers\n",
      "23/06/07 19:46:46 WARN MemoryManager: Total allocation exceeds 95.00% (929,405,326 bytes) of heap memory\n",
      "Scaling row group sizes to 98.92% for 7 writers\n",
      "23/06/07 19:46:46 WARN MemoryManager: Total allocation exceeds 95.00% (929,405,326 bytes) of heap memory\n",
      "Scaling row group sizes to 98.92% for 7 writers\n",
      "23/06/07 19:46:46 WARN MemoryManager: Total allocation exceeds 95.00% (929,405,326 bytes) of heap memory\n",
      "Scaling row group sizes to 86.56% for 8 writers\n",
      "23/06/07 19:46:46 WARN MemoryManager: Total allocation exceeds 95.00% (929,405,326 bytes) of heap memory\n",
      "Scaling row group sizes to 98.92% for 7 writers\n",
      "23/06/07 19:46:47 WARN MemoryManager: Total allocation exceeds 95.00% (929,405,326 bytes) of heap memory\n",
      "Scaling row group sizes to 98.92% for 7 writers\n",
      "23/06/07 19:46:47 WARN MemoryManager: Total allocation exceeds 95.00% (929,405,326 bytes) of heap memory\n",
      "Scaling row group sizes to 98.92% for 7 writers\n",
      "23/06/07 19:46:47 WARN MemoryManager: Total allocation exceeds 95.00% (929,405,326 bytes) of heap memory\n",
      "Scaling row group sizes to 86.56% for 8 writers\n",
      "23/06/07 19:46:47 WARN MemoryManager: Total allocation exceeds 95.00% (929,405,326 bytes) of heap memory\n",
      "Scaling row group sizes to 98.92% for 7 writers\n",
      "23/06/07 19:46:47 WARN MemoryManager: Total allocation exceeds 95.00% (929,405,326 bytes) of heap memory\n",
      "Scaling row group sizes to 98.92% for 7 writers\n",
      "23/06/07 19:46:47 WARN MemoryManager: Total allocation exceeds 95.00% (929,405,326 bytes) of heap memory\n",
      "Scaling row group sizes to 86.56% for 8 writers\n",
      "23/06/07 19:46:47 WARN MemoryManager: Total allocation exceeds 95.00% (929,405,326 bytes) of heap memory\n",
      "Scaling row group sizes to 98.92% for 7 writers\n",
      "23/06/07 19:46:47 WARN MemoryManager: Total allocation exceeds 95.00% (929,405,326 bytes) of heap memory\n",
      "Scaling row group sizes to 98.92% for 7 writers\n",
      "23/06/07 19:46:47 WARN MemoryManager: Total allocation exceeds 95.00% (929,405,326 bytes) of heap memory\n",
      "Scaling row group sizes to 86.56% for 8 writers\n",
      "23/06/07 19:46:47 WARN MemoryManager: Total allocation exceeds 95.00% (929,405,326 bytes) of heap memory\n",
      "Scaling row group sizes to 98.92% for 7 writers\n",
      "23/06/07 19:46:47 WARN MemoryManager: Total allocation exceeds 95.00% (929,405,326 bytes) of heap memory\n",
      "Scaling row group sizes to 98.92% for 7 writers\n",
      "23/06/07 19:46:48 WARN MemoryManager: Total allocation exceeds 95.00% (929,405,326 bytes) of heap memory\n",
      "Scaling row group sizes to 86.56% for 8 writers\n",
      "23/06/07 19:46:48 WARN MemoryManager: Total allocation exceeds 95.00% (929,405,326 bytes) of heap memory\n",
      "Scaling row group sizes to 98.92% for 7 writers\n",
      "23/06/07 19:46:48 WARN MemoryManager: Total allocation exceeds 95.00% (929,405,326 bytes) of heap memory\n",
      "Scaling row group sizes to 98.92% for 7 writers\n",
      "23/06/07 19:46:48 WARN MemoryManager: Total allocation exceeds 95.00% (929,405,326 bytes) of heap memory\n",
      "Scaling row group sizes to 86.56% for 8 writers\n",
      "23/06/07 19:46:48 WARN MemoryManager: Total allocation exceeds 95.00% (929,405,326 bytes) of heap memory\n",
      "Scaling row group sizes to 98.92% for 7 writers\n",
      "23/06/07 19:46:48 WARN MemoryManager: Total allocation exceeds 95.00% (929,405,326 bytes) of heap memory\n",
      "Scaling row group sizes to 98.92% for 7 writers\n",
      "23/06/07 19:46:48 WARN MemoryManager: Total allocation exceeds 95.00% (929,405,326 bytes) of heap memory\n",
      "Scaling row group sizes to 86.56% for 8 writers\n",
      "23/06/07 19:46:48 WARN MemoryManager: Total allocation exceeds 95.00% (929,405,326 bytes) of heap memory\n",
      "Scaling row group sizes to 98.92% for 7 writers\n",
      "23/06/07 19:46:48 WARN MemoryManager: Total allocation exceeds 95.00% (929,405,326 bytes) of heap memory\n",
      "Scaling row group sizes to 98.92% for 7 writers\n",
      "23/06/07 19:46:48 WARN MemoryManager: Total allocation exceeds 95.00% (929,405,326 bytes) of heap memory\n",
      "Scaling row group sizes to 86.56% for 8 writers\n",
      "23/06/07 19:46:48 WARN MemoryManager: Total allocation exceeds 95.00% (929,405,326 bytes) of heap memory\n",
      "Scaling row group sizes to 98.92% for 7 writers\n",
      "23/06/07 19:46:48 WARN MemoryManager: Total allocation exceeds 95.00% (929,405,326 bytes) of heap memory\n",
      "Scaling row group sizes to 98.92% for 7 writers\n",
      "23/06/07 19:46:50 WARN MemoryManager: Total allocation exceeds 95.00% (929,405,326 bytes) of heap memory\n",
      "Scaling row group sizes to 98.92% for 7 writers\n",
      "23/06/07 19:46:50 WARN MemoryManager: Total allocation exceeds 95.00% (929,405,326 bytes) of heap memory\n",
      "Scaling row group sizes to 86.56% for 8 writers\n",
      "23/06/07 19:46:50 WARN MemoryManager: Total allocation exceeds 95.00% (929,405,326 bytes) of heap memory\n",
      "Scaling row group sizes to 98.92% for 7 writers\n",
      "23/06/07 19:46:50 WARN MemoryManager: Total allocation exceeds 95.00% (929,405,326 bytes) of heap memory\n",
      "Scaling row group sizes to 98.92% for 7 writers\n",
      "23/06/07 19:46:50 WARN MemoryManager: Total allocation exceeds 95.00% (929,405,326 bytes) of heap memory\n",
      "Scaling row group sizes to 86.56% for 8 writers\n",
      "23/06/07 19:46:50 WARN MemoryManager: Total allocation exceeds 95.00% (929,405,326 bytes) of heap memory\n",
      "Scaling row group sizes to 98.92% for 7 writers\n",
      "23/06/07 19:46:50 WARN MemoryManager: Total allocation exceeds 95.00% (929,405,326 bytes) of heap memory\n",
      "Scaling row group sizes to 86.56% for 8 writers\n",
      "23/06/07 19:46:50 WARN MemoryManager: Total allocation exceeds 95.00% (929,405,326 bytes) of heap memory\n",
      "Scaling row group sizes to 98.92% for 7 writers\n",
      "23/06/07 19:46:50 WARN MemoryManager: Total allocation exceeds 95.00% (929,405,326 bytes) of heap memory\n",
      "Scaling row group sizes to 98.92% for 7 writers\n",
      "23/06/07 19:46:51 WARN MemoryManager: Total allocation exceeds 95.00% (929,405,326 bytes) of heap memory\n",
      "Scaling row group sizes to 98.92% for 7 writers\n",
      "23/06/07 19:46:51 WARN MemoryManager: Total allocation exceeds 95.00% (929,405,326 bytes) of heap memory\n",
      "Scaling row group sizes to 86.56% for 8 writers\n",
      "23/06/07 19:46:52 WARN MemoryManager: Total allocation exceeds 95.00% (929,405,326 bytes) of heap memory\n",
      "Scaling row group sizes to 98.92% for 7 writers\n",
      "23/06/07 19:46:53 WARN MemoryManager: Total allocation exceeds 95.00% (929,405,326 bytes) of heap memory\n",
      "Scaling row group sizes to 98.92% for 7 writers\n",
      "23/06/07 19:46:53 WARN MemoryManager: Total allocation exceeds 95.00% (929,405,326 bytes) of heap memory\n",
      "Scaling row group sizes to 86.56% for 8 writers\n",
      "23/06/07 19:46:53 WARN MemoryManager: Total allocation exceeds 95.00% (929,405,326 bytes) of heap memory\n",
      "Scaling row group sizes to 98.92% for 7 writers\n",
      "23/06/07 19:46:54 WARN MemoryManager: Total allocation exceeds 95.00% (929,405,326 bytes) of heap memory\n",
      "Scaling row group sizes to 98.92% for 7 writers\n",
      "23/06/07 19:46:54 WARN MemoryManager: Total allocation exceeds 95.00% (929,405,326 bytes) of heap memory\n",
      "Scaling row group sizes to 86.56% for 8 writers\n",
      "23/06/07 19:46:54 WARN MemoryManager: Total allocation exceeds 95.00% (929,405,326 bytes) of heap memory\n",
      "Scaling row group sizes to 98.92% for 7 writers\n",
      "23/06/07 19:46:54 WARN MemoryManager: Total allocation exceeds 95.00% (929,405,326 bytes) of heap memory\n",
      "Scaling row group sizes to 98.92% for 7 writers\n",
      "23/06/07 19:47:01 WARN MemoryManager: Total allocation exceeds 95.00% (929,405,326 bytes) of heap memory\n",
      "Scaling row group sizes to 98.92% for 7 writers\n",
      "23/06/07 19:47:01 WARN MemoryManager: Total allocation exceeds 95.00% (929,405,326 bytes) of heap memory\n",
      "Scaling row group sizes to 86.56% for 8 writers\n",
      "23/06/07 19:47:01 WARN MemoryManager: Total allocation exceeds 95.00% (929,405,326 bytes) of heap memory\n",
      "Scaling row group sizes to 98.92% for 7 writers\n",
      "23/06/07 19:47:03 WARN MemoryManager: Total allocation exceeds 95.00% (929,405,326 bytes) of heap memory\n",
      "Scaling row group sizes to 98.92% for 7 writers\n",
      "23/06/07 19:47:03 WARN MemoryManager: Total allocation exceeds 95.00% (929,405,326 bytes) of heap memory\n",
      "Scaling row group sizes to 98.92% for 7 writers\n",
      "23/06/07 19:47:03 WARN MemoryManager: Total allocation exceeds 95.00% (929,405,326 bytes) of heap memory\n",
      "Scaling row group sizes to 86.56% for 8 writers\n",
      "23/06/07 19:47:03 WARN MemoryManager: Total allocation exceeds 95.00% (929,405,326 bytes) of heap memory\n",
      "Scaling row group sizes to 98.92% for 7 writers\n",
      "23/06/07 19:47:03 WARN MemoryManager: Total allocation exceeds 95.00% (929,405,326 bytes) of heap memory\n",
      "Scaling row group sizes to 86.56% for 8 writers\n",
      "23/06/07 19:47:03 WARN MemoryManager: Total allocation exceeds 95.00% (929,405,326 bytes) of heap memory\n",
      "Scaling row group sizes to 98.92% for 7 writers\n",
      "23/06/07 19:47:03 WARN MemoryManager: Total allocation exceeds 95.00% (929,405,326 bytes) of heap memory\n",
      "Scaling row group sizes to 98.92% for 7 writers\n",
      "23/06/07 19:47:03 WARN MemoryManager: Total allocation exceeds 95.00% (929,405,326 bytes) of heap memory\n",
      "Scaling row group sizes to 98.92% for 7 writers\n",
      "23/06/07 19:47:03 WARN MemoryManager: Total allocation exceeds 95.00% (929,405,326 bytes) of heap memory\n",
      "Scaling row group sizes to 86.56% for 8 writers\n",
      "23/06/07 19:47:03 WARN MemoryManager: Total allocation exceeds 95.00% (929,405,326 bytes) of heap memory\n",
      "Scaling row group sizes to 98.92% for 7 writers\n",
      "23/06/07 19:47:04 WARN MemoryManager: Total allocation exceeds 95.00% (929,405,326 bytes) of heap memory\n",
      "Scaling row group sizes to 98.92% for 7 writers\n",
      "23/06/07 19:47:04 WARN MemoryManager: Total allocation exceeds 95.00% (929,405,326 bytes) of heap memory\n",
      "Scaling row group sizes to 98.92% for 7 writers\n",
      "23/06/07 19:47:04 WARN MemoryManager: Total allocation exceeds 95.00% (929,405,326 bytes) of heap memory\n",
      "Scaling row group sizes to 98.92% for 7 writers\n",
      "23/06/07 19:47:04 WARN MemoryManager: Total allocation exceeds 95.00% (929,405,326 bytes) of heap memory\n",
      "Scaling row group sizes to 98.92% for 7 writers\n",
      "23/06/07 19:47:04 WARN MemoryManager: Total allocation exceeds 95.00% (929,405,326 bytes) of heap memory\n",
      "Scaling row group sizes to 98.92% for 7 writers\n",
      "23/06/07 19:47:04 WARN MemoryManager: Total allocation exceeds 95.00% (929,405,326 bytes) of heap memory\n",
      "Scaling row group sizes to 86.56% for 8 writers\n",
      "23/06/07 19:47:04 WARN MemoryManager: Total allocation exceeds 95.00% (929,405,326 bytes) of heap memory\n",
      "Scaling row group sizes to 98.92% for 7 writers\n",
      "23/06/07 19:47:04 WARN MemoryManager: Total allocation exceeds 95.00% (929,405,326 bytes) of heap memory\n",
      "Scaling row group sizes to 98.92% for 7 writers\n",
      "23/06/07 19:47:05 WARN MemoryManager: Total allocation exceeds 95.00% (929,405,326 bytes) of heap memory\n",
      "Scaling row group sizes to 98.92% for 7 writers\n",
      "23/06/07 19:47:05 WARN MemoryManager: Total allocation exceeds 95.00% (929,405,326 bytes) of heap memory\n",
      "Scaling row group sizes to 86.56% for 8 writers\n",
      "23/06/07 19:47:05 WARN MemoryManager: Total allocation exceeds 95.00% (929,405,326 bytes) of heap memory\n",
      "Scaling row group sizes to 98.92% for 7 writers\n",
      "23/06/07 19:47:05 WARN MemoryManager: Total allocation exceeds 95.00% (929,405,326 bytes) of heap memory\n",
      "Scaling row group sizes to 98.92% for 7 writers\n",
      "23/06/07 19:47:05 WARN MemoryManager: Total allocation exceeds 95.00% (929,405,326 bytes) of heap memory\n",
      "Scaling row group sizes to 86.56% for 8 writers\n",
      "23/06/07 19:47:05 WARN MemoryManager: Total allocation exceeds 95.00% (929,405,326 bytes) of heap memory\n",
      "Scaling row group sizes to 98.92% for 7 writers\n",
      "23/06/07 19:47:15 WARN MemoryManager: Total allocation exceeds 95.00% (929,405,326 bytes) of heap memory\n",
      "Scaling row group sizes to 98.92% for 7 writers\n",
      "23/06/07 19:47:15 WARN MemoryManager: Total allocation exceeds 95.00% (929,405,326 bytes) of heap memory\n",
      "Scaling row group sizes to 86.56% for 8 writers\n",
      "23/06/07 19:47:15 WARN MemoryManager: Total allocation exceeds 95.00% (929,405,326 bytes) of heap memory\n",
      "Scaling row group sizes to 98.92% for 7 writers\n",
      "23/06/07 19:47:15 WARN MemoryManager: Total allocation exceeds 95.00% (929,405,326 bytes) of heap memory\n",
      "Scaling row group sizes to 98.92% for 7 writers\n",
      "23/06/07 19:47:16 WARN MemoryManager: Total allocation exceeds 95.00% (929,405,326 bytes) of heap memory\n",
      "Scaling row group sizes to 98.92% for 7 writers\n",
      "23/06/07 19:47:16 WARN MemoryManager: Total allocation exceeds 95.00% (929,405,326 bytes) of heap memory\n",
      "Scaling row group sizes to 98.92% for 7 writers\n",
      "23/06/07 19:47:16 WARN MemoryManager: Total allocation exceeds 95.00% (929,405,326 bytes) of heap memory\n",
      "Scaling row group sizes to 98.92% for 7 writers\n",
      "23/06/07 19:47:16 WARN MemoryManager: Total allocation exceeds 95.00% (929,405,326 bytes) of heap memory\n",
      "Scaling row group sizes to 86.56% for 8 writers\n",
      "23/06/07 19:47:16 WARN MemoryManager: Total allocation exceeds 95.00% (929,405,326 bytes) of heap memory\n",
      "Scaling row group sizes to 98.92% for 7 writers\n",
      "23/06/07 19:47:16 WARN MemoryManager: Total allocation exceeds 95.00% (929,405,326 bytes) of heap memory\n",
      "Scaling row group sizes to 98.92% for 7 writers\n",
      "23/06/07 19:47:16 WARN MemoryManager: Total allocation exceeds 95.00% (929,405,326 bytes) of heap memory\n",
      "Scaling row group sizes to 86.56% for 8 writers\n",
      "23/06/07 19:47:17 WARN MemoryManager: Total allocation exceeds 95.00% (929,405,326 bytes) of heap memory\n",
      "Scaling row group sizes to 98.92% for 7 writers\n",
      "23/06/07 19:47:17 WARN MemoryManager: Total allocation exceeds 95.00% (929,405,326 bytes) of heap memory\n",
      "Scaling row group sizes to 98.92% for 7 writers\n",
      "23/06/07 19:47:17 WARN MemoryManager: Total allocation exceeds 95.00% (929,405,326 bytes) of heap memory\n",
      "Scaling row group sizes to 86.56% for 8 writers\n",
      "23/06/07 19:47:17 WARN MemoryManager: Total allocation exceeds 95.00% (929,405,326 bytes) of heap memory\n",
      "Scaling row group sizes to 98.92% for 7 writers\n",
      "23/06/07 19:47:17 WARN MemoryManager: Total allocation exceeds 95.00% (929,405,326 bytes) of heap memory\n",
      "Scaling row group sizes to 98.92% for 7 writers\n",
      "23/06/07 19:47:17 WARN MemoryManager: Total allocation exceeds 95.00% (929,405,326 bytes) of heap memory\n",
      "Scaling row group sizes to 86.56% for 8 writers\n",
      "23/06/07 19:47:17 WARN MemoryManager: Total allocation exceeds 95.00% (929,405,326 bytes) of heap memory\n",
      "Scaling row group sizes to 98.92% for 7 writers\n",
      "23/06/07 19:47:17 WARN MemoryManager: Total allocation exceeds 95.00% (929,405,326 bytes) of heap memory\n",
      "Scaling row group sizes to 98.92% for 7 writers\n",
      "23/06/07 19:47:18 WARN MemoryManager: Total allocation exceeds 95.00% (929,405,326 bytes) of heap memory\n",
      "Scaling row group sizes to 86.56% for 8 writers\n",
      "23/06/07 19:47:18 WARN MemoryManager: Total allocation exceeds 95.00% (929,405,326 bytes) of heap memory\n",
      "Scaling row group sizes to 98.92% for 7 writers\n",
      "23/06/07 19:47:18 WARN MemoryManager: Total allocation exceeds 95.00% (929,405,326 bytes) of heap memory\n",
      "Scaling row group sizes to 98.92% for 7 writers\n",
      "23/06/07 19:47:18 WARN MemoryManager: Total allocation exceeds 95.00% (929,405,326 bytes) of heap memory\n",
      "Scaling row group sizes to 86.56% for 8 writers\n",
      "23/06/07 19:47:18 WARN MemoryManager: Total allocation exceeds 95.00% (929,405,326 bytes) of heap memory\n",
      "Scaling row group sizes to 98.92% for 7 writers\n",
      "23/06/07 19:47:18 WARN MemoryManager: Total allocation exceeds 95.00% (929,405,326 bytes) of heap memory\n",
      "Scaling row group sizes to 98.92% for 7 writers\n",
      "23/06/07 19:47:18 WARN MemoryManager: Total allocation exceeds 95.00% (929,405,326 bytes) of heap memory\n",
      "Scaling row group sizes to 86.56% for 8 writers\n",
      "23/06/07 19:47:18 WARN MemoryManager: Total allocation exceeds 95.00% (929,405,326 bytes) of heap memory\n",
      "Scaling row group sizes to 98.92% for 7 writers\n",
      "23/06/07 19:47:18 WARN MemoryManager: Total allocation exceeds 95.00% (929,405,326 bytes) of heap memory\n",
      "Scaling row group sizes to 98.92% for 7 writers\n",
      "23/06/07 19:47:18 WARN MemoryManager: Total allocation exceeds 95.00% (929,405,326 bytes) of heap memory\n",
      "Scaling row group sizes to 86.56% for 8 writers\n",
      "23/06/07 19:47:18 WARN MemoryManager: Total allocation exceeds 95.00% (929,405,326 bytes) of heap memory\n",
      "Scaling row group sizes to 98.92% for 7 writers\n",
      "23/06/07 19:47:19 WARN MemoryManager: Total allocation exceeds 95.00% (929,405,326 bytes) of heap memory\n",
      "Scaling row group sizes to 98.92% for 7 writers\n",
      "23/06/07 19:47:19 WARN MemoryManager: Total allocation exceeds 95.00% (929,405,326 bytes) of heap memory\n",
      "Scaling row group sizes to 86.56% for 8 writers\n",
      "23/06/07 19:47:19 WARN MemoryManager: Total allocation exceeds 95.00% (929,405,326 bytes) of heap memory\n",
      "Scaling row group sizes to 98.92% for 7 writers\n",
      "23/06/07 19:47:25 WARN MemoryManager: Total allocation exceeds 95.00% (929,405,326 bytes) of heap memory\n",
      "Scaling row group sizes to 98.92% for 7 writers\n",
      "23/06/07 19:47:25 WARN MemoryManager: Total allocation exceeds 95.00% (929,405,326 bytes) of heap memory\n",
      "Scaling row group sizes to 98.92% for 7 writers\n",
      "23/06/07 19:47:26 WARN MemoryManager: Total allocation exceeds 95.00% (929,405,326 bytes) of heap memory\n",
      "Scaling row group sizes to 98.92% for 7 writers\n",
      "23/06/07 19:47:27 WARN MemoryManager: Total allocation exceeds 95.00% (929,405,326 bytes) of heap memory\n",
      "Scaling row group sizes to 98.92% for 7 writers\n",
      "23/06/07 19:47:27 WARN MemoryManager: Total allocation exceeds 95.00% (929,405,326 bytes) of heap memory\n",
      "Scaling row group sizes to 98.92% for 7 writers\n",
      "23/06/07 19:47:27 WARN MemoryManager: Total allocation exceeds 95.00% (929,405,326 bytes) of heap memory\n",
      "Scaling row group sizes to 98.92% for 7 writers\n",
      "23/06/07 19:47:28 WARN MemoryManager: Total allocation exceeds 95.00% (929,405,326 bytes) of heap memory\n",
      "Scaling row group sizes to 98.92% for 7 writers\n",
      "                                                                                \r"
     ]
    }
   ],
   "source": [
    "elect_df.write.partitionBy(\"year\").parquet(\"electronics_cleaned.parquet\")"
   ]
  },
  {
   "attachments": {},
   "cell_type": "markdown",
   "metadata": {},
   "source": [
    "Deeper analysis in separate notebook."
   ]
  },
  {
   "attachments": {},
   "cell_type": "markdown",
   "metadata": {},
   "source": []
  }
 ],
 "metadata": {
  "kernelspec": {
   "display_name": "mads",
   "language": "python",
   "name": "python3"
  },
  "language_info": {
   "codemirror_mode": {
    "name": "ipython",
    "version": 3
   },
   "file_extension": ".py",
   "mimetype": "text/x-python",
   "name": "python",
   "nbconvert_exporter": "python",
   "pygments_lexer": "ipython3",
   "version": "3.11.3"
  },
  "orig_nbformat": 4
 },
 "nbformat": 4,
 "nbformat_minor": 2
}
