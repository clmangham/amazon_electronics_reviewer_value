{
 "cells": [
  {
   "cell_type": "code",
   "execution_count": 1,
   "metadata": {},
   "outputs": [],
   "source": [
    "import pandas as pd\n",
    "import numpy as np\n",
    "import matplotlib.pyplot as plt\n",
    "import seaborn as sns\n",
    "from pyspark.sql import SparkSession\n",
    "from pyspark.sql import SQLContext\n",
    "from pyspark.sql.types import *\n",
    "from pyspark.sql.functions import *\n"
   ]
  },
  {
   "cell_type": "code",
   "execution_count": 2,
   "metadata": {},
   "outputs": [
    {
     "name": "stderr",
     "output_type": "stream",
     "text": [
      "23/06/12 18:15:51 WARN Utils: Your hostname, MBP.local resolves to a loopback address: 127.0.0.1; using 192.168.0.29 instead (on interface en0)\n",
      "23/06/12 18:15:51 WARN Utils: Set SPARK_LOCAL_IP if you need to bind to another address\n",
      "Setting default log level to \"WARN\".\n",
      "To adjust logging level use sc.setLogLevel(newLevel). For SparkR, use setLogLevel(newLevel).\n",
      "23/06/12 18:15:52 WARN NativeCodeLoader: Unable to load native-hadoop library for your platform... using builtin-java classes where applicable\n"
     ]
    }
   ],
   "source": [
    "# Create Spark session \n",
    "spark = SparkSession \\\n",
    "    .builder \\\n",
    "    .master(\"local[*]\") \\\n",
    "    .appName('Milestone_I') \\\n",
    "    .getOrCreate()\n",
    "\n",
    "sc = spark.sparkContext"
   ]
  },
  {
   "attachments": {},
   "cell_type": "markdown",
   "metadata": {},
   "source": [
    "## Load Data\n",
    "Load and take a look at the cleaned data (4,585,331 rows):"
   ]
  },
  {
   "cell_type": "code",
   "execution_count": 3,
   "metadata": {},
   "outputs": [
    {
     "name": "stderr",
     "output_type": "stream",
     "text": [
      "                                                                                \r"
     ]
    },
    {
     "name": "stdout",
     "output_type": "stream",
     "text": [
      "+----------+-------+--------------+--------------+--------------------+-------------+--------------------+-----+--------------------+-----+----+\n",
      "|      asin|overall|unixReviewTime|    reviewerID|          reviewText|        brand|            main_cat|price|               title|month|year|\n",
      "+----------+-------+--------------+--------------+--------------------+-------------+--------------------+-----+--------------------+-----+----+\n",
      "|1935009354|    5.0|    2016-09-26|A1I4L5LK9BFWO0|Works really grea...|Mighty Bright|         Amazon Home|11.99|Mighty Bright 426...|    9|2016|\n",
      "|B006PHFGP6|    5.0|    2016-04-19|A1PLZ5PND29KNJ|Worked just great...|       Visico|      Camera & Photo| 8.95|2 x Visico 110v 2...|    4|2016|\n",
      "|1935009354|    1.0|    2016-09-15|A3Q9HY0LU7MN6E|Right out the pac...|Mighty Bright|         Amazon Home|11.99|Mighty Bright 426...|    9|2016|\n",
      "|B006QQKII6|    3.0|    2016-07-01|A2DJOAED6QFO88|OK, feels cheap a...|  Simply type|Health & Personal...| 2.54|Hebrew &amp; Engl...|    7|2016|\n",
      "|6575464564|    5.0|    2016-02-15|A3G52CYNRF8GBC|The stock cameras...|           Gw|      Camera & Photo| 4.49|GW Security 2.1MP...|    2|2016|\n",
      "|B006QQKII6|    4.0|    2016-05-13|A1NEIH01B5X6QL|Very nice keyboar...|  Simply type|Health & Personal...| 2.54|Hebrew &amp; Engl...|    5|2016|\n",
      "|B000001OL3|    4.0|    2016-04-18|A2CR0ZP6ZHINEK|          OK product|       Maxell|Home Audio & Theater|21.99|MAXELL XL-II C90 ...|    4|2016|\n",
      "|B006QQKII6|    5.0|    2016-04-24| A7G400D1CHUSX|        Good product|  Simply type|Health & Personal...| 2.54|Hebrew &amp; Engl...|    4|2016|\n",
      "|B000001OM5|    5.0|    2016-12-26|A1O39KUP223WGN|cleans  all my stuff|       Maxell|Home Audio &amp; ...| 7.24|Maxell Safe and E...|   12|2016|\n",
      "|B006QQKII6|    3.0|    2016-03-10|A23E6T5DV5UPFG|Keys work as they...|  Simply type|Health & Personal...| 2.54|Hebrew &amp; Engl...|    3|2016|\n",
      "|B000001OM5|    3.0|    2016-12-20|A1ZC38GBGG8J26|Did not help my c...|       Maxell|Home Audio &amp; ...| 7.24|Maxell Safe and E...|   12|2016|\n",
      "|B006R544YU|    5.0|    2016-11-25|A21GK1G4CA6K9R|I had originally ...|     Russound|     All Electronics|11.71|Russound SDB-4.1 ...|   11|2016|\n",
      "|B000001OM5|    5.0|    2016-12-07|A24Y4814OMD65K|Works as advertised.|       Maxell|Home Audio &amp; ...| 7.24|Maxell Safe and E...|   12|2016|\n",
      "|B006R544YU|    4.0|    2016-09-15| AQ3SPIT4QI9YY|Works good but vo...|     Russound|     All Electronics|11.71|Russound SDB-4.1 ...|    9|2016|\n",
      "|B000001OM5|    5.0|    2016-11-03|A35GUTA9XOXS6L|Worked well with ...|       Maxell|Home Audio &amp; ...| 7.24|Maxell Safe and E...|   11|2016|\n",
      "|B006RAGWOK|    3.0|    2016-11-28|A11A7YCJQ33U4Z|I've been somewha...|          JVC|     Car Electronics| 8.65|JVC KD-R780BT Bui...|   11|2016|\n",
      "|B000001OM5|    4.0|    2016-11-01|A1KYF9F9V2XWXY|good for maintena...|       Maxell|Home Audio &amp; ...| 7.24|Maxell Safe and E...|   11|2016|\n",
      "|B006RAGWOK|    4.0|    2016-11-13| AR25HZ3SRSI4C|Good stereo but c...|          JVC|     Car Electronics| 8.65|JVC KD-R780BT Bui...|   11|2016|\n",
      "|B000001OM5|    1.0|    2016-10-30|A2KRESCJHLS0SS|I tried to clean ...|       Maxell|Home Audio &amp; ...| 7.24|Maxell Safe and E...|   10|2016|\n",
      "|B006RAGWOK|    1.0|    2016-11-11| AT7K87V7B0CC0|I am only giving ...|          JVC|     Car Electronics| 8.65|JVC KD-R780BT Bui...|   11|2016|\n",
      "+----------+-------+--------------+--------------+--------------------+-------------+--------------------+-----+--------------------+-----+----+\n",
      "only showing top 20 rows\n",
      "\n"
     ]
    }
   ],
   "source": [
    "df = spark.read.parquet(\"electronics_cleaned.parquet\")\n",
    "df.show()"
   ]
  },
  {
   "attachments": {},
   "cell_type": "markdown",
   "metadata": {},
   "source": [
    "## Overview of Dataset\n",
    "\n",
    "Schema, columns & datatypes of the data set:"
   ]
  },
  {
   "cell_type": "code",
   "execution_count": 4,
   "metadata": {},
   "outputs": [
    {
     "name": "stdout",
     "output_type": "stream",
     "text": [
      "root\n",
      " |-- asin: string (nullable = true)\n",
      " |-- overall: float (nullable = true)\n",
      " |-- unixReviewTime: date (nullable = true)\n",
      " |-- reviewerID: string (nullable = true)\n",
      " |-- reviewText: string (nullable = true)\n",
      " |-- brand: string (nullable = true)\n",
      " |-- main_cat: string (nullable = true)\n",
      " |-- price: double (nullable = true)\n",
      " |-- title: string (nullable = true)\n",
      " |-- month: integer (nullable = true)\n",
      " |-- year: integer (nullable = true)\n",
      "\n"
     ]
    }
   ],
   "source": [
    "df.printSchema()"
   ]
  },
  {
   "attachments": {},
   "cell_type": "markdown",
   "metadata": {},
   "source": [
    "Check partitions:"
   ]
  },
  {
   "cell_type": "code",
   "execution_count": 5,
   "metadata": {},
   "outputs": [
    {
     "data": {
      "text/plain": [
       "26"
      ]
     },
     "execution_count": 5,
     "metadata": {},
     "output_type": "execute_result"
    }
   ],
   "source": [
    "df.rdd.getNumPartitions()"
   ]
  },
  {
   "attachments": {},
   "cell_type": "markdown",
   "metadata": {},
   "source": [
    "## Yearly Summary\n",
    "\n",
    "Summarize the data by year:"
   ]
  },
  {
   "cell_type": "code",
   "execution_count": 6,
   "metadata": {},
   "outputs": [
    {
     "name": "stderr",
     "output_type": "stream",
     "text": [
      "[Stage 7:>                                                          (0 + 8) / 8]\r"
     ]
    },
    {
     "name": "stdout",
     "output_type": "stream",
     "text": [
      "+----+-----------+-------------+--------+-----+----+-----+-----+-----+--------+------------+---------------+\n",
      "|year|num_reviews|num_customers|total$  |mean |min |%25  |%50  |%75  |max     |top_brand   |top_category   |\n",
      "+----+-----------+-------------+--------+-----+----+-----+-----+-----+--------+------------+---------------+\n",
      "|1999|65         |32           |1347    |20.73|1.54|4.99 |25.9 |27.15|106.9   |Nikon       |All Electronics|\n",
      "|2000|595        |238          |12513   |21.03|1.54|2.46 |6.7  |25.9 |259.99  |Linksys     |All Electronics|\n",
      "|2001|1055       |438          |32970   |31.25|1.54|3.83 |15.9 |28.1 |549.99  |Linksys     |All Electronics|\n",
      "|2002|1679       |688          |48750   |29.07|1.54|2.69 |14.99|29.96|1999.99 |Linksys     |All Electronics|\n",
      "|2003|2792       |1075         |88354   |31.67|1.54|2.005|9.0  |25.0 |899.95  |Linksys     |All Electronics|\n",
      "|2004|4303       |1711         |154821  |35.98|0.37|2.78 |12.48|39.99|798.0   |Linksys     |All Electronics|\n",
      "|2005|6837       |3198         |361747  |53.03|0.37|3.76 |12.12|45.12|9599.95 |Canon       |All Electronics|\n",
      "|2006|10520      |5535         |418606  |39.8 |0.01|4.24 |12.74|38.89|9599.95 |Canon       |All Electronics|\n",
      "|2007|24139      |13063        |908392  |37.69|0.01|4.98 |11.99|35.95|9599.95 |Canon       |All Electronics|\n",
      "|2008|36869      |18284        |1536533 |41.71|0.01|5.45 |11.99|39.15|9699.99 |Canon       |All Electronics|\n",
      "|2009|50865      |26366        |1887129 |37.14|0.01|5.25 |10.94|32.99|2209.0  |Canon       |All Electronics|\n",
      "|2010|61805      |34281        |1883727 |30.51|0.01|4.94 |9.99 |20.77|9599.95 |Canon       |All Electronics|\n",
      "|2011|97290      |53566        |2639615 |27.18|0.01|4.95 |9.41 |19.6 |79636.71|Sony        |All Electronics|\n",
      "|2012|172247     |88487        |4695731 |27.31|0.01|4.99 |9.39 |17.74|79636.71|Mediabridge |All Electronics|\n",
      "|2013|396821     |172612       |9272447 |23.41|0.01|4.99 |8.99 |16.99|16296.95|Logitech    |Computers      |\n",
      "|2014|662027     |255130       |14777281|22.36|0.01|4.99 |8.99 |16.89|12999.0 |Logitech    |Computers      |\n",
      "|2015|965178     |338437       |21123155|21.92|0.01|4.99 |8.99 |15.99|16296.95|SanDisk     |Computers      |\n",
      "|2016|1022472    |354916       |22259754|21.81|0.01|4.99 |8.99 |15.81|11295.0 |SanDisk     |Computers      |\n",
      "|2017|741528     |282718       |14710913|19.88|0.01|4.99 |8.99 |14.99|16296.95|AmazonBasics|Computers      |\n",
      "|2018|326244     |153511       |5679024 |17.44|0.01|4.99 |8.94 |14.99|12999.0 |AmazonBasics|Computers      |\n",
      "+----+-----------+-------------+--------+-----+----+-----+-----+-----+--------+------------+---------------+\n",
      "\n"
     ]
    },
    {
     "name": "stderr",
     "output_type": "stream",
     "text": [
      "                                                                                \r"
     ]
    }
   ],
   "source": [
    "df_agg = df.groupBy('year')\\\n",
    "    .agg(count(\"year\").alias(\"num_reviews\"), \\\n",
    "         countDistinct(\"reviewerID\").alias(\"num_customers\"), \\\n",
    "         floor(sum(\"price\")).alias(\"total$\"), \\\n",
    "         round(mean(\"price\"),2).alias(\"mean\"), \\\n",
    "         min('price').alias('min'), \\\n",
    "         expr('percentile(price, array(0.25))')[0].alias('%25'), \\\n",
    "         expr('percentile(price, array(0.5))')[0].alias('%50'), \\\n",
    "         expr('percentile(price, array(0.75))')[0].alias('%75'), \\\n",
    "         max(\"price\").alias(\"max\"), \\\n",
    "         mode(\"brand\").alias(\"top_brand\"), \\\n",
    "         mode(\"main_cat\").alias(\"top_category\") \\\n",
    "     ) \\\n",
    "    .orderBy('year')\n",
    "\n",
    "df_agg.show(truncate=False)\n",
    "    "
   ]
  },
  {
   "attachments": {},
   "cell_type": "markdown",
   "metadata": {},
   "source": [
    "*Note: Calculating std was causing the execution to take very long > 10 mins.*"
   ]
  },
  {
   "attachments": {},
   "cell_type": "markdown",
   "metadata": {},
   "source": [
    "## Visualize totals and median sales\n",
    "\n",
    "Number of reviews by year:"
   ]
  },
  {
   "cell_type": "code",
   "execution_count": 7,
   "metadata": {},
   "outputs": [
    {
     "name": "stderr",
     "output_type": "stream",
     "text": [
      "                                                                                \r"
     ]
    },
    {
     "data": {
      "image/png": "[encoded data removed]",
      "text/plain": [
       "<Figure size 640x480 with 1 Axes>"
      ]
     },
     "metadata": {},
     "output_type": "display_data"
    }
   ],
   "source": [
    "num_reviews = df_agg.select('year', 'num_reviews').toPandas().set_index('year')\n",
    "num_reviews.plot(kind='bar')\n",
    "plt.ylabel('Number of Reviews')\n",
    "plt.xlabel('')\n",
    "plt.title('Most reviews are from 2014-2017')\n",
    "plt.legend('')\n",
    "plt.show()"
   ]
  },
  {
   "attachments": {},
   "cell_type": "markdown",
   "metadata": {},
   "source": [
    "Number of reviewers by year:"
   ]
  },
  {
   "cell_type": "code",
   "execution_count": 8,
   "metadata": {},
   "outputs": [
    {
     "name": "stderr",
     "output_type": "stream",
     "text": [
      "                                                                                \r"
     ]
    },
    {
     "data": {
      "image/png": "[encoded data removed]",
      "text/plain": [
       "<Figure size 640x480 with 1 Axes>"
      ]
     },
     "metadata": {},
     "output_type": "display_data"
    }
   ],
   "source": [
    "num_reviews = df_agg.select('year', 'num_customers').toPandas().set_index('year')\n",
    "num_reviews.plot(kind='bar')\n",
    "plt.ylabel('Unique reviewers')\n",
    "plt.xlabel('')\n",
    "plt.title('2014-2017 sas the highest amount of reviewers')\n",
    "plt.legend('')\n",
    "plt.show()"
   ]
  },
  {
   "attachments": {},
   "cell_type": "markdown",
   "metadata": {},
   "source": [
    "Total $ by year:"
   ]
  },
  {
   "cell_type": "code",
   "execution_count": 9,
   "metadata": {},
   "outputs": [
    {
     "name": "stderr",
     "output_type": "stream",
     "text": [
      "                                                                                \r"
     ]
    },
    {
     "data": {
      "image/png": "[encoded data removed]",
      "text/plain": [
       "<Figure size 640x480 with 1 Axes>"
      ]
     },
     "metadata": {},
     "output_type": "display_data"
    }
   ],
   "source": [
    "num_reviews = df_agg.select('year', 'total$').toPandas().set_index('year')\n",
    "num_reviews.plot(kind='bar')\n",
    "plt.ylabel('Total $')\n",
    "plt.xlabel('')\n",
    "plt.title('Most spending is in same range: 2014-2017')\n",
    "plt.legend('')\n",
    "plt.show()"
   ]
  },
  {
   "attachments": {},
   "cell_type": "markdown",
   "metadata": {},
   "source": [
    "Median spending:"
   ]
  },
  {
   "cell_type": "code",
   "execution_count": 10,
   "metadata": {},
   "outputs": [
    {
     "name": "stderr",
     "output_type": "stream",
     "text": [
      "                                                                                \r"
     ]
    },
    {
     "data": {
      "image/png": "[encoded data removed]",
      "text/plain": [
       "<Figure size 640x480 with 1 Axes>"
      ]
     },
     "metadata": {},
     "output_type": "display_data"
    }
   ],
   "source": [
    "num_reviews = df_agg.select('year', '%50').toPandas().set_index('year')\n",
    "num_reviews.plot(kind='bar')\n",
    "plt.axhline(num_reviews.mean().values, linestyle = '--', color = 'black', alpha = 0.5)\n",
    "plt.ylabel('Total $')\n",
    "plt.xlabel('')\n",
    "plt.title('Median spending is consistently around $11')\n",
    "plt.legend('')\n",
    "plt.show()"
   ]
  },
  {
   "attachments": {},
   "cell_type": "markdown",
   "metadata": {},
   "source": [
    "## Customer Lifetime Value\n",
    "\n",
    "[Customer lifetime value](https://www.qualtrics.com/experience-management/customer/how-to-calculate-customer-lifetime-value/) (CLV) helps you to understand how the profitability of a particular customer or customer segment.\n",
    "\n",
    "CLV can be calculated at a company level (i.e. the average CLV across all your customers), a customer segment level (the CLV of distinct groups within your customer base) or an individual level (the CLV of each individual customer you deal with).\n",
    "\n",
    "To start off, we will calculate the company-wide CLV. First we must engineer new features as described in the article above:\n",
    "- Average reviews value\n",
    "    - Value of reviews / by number of reviews in that period\n",
    "    - **This is `mean` value in the table above**\n",
    "- Average review frequency\n",
    "    - Number of reviews / number of individual reviewers\n",
    "- Reviewer Value\n",
    "    - Average reviews frequency multiplied by the average reviews value\n",
    "- Average customer lifespan\n",
    "    - Average length of time a customer continues buying\n",
    "    - This may difficult as the data is based on purchase reviewers and not all purchasers...\n",
    "\n",
    "Working in pandas, next we calcuate the average review frequency:"
   ]
  },
  {
   "cell_type": "code",
   "execution_count": 11,
   "metadata": {},
   "outputs": [
    {
     "name": "stderr",
     "output_type": "stream",
     "text": [
      "                                                                                \r"
     ]
    },
    {
     "data": {
      "text/html": [
       "<div>\n",
       "<style scoped>\n",
       "    .dataframe tbody tr th:only-of-type {\n",
       "        vertical-align: middle;\n",
       "    }\n",
       "\n",
       "    .dataframe tbody tr th {\n",
       "        vertical-align: top;\n",
       "    }\n",
       "\n",
       "    .dataframe thead th {\n",
       "        text-align: right;\n",
       "    }\n",
       "</style>\n",
       "<table border=\"1\" class=\"dataframe\">\n",
       "  <thead>\n",
       "    <tr style=\"text-align: right;\">\n",
       "      <th></th>\n",
       "      <th>year</th>\n",
       "      <th>num_reviews</th>\n",
       "      <th>num_customers</th>\n",
       "      <th>total$</th>\n",
       "      <th>mean</th>\n",
       "      <th>min</th>\n",
       "      <th>%25</th>\n",
       "      <th>%50</th>\n",
       "      <th>%75</th>\n",
       "      <th>max</th>\n",
       "      <th>top_brand</th>\n",
       "      <th>top_category</th>\n",
       "    </tr>\n",
       "  </thead>\n",
       "  <tbody>\n",
       "    <tr>\n",
       "      <th>0</th>\n",
       "      <td>1999</td>\n",
       "      <td>65</td>\n",
       "      <td>32</td>\n",
       "      <td>1347</td>\n",
       "      <td>20.73</td>\n",
       "      <td>1.54</td>\n",
       "      <td>4.990</td>\n",
       "      <td>25.90</td>\n",
       "      <td>27.15</td>\n",
       "      <td>106.90</td>\n",
       "      <td>Nikon</td>\n",
       "      <td>All Electronics</td>\n",
       "    </tr>\n",
       "    <tr>\n",
       "      <th>1</th>\n",
       "      <td>2000</td>\n",
       "      <td>595</td>\n",
       "      <td>238</td>\n",
       "      <td>12513</td>\n",
       "      <td>21.03</td>\n",
       "      <td>1.54</td>\n",
       "      <td>2.460</td>\n",
       "      <td>6.70</td>\n",
       "      <td>25.90</td>\n",
       "      <td>259.99</td>\n",
       "      <td>Linksys</td>\n",
       "      <td>All Electronics</td>\n",
       "    </tr>\n",
       "    <tr>\n",
       "      <th>2</th>\n",
       "      <td>2001</td>\n",
       "      <td>1055</td>\n",
       "      <td>438</td>\n",
       "      <td>32970</td>\n",
       "      <td>31.25</td>\n",
       "      <td>1.54</td>\n",
       "      <td>3.830</td>\n",
       "      <td>15.90</td>\n",
       "      <td>28.10</td>\n",
       "      <td>549.99</td>\n",
       "      <td>Linksys</td>\n",
       "      <td>All Electronics</td>\n",
       "    </tr>\n",
       "    <tr>\n",
       "      <th>3</th>\n",
       "      <td>2002</td>\n",
       "      <td>1679</td>\n",
       "      <td>688</td>\n",
       "      <td>48750</td>\n",
       "      <td>29.07</td>\n",
       "      <td>1.54</td>\n",
       "      <td>2.690</td>\n",
       "      <td>14.99</td>\n",
       "      <td>29.96</td>\n",
       "      <td>1999.99</td>\n",
       "      <td>Linksys</td>\n",
       "      <td>All Electronics</td>\n",
       "    </tr>\n",
       "    <tr>\n",
       "      <th>4</th>\n",
       "      <td>2003</td>\n",
       "      <td>2792</td>\n",
       "      <td>1075</td>\n",
       "      <td>88354</td>\n",
       "      <td>31.67</td>\n",
       "      <td>1.54</td>\n",
       "      <td>2.005</td>\n",
       "      <td>9.00</td>\n",
       "      <td>25.00</td>\n",
       "      <td>899.95</td>\n",
       "      <td>Linksys</td>\n",
       "      <td>All Electronics</td>\n",
       "    </tr>\n",
       "    <tr>\n",
       "      <th>5</th>\n",
       "      <td>2004</td>\n",
       "      <td>4303</td>\n",
       "      <td>1711</td>\n",
       "      <td>154821</td>\n",
       "      <td>35.98</td>\n",
       "      <td>0.37</td>\n",
       "      <td>2.780</td>\n",
       "      <td>12.48</td>\n",
       "      <td>39.99</td>\n",
       "      <td>798.00</td>\n",
       "      <td>Linksys</td>\n",
       "      <td>All Electronics</td>\n",
       "    </tr>\n",
       "    <tr>\n",
       "      <th>6</th>\n",
       "      <td>2005</td>\n",
       "      <td>6837</td>\n",
       "      <td>3198</td>\n",
       "      <td>361747</td>\n",
       "      <td>53.03</td>\n",
       "      <td>0.37</td>\n",
       "      <td>3.760</td>\n",
       "      <td>12.12</td>\n",
       "      <td>45.12</td>\n",
       "      <td>9599.95</td>\n",
       "      <td>Canon</td>\n",
       "      <td>All Electronics</td>\n",
       "    </tr>\n",
       "    <tr>\n",
       "      <th>7</th>\n",
       "      <td>2006</td>\n",
       "      <td>10520</td>\n",
       "      <td>5535</td>\n",
       "      <td>418606</td>\n",
       "      <td>39.80</td>\n",
       "      <td>0.01</td>\n",
       "      <td>4.240</td>\n",
       "      <td>12.74</td>\n",
       "      <td>38.89</td>\n",
       "      <td>9599.95</td>\n",
       "      <td>Canon</td>\n",
       "      <td>All Electronics</td>\n",
       "    </tr>\n",
       "    <tr>\n",
       "      <th>8</th>\n",
       "      <td>2007</td>\n",
       "      <td>24139</td>\n",
       "      <td>13063</td>\n",
       "      <td>908392</td>\n",
       "      <td>37.69</td>\n",
       "      <td>0.01</td>\n",
       "      <td>4.980</td>\n",
       "      <td>11.99</td>\n",
       "      <td>35.95</td>\n",
       "      <td>9599.95</td>\n",
       "      <td>Canon</td>\n",
       "      <td>All Electronics</td>\n",
       "    </tr>\n",
       "    <tr>\n",
       "      <th>9</th>\n",
       "      <td>2008</td>\n",
       "      <td>36869</td>\n",
       "      <td>18284</td>\n",
       "      <td>1536533</td>\n",
       "      <td>41.71</td>\n",
       "      <td>0.01</td>\n",
       "      <td>5.450</td>\n",
       "      <td>11.99</td>\n",
       "      <td>39.15</td>\n",
       "      <td>9699.99</td>\n",
       "      <td>Canon</td>\n",
       "      <td>All Electronics</td>\n",
       "    </tr>\n",
       "    <tr>\n",
       "      <th>10</th>\n",
       "      <td>2009</td>\n",
       "      <td>50865</td>\n",
       "      <td>26366</td>\n",
       "      <td>1887129</td>\n",
       "      <td>37.14</td>\n",
       "      <td>0.01</td>\n",
       "      <td>5.250</td>\n",
       "      <td>10.94</td>\n",
       "      <td>32.99</td>\n",
       "      <td>2209.00</td>\n",
       "      <td>Canon</td>\n",
       "      <td>All Electronics</td>\n",
       "    </tr>\n",
       "    <tr>\n",
       "      <th>11</th>\n",
       "      <td>2010</td>\n",
       "      <td>61805</td>\n",
       "      <td>34281</td>\n",
       "      <td>1883727</td>\n",
       "      <td>30.51</td>\n",
       "      <td>0.01</td>\n",
       "      <td>4.940</td>\n",
       "      <td>9.99</td>\n",
       "      <td>20.77</td>\n",
       "      <td>9599.95</td>\n",
       "      <td>Canon</td>\n",
       "      <td>All Electronics</td>\n",
       "    </tr>\n",
       "    <tr>\n",
       "      <th>12</th>\n",
       "      <td>2011</td>\n",
       "      <td>97290</td>\n",
       "      <td>53566</td>\n",
       "      <td>2639615</td>\n",
       "      <td>27.18</td>\n",
       "      <td>0.01</td>\n",
       "      <td>4.950</td>\n",
       "      <td>9.41</td>\n",
       "      <td>19.60</td>\n",
       "      <td>79636.71</td>\n",
       "      <td>Sony</td>\n",
       "      <td>All Electronics</td>\n",
       "    </tr>\n",
       "    <tr>\n",
       "      <th>13</th>\n",
       "      <td>2012</td>\n",
       "      <td>172247</td>\n",
       "      <td>88487</td>\n",
       "      <td>4695731</td>\n",
       "      <td>27.31</td>\n",
       "      <td>0.01</td>\n",
       "      <td>4.990</td>\n",
       "      <td>9.39</td>\n",
       "      <td>17.74</td>\n",
       "      <td>79636.71</td>\n",
       "      <td>Mediabridge</td>\n",
       "      <td>All Electronics</td>\n",
       "    </tr>\n",
       "    <tr>\n",
       "      <th>14</th>\n",
       "      <td>2013</td>\n",
       "      <td>396821</td>\n",
       "      <td>172612</td>\n",
       "      <td>9272447</td>\n",
       "      <td>23.41</td>\n",
       "      <td>0.01</td>\n",
       "      <td>4.990</td>\n",
       "      <td>8.99</td>\n",
       "      <td>16.99</td>\n",
       "      <td>16296.95</td>\n",
       "      <td>Logitech</td>\n",
       "      <td>Computers</td>\n",
       "    </tr>\n",
       "    <tr>\n",
       "      <th>15</th>\n",
       "      <td>2014</td>\n",
       "      <td>662027</td>\n",
       "      <td>255130</td>\n",
       "      <td>14777281</td>\n",
       "      <td>22.36</td>\n",
       "      <td>0.01</td>\n",
       "      <td>4.990</td>\n",
       "      <td>8.99</td>\n",
       "      <td>16.89</td>\n",
       "      <td>12999.00</td>\n",
       "      <td>Logitech</td>\n",
       "      <td>Computers</td>\n",
       "    </tr>\n",
       "    <tr>\n",
       "      <th>16</th>\n",
       "      <td>2015</td>\n",
       "      <td>965178</td>\n",
       "      <td>338437</td>\n",
       "      <td>21123155</td>\n",
       "      <td>21.92</td>\n",
       "      <td>0.01</td>\n",
       "      <td>4.990</td>\n",
       "      <td>8.99</td>\n",
       "      <td>15.99</td>\n",
       "      <td>16296.95</td>\n",
       "      <td>SanDisk</td>\n",
       "      <td>Computers</td>\n",
       "    </tr>\n",
       "    <tr>\n",
       "      <th>17</th>\n",
       "      <td>2016</td>\n",
       "      <td>1022472</td>\n",
       "      <td>354916</td>\n",
       "      <td>22259754</td>\n",
       "      <td>21.81</td>\n",
       "      <td>0.01</td>\n",
       "      <td>4.990</td>\n",
       "      <td>8.99</td>\n",
       "      <td>15.81</td>\n",
       "      <td>11295.00</td>\n",
       "      <td>SanDisk</td>\n",
       "      <td>Computers</td>\n",
       "    </tr>\n",
       "    <tr>\n",
       "      <th>18</th>\n",
       "      <td>2017</td>\n",
       "      <td>741528</td>\n",
       "      <td>282718</td>\n",
       "      <td>14710913</td>\n",
       "      <td>19.88</td>\n",
       "      <td>0.01</td>\n",
       "      <td>4.990</td>\n",
       "      <td>8.99</td>\n",
       "      <td>14.99</td>\n",
       "      <td>16296.95</td>\n",
       "      <td>AmazonBasics</td>\n",
       "      <td>Computers</td>\n",
       "    </tr>\n",
       "    <tr>\n",
       "      <th>19</th>\n",
       "      <td>2018</td>\n",
       "      <td>326244</td>\n",
       "      <td>153511</td>\n",
       "      <td>5679024</td>\n",
       "      <td>17.44</td>\n",
       "      <td>0.01</td>\n",
       "      <td>4.990</td>\n",
       "      <td>8.94</td>\n",
       "      <td>14.99</td>\n",
       "      <td>12999.00</td>\n",
       "      <td>AmazonBasics</td>\n",
       "      <td>Computers</td>\n",
       "    </tr>\n",
       "  </tbody>\n",
       "</table>\n",
       "</div>"
      ],
      "text/plain": [
       "    year  num_reviews  num_customers    total$   mean   min    %25    %50   \n",
       "0   1999           65             32      1347  20.73  1.54  4.990  25.90  \\\n",
       "1   2000          595            238     12513  21.03  1.54  2.460   6.70   \n",
       "2   2001         1055            438     32970  31.25  1.54  3.830  15.90   \n",
       "3   2002         1679            688     48750  29.07  1.54  2.690  14.99   \n",
       "4   2003         2792           1075     88354  31.67  1.54  2.005   9.00   \n",
       "5   2004         4303           1711    154821  35.98  0.37  2.780  12.48   \n",
       "6   2005         6837           3198    361747  53.03  0.37  3.760  12.12   \n",
       "7   2006        10520           5535    418606  39.80  0.01  4.240  12.74   \n",
       "8   2007        24139          13063    908392  37.69  0.01  4.980  11.99   \n",
       "9   2008        36869          18284   1536533  41.71  0.01  5.450  11.99   \n",
       "10  2009        50865          26366   1887129  37.14  0.01  5.250  10.94   \n",
       "11  2010        61805          34281   1883727  30.51  0.01  4.940   9.99   \n",
       "12  2011        97290          53566   2639615  27.18  0.01  4.950   9.41   \n",
       "13  2012       172247          88487   4695731  27.31  0.01  4.990   9.39   \n",
       "14  2013       396821         172612   9272447  23.41  0.01  4.990   8.99   \n",
       "15  2014       662027         255130  14777281  22.36  0.01  4.990   8.99   \n",
       "16  2015       965178         338437  21123155  21.92  0.01  4.990   8.99   \n",
       "17  2016      1022472         354916  22259754  21.81  0.01  4.990   8.99   \n",
       "18  2017       741528         282718  14710913  19.88  0.01  4.990   8.99   \n",
       "19  2018       326244         153511   5679024  17.44  0.01  4.990   8.94   \n",
       "\n",
       "      %75       max     top_brand     top_category  \n",
       "0   27.15    106.90         Nikon  All Electronics  \n",
       "1   25.90    259.99       Linksys  All Electronics  \n",
       "2   28.10    549.99       Linksys  All Electronics  \n",
       "3   29.96   1999.99       Linksys  All Electronics  \n",
       "4   25.00    899.95       Linksys  All Electronics  \n",
       "5   39.99    798.00       Linksys  All Electronics  \n",
       "6   45.12   9599.95         Canon  All Electronics  \n",
       "7   38.89   9599.95         Canon  All Electronics  \n",
       "8   35.95   9599.95         Canon  All Electronics  \n",
       "9   39.15   9699.99         Canon  All Electronics  \n",
       "10  32.99   2209.00         Canon  All Electronics  \n",
       "11  20.77   9599.95         Canon  All Electronics  \n",
       "12  19.60  79636.71          Sony  All Electronics  \n",
       "13  17.74  79636.71   Mediabridge  All Electronics  \n",
       "14  16.99  16296.95      Logitech        Computers  \n",
       "15  16.89  12999.00      Logitech        Computers  \n",
       "16  15.99  16296.95       SanDisk        Computers  \n",
       "17  15.81  11295.00       SanDisk        Computers  \n",
       "18  14.99  16296.95  AmazonBasics        Computers  \n",
       "19  14.99  12999.00  AmazonBasics        Computers  "
      ]
     },
     "execution_count": 11,
     "metadata": {},
     "output_type": "execute_result"
    }
   ],
   "source": [
    "# Convert our yearly summary data from a Spark dataframe to a Pandas dataframe\n",
    "yearly = df_agg.toPandas()\n",
    "yearly"
   ]
  },
  {
   "attachments": {},
   "cell_type": "markdown",
   "metadata": {},
   "source": [
    "### Average review frequency\n",
    "- Number of reviews / number of individual reviewers"
   ]
  },
  {
   "cell_type": "code",
   "execution_count": 12,
   "metadata": {},
   "outputs": [
    {
     "data": {
      "image/png": "[encoded data removed]",
      "text/plain": [
       "<Figure size 640x480 with 1 Axes>"
      ]
     },
     "metadata": {},
     "output_type": "display_data"
    }
   ],
   "source": [
    "yearly['avg_rev_freq'] = yearly['num_reviews']/yearly['num_customers']\n",
    "yearly.plot(x = 'year', y = 'avg_rev_freq', kind = 'bar')\n",
    "plt.ylabel('Avg reviews per customer')\n",
    "plt.xlabel('')\n",
    "plt.title('2 reviews on average per unique customer')\n",
    "plt.legend('')\n",
    "plt.show()"
   ]
  },
  {
   "attachments": {},
   "cell_type": "markdown",
   "metadata": {},
   "source": [
    "There are an average of 2 reviews per unique customer in this dataset."
   ]
  },
  {
   "attachments": {},
   "cell_type": "markdown",
   "metadata": {},
   "source": [
    "### Reviewer Value\n",
    "- Average reviews frequency multiplied by the average reviews value (mean)"
   ]
  },
  {
   "cell_type": "code",
   "execution_count": 13,
   "metadata": {},
   "outputs": [
    {
     "data": {
      "image/png": "[encoded data removed]",
      "text/plain": [
       "<Figure size 640x480 with 1 Axes>"
      ]
     },
     "metadata": {},
     "output_type": "display_data"
    }
   ],
   "source": [
    "yearly['reviewer_value'] = yearly['avg_rev_freq']*yearly['mean']\n",
    "yearly.plot(x = 'year', y = 'reviewer_value', kind = 'bar')\n",
    "plt.axhline(yearly['reviewer_value'].mean(),linestyle = '--', color = 'black', alpha = 0.5)\n",
    "plt.ylabel('Reviewer Value ($)')\n",
    "plt.xlabel('')\n",
    "plt.title('Yearly reviewer value')\n",
    "plt.legend('')\n",
    "plt.show()"
   ]
  },
  {
   "attachments": {},
   "cell_type": "markdown",
   "metadata": {},
   "source": [
    "Average reviewer value is around $65, and was highest in 2005 and lowest in 2018. *Highlight mean, high, low, on plot*"
   ]
  },
  {
   "attachments": {},
   "cell_type": "markdown",
   "metadata": {},
   "source": [
    "### Average customer lifespan (Average reviewer activity)\n",
    "- Average length of time a customer continues buying\n",
    "- For this analysis we will determine the average number of yearly reviews per reviewer.\n",
    "\n",
    "First, for each reviewer how many reviews were left each year? Then will find the average per year."
   ]
  },
  {
   "cell_type": "code",
   "execution_count": 14,
   "metadata": {},
   "outputs": [],
   "source": [
    "# Calculate the number of avg months each reviewer left a review, per year\n",
    "# reviewer_lifespan = df.groupBy('reviewerID', 'year') \\\n",
    "#     .agg(countDistinct('month').alias('num_months')) \\\n",
    "#     .groupBy('year') \\\n",
    "#         .agg(round(mean('num_months'),2).alias('avg_num_months')) \\\n",
    "#         .orderBy('year').toPandas()\n",
    "\n",
    "# reviewer_lifespan"
   ]
  },
  {
   "cell_type": "code",
   "execution_count": 15,
   "metadata": {},
   "outputs": [
    {
     "name": "stderr",
     "output_type": "stream",
     "text": [
      "23/06/12 18:17:33 WARN RowBasedKeyValueBatch: Calling spill() on RowBasedKeyValueBatch. Will not spill but return 0.\n",
      "23/06/12 18:17:33 WARN RowBasedKeyValueBatch: Calling spill() on RowBasedKeyValueBatch. Will not spill but return 0.\n",
      "23/06/12 18:17:33 WARN RowBasedKeyValueBatch: Calling spill() on RowBasedKeyValueBatch. Will not spill but return 0.\n",
      "23/06/12 18:17:33 WARN RowBasedKeyValueBatch: Calling spill() on RowBasedKeyValueBatch. Will not spill but return 0.\n",
      "23/06/12 18:17:33 WARN RowBasedKeyValueBatch: Calling spill() on RowBasedKeyValueBatch. Will not spill but return 0.\n",
      "23/06/12 18:17:33 WARN RowBasedKeyValueBatch: Calling spill() on RowBasedKeyValueBatch. Will not spill but return 0.\n",
      "23/06/12 18:17:33 WARN RowBasedKeyValueBatch: Calling spill() on RowBasedKeyValueBatch. Will not spill but return 0.\n",
      "23/06/12 18:17:33 WARN RowBasedKeyValueBatch: Calling spill() on RowBasedKeyValueBatch. Will not spill but return 0.\n",
      "23/06/12 18:17:33 WARN RowBasedKeyValueBatch: Calling spill() on RowBasedKeyValueBatch. Will not spill but return 0.\n",
      "23/06/12 18:17:33 WARN RowBasedKeyValueBatch: Calling spill() on RowBasedKeyValueBatch. Will not spill but return 0.\n",
      "23/06/12 18:17:33 WARN RowBasedKeyValueBatch: Calling spill() on RowBasedKeyValueBatch. Will not spill but return 0.\n",
      "23/06/12 18:17:33 WARN RowBasedKeyValueBatch: Calling spill() on RowBasedKeyValueBatch. Will not spill but return 0.\n",
      "23/06/12 18:17:33 WARN RowBasedKeyValueBatch: Calling spill() on RowBasedKeyValueBatch. Will not spill but return 0.\n",
      "23/06/12 18:17:33 WARN RowBasedKeyValueBatch: Calling spill() on RowBasedKeyValueBatch. Will not spill but return 0.\n",
      "23/06/12 18:17:33 WARN RowBasedKeyValueBatch: Calling spill() on RowBasedKeyValueBatch. Will not spill but return 0.\n",
      "23/06/12 18:17:33 WARN RowBasedKeyValueBatch: Calling spill() on RowBasedKeyValueBatch. Will not spill but return 0.\n",
      "23/06/12 18:17:34 WARN RowBasedKeyValueBatch: Calling spill() on RowBasedKeyValueBatch. Will not spill but return 0.\n",
      "23/06/12 18:17:34 WARN RowBasedKeyValueBatch: Calling spill() on RowBasedKeyValueBatch. Will not spill but return 0.\n",
      "23/06/12 18:17:34 WARN RowBasedKeyValueBatch: Calling spill() on RowBasedKeyValueBatch. Will not spill but return 0.\n",
      "23/06/12 18:17:34 WARN RowBasedKeyValueBatch: Calling spill() on RowBasedKeyValueBatch. Will not spill but return 0.\n",
      "23/06/12 18:17:34 WARN RowBasedKeyValueBatch: Calling spill() on RowBasedKeyValueBatch. Will not spill but return 0.\n",
      "23/06/12 18:17:34 WARN RowBasedKeyValueBatch: Calling spill() on RowBasedKeyValueBatch. Will not spill but return 0.\n",
      "23/06/12 18:17:34 WARN RowBasedKeyValueBatch: Calling spill() on RowBasedKeyValueBatch. Will not spill but return 0.\n",
      "23/06/12 18:17:34 WARN RowBasedKeyValueBatch: Calling spill() on RowBasedKeyValueBatch. Will not spill but return 0.\n",
      "23/06/12 18:17:34 WARN RowBasedKeyValueBatch: Calling spill() on RowBasedKeyValueBatch. Will not spill but return 0.\n",
      "23/06/12 18:17:34 WARN RowBasedKeyValueBatch: Calling spill() on RowBasedKeyValueBatch. Will not spill but return 0.\n",
      "23/06/12 18:17:34 WARN RowBasedKeyValueBatch: Calling spill() on RowBasedKeyValueBatch. Will not spill but return 0.\n",
      "23/06/12 18:17:34 WARN RowBasedKeyValueBatch: Calling spill() on RowBasedKeyValueBatch. Will not spill but return 0.\n",
      "23/06/12 18:17:34 WARN RowBasedKeyValueBatch: Calling spill() on RowBasedKeyValueBatch. Will not spill but return 0.\n",
      "23/06/12 18:17:34 WARN RowBasedKeyValueBatch: Calling spill() on RowBasedKeyValueBatch. Will not spill but return 0.\n",
      "23/06/12 18:17:34 WARN RowBasedKeyValueBatch: Calling spill() on RowBasedKeyValueBatch. Will not spill but return 0.\n",
      "23/06/12 18:17:34 WARN RowBasedKeyValueBatch: Calling spill() on RowBasedKeyValueBatch. Will not spill but return 0.\n",
      "23/06/12 18:17:37 WARN RowBasedKeyValueBatch: Calling spill() on RowBasedKeyValueBatch. Will not spill but return 0.\n",
      "23/06/12 18:17:37 WARN RowBasedKeyValueBatch: Calling spill() on RowBasedKeyValueBatch. Will not spill but return 0.\n",
      "23/06/12 18:17:37 WARN RowBasedKeyValueBatch: Calling spill() on RowBasedKeyValueBatch. Will not spill but return 0.\n",
      "23/06/12 18:17:37 WARN RowBasedKeyValueBatch: Calling spill() on RowBasedKeyValueBatch. Will not spill but return 0.\n",
      "23/06/12 18:17:37 WARN RowBasedKeyValueBatch: Calling spill() on RowBasedKeyValueBatch. Will not spill but return 0.\n",
      "23/06/12 18:17:37 WARN RowBasedKeyValueBatch: Calling spill() on RowBasedKeyValueBatch. Will not spill but return 0.\n",
      "23/06/12 18:17:37 WARN RowBasedKeyValueBatch: Calling spill() on RowBasedKeyValueBatch. Will not spill but return 0.\n",
      "23/06/12 18:17:37 WARN RowBasedKeyValueBatch: Calling spill() on RowBasedKeyValueBatch. Will not spill but return 0.\n",
      "23/06/12 18:17:37 WARN RowBasedKeyValueBatch: Calling spill() on RowBasedKeyValueBatch. Will not spill but return 0.\n",
      "23/06/12 18:17:37 WARN RowBasedKeyValueBatch: Calling spill() on RowBasedKeyValueBatch. Will not spill but return 0.\n",
      "23/06/12 18:17:37 WARN RowBasedKeyValueBatch: Calling spill() on RowBasedKeyValueBatch. Will not spill but return 0.\n",
      "23/06/12 18:17:37 WARN RowBasedKeyValueBatch: Calling spill() on RowBasedKeyValueBatch. Will not spill but return 0.\n",
      "23/06/12 18:17:37 WARN RowBasedKeyValueBatch: Calling spill() on RowBasedKeyValueBatch. Will not spill but return 0.\n",
      "23/06/12 18:17:37 WARN RowBasedKeyValueBatch: Calling spill() on RowBasedKeyValueBatch. Will not spill but return 0.\n",
      "23/06/12 18:17:37 WARN RowBasedKeyValueBatch: Calling spill() on RowBasedKeyValueBatch. Will not spill but return 0.\n",
      "23/06/12 18:17:37 WARN RowBasedKeyValueBatch: Calling spill() on RowBasedKeyValueBatch. Will not spill but return 0.\n",
      "23/06/12 18:17:37 WARN RowBasedKeyValueBatch: Calling spill() on RowBasedKeyValueBatch. Will not spill but return 0.\n",
      "23/06/12 18:17:37 WARN RowBasedKeyValueBatch: Calling spill() on RowBasedKeyValueBatch. Will not spill but return 0.\n",
      "23/06/12 18:17:37 WARN RowBasedKeyValueBatch: Calling spill() on RowBasedKeyValueBatch. Will not spill but return 0.\n",
      "23/06/12 18:17:37 WARN RowBasedKeyValueBatch: Calling spill() on RowBasedKeyValueBatch. Will not spill but return 0.\n",
      "23/06/12 18:17:37 WARN RowBasedKeyValueBatch: Calling spill() on RowBasedKeyValueBatch. Will not spill but return 0.\n",
      "23/06/12 18:17:37 WARN RowBasedKeyValueBatch: Calling spill() on RowBasedKeyValueBatch. Will not spill but return 0.\n",
      "23/06/12 18:17:37 WARN RowBasedKeyValueBatch: Calling spill() on RowBasedKeyValueBatch. Will not spill but return 0.\n",
      "                                                                                \r"
     ]
    },
    {
     "data": {
      "text/html": [
       "<div>\n",
       "<style scoped>\n",
       "    .dataframe tbody tr th:only-of-type {\n",
       "        vertical-align: middle;\n",
       "    }\n",
       "\n",
       "    .dataframe tbody tr th {\n",
       "        vertical-align: top;\n",
       "    }\n",
       "\n",
       "    .dataframe thead th {\n",
       "        text-align: right;\n",
       "    }\n",
       "</style>\n",
       "<table border=\"1\" class=\"dataframe\">\n",
       "  <thead>\n",
       "    <tr style=\"text-align: right;\">\n",
       "      <th></th>\n",
       "      <th>year</th>\n",
       "      <th>avg_reviews_per_reviewer</th>\n",
       "    </tr>\n",
       "  </thead>\n",
       "  <tbody>\n",
       "    <tr>\n",
       "      <th>0</th>\n",
       "      <td>1999</td>\n",
       "      <td>1.03</td>\n",
       "    </tr>\n",
       "    <tr>\n",
       "      <th>1</th>\n",
       "      <td>2000</td>\n",
       "      <td>1.24</td>\n",
       "    </tr>\n",
       "    <tr>\n",
       "      <th>2</th>\n",
       "      <td>2001</td>\n",
       "      <td>1.20</td>\n",
       "    </tr>\n",
       "    <tr>\n",
       "      <th>3</th>\n",
       "      <td>2002</td>\n",
       "      <td>1.20</td>\n",
       "    </tr>\n",
       "    <tr>\n",
       "      <th>4</th>\n",
       "      <td>2003</td>\n",
       "      <td>1.29</td>\n",
       "    </tr>\n",
       "    <tr>\n",
       "      <th>5</th>\n",
       "      <td>2004</td>\n",
       "      <td>1.26</td>\n",
       "    </tr>\n",
       "    <tr>\n",
       "      <th>6</th>\n",
       "      <td>2005</td>\n",
       "      <td>1.22</td>\n",
       "    </tr>\n",
       "    <tr>\n",
       "      <th>7</th>\n",
       "      <td>2006</td>\n",
       "      <td>1.25</td>\n",
       "    </tr>\n",
       "    <tr>\n",
       "      <th>8</th>\n",
       "      <td>2007</td>\n",
       "      <td>1.32</td>\n",
       "    </tr>\n",
       "    <tr>\n",
       "      <th>9</th>\n",
       "      <td>2008</td>\n",
       "      <td>1.35</td>\n",
       "    </tr>\n",
       "    <tr>\n",
       "      <th>10</th>\n",
       "      <td>2009</td>\n",
       "      <td>1.38</td>\n",
       "    </tr>\n",
       "    <tr>\n",
       "      <th>11</th>\n",
       "      <td>2010</td>\n",
       "      <td>1.39</td>\n",
       "    </tr>\n",
       "    <tr>\n",
       "      <th>12</th>\n",
       "      <td>2011</td>\n",
       "      <td>1.48</td>\n",
       "    </tr>\n",
       "    <tr>\n",
       "      <th>13</th>\n",
       "      <td>2012</td>\n",
       "      <td>1.63</td>\n",
       "    </tr>\n",
       "    <tr>\n",
       "      <th>14</th>\n",
       "      <td>2013</td>\n",
       "      <td>1.95</td>\n",
       "    </tr>\n",
       "    <tr>\n",
       "      <th>15</th>\n",
       "      <td>2014</td>\n",
       "      <td>2.19</td>\n",
       "    </tr>\n",
       "    <tr>\n",
       "      <th>16</th>\n",
       "      <td>2015</td>\n",
       "      <td>2.43</td>\n",
       "    </tr>\n",
       "    <tr>\n",
       "      <th>17</th>\n",
       "      <td>2016</td>\n",
       "      <td>2.53</td>\n",
       "    </tr>\n",
       "    <tr>\n",
       "      <th>18</th>\n",
       "      <td>2017</td>\n",
       "      <td>2.31</td>\n",
       "    </tr>\n",
       "    <tr>\n",
       "      <th>19</th>\n",
       "      <td>2018</td>\n",
       "      <td>1.89</td>\n",
       "    </tr>\n",
       "  </tbody>\n",
       "</table>\n",
       "</div>"
      ],
      "text/plain": [
       "    year  avg_reviews_per_reviewer\n",
       "0   1999                      1.03\n",
       "1   2000                      1.24\n",
       "2   2001                      1.20\n",
       "3   2002                      1.20\n",
       "4   2003                      1.29\n",
       "5   2004                      1.26\n",
       "6   2005                      1.22\n",
       "7   2006                      1.25\n",
       "8   2007                      1.32\n",
       "9   2008                      1.35\n",
       "10  2009                      1.38\n",
       "11  2010                      1.39\n",
       "12  2011                      1.48\n",
       "13  2012                      1.63\n",
       "14  2013                      1.95\n",
       "15  2014                      2.19\n",
       "16  2015                      2.43\n",
       "17  2016                      2.53\n",
       "18  2017                      2.31\n",
       "19  2018                      1.89"
      ]
     },
     "execution_count": 15,
     "metadata": {},
     "output_type": "execute_result"
    }
   ],
   "source": [
    "# Calculate the number of months each reviewer left a review\n",
    "reviewer_lifespan = df.groupBy('reviewerID', 'year') \\\n",
    "    .agg(countDistinct('reviewText').alias('num_reviews')) \\\n",
    "    .groupBy('year') \\\n",
    "        .agg(round(mean('num_reviews'),2).alias('avg_reviews_per_reviewer')) \\\n",
    "        .orderBy('year').toPandas()\n",
    "\n",
    "reviewer_lifespan"
   ]
  },
  {
   "cell_type": "code",
   "execution_count": 16,
   "metadata": {},
   "outputs": [],
   "source": [
    "# Add to main dataframe\n",
    "yearly = yearly.merge(reviewer_lifespan, on = 'year')"
   ]
  },
  {
   "cell_type": "code",
   "execution_count": 17,
   "metadata": {},
   "outputs": [
    {
     "data": {
      "image/png": "[encoded data removed]",
      "text/plain": [
       "<Figure size 640x480 with 1 Axes>"
      ]
     },
     "metadata": {},
     "output_type": "display_data"
    }
   ],
   "source": [
    "yearly.plot(x = 'year', y = 'avg_reviews_per_reviewer', kind = 'bar')\n",
    "plt.axhline(yearly['avg_reviews_per_reviewer'].mean(),linestyle = '--', color = 'black', alpha = 0.5)\n",
    "plt.ylabel('avg reviews per reviewer)')\n",
    "plt.xlabel('')\n",
    "plt.title('Each reviewer leaves between 1-2 reviews a year, on average')\n",
    "plt.legend('')\n",
    "plt.show()"
   ]
  },
  {
   "attachments": {},
   "cell_type": "markdown",
   "metadata": {},
   "source": [
    "### Customer lifetime value = (customer value * average customer lifespan)\n",
    "\n",
    "For the data I'll calculate reviewer lifetime value - reviewer value * average yearly reviews"
   ]
  },
  {
   "cell_type": "code",
   "execution_count": 18,
   "metadata": {},
   "outputs": [
    {
     "data": {
      "image/png": "[encoded data removed]",
      "text/plain": [
       "<Figure size 640x480 with 1 Axes>"
      ]
     },
     "metadata": {},
     "output_type": "display_data"
    }
   ],
   "source": [
    "yearly['reviewer_lifetime_value'] = yearly['reviewer_value']*yearly['avg_reviews_per_reviewer']\n",
    "yearly.plot(x = 'year', y = 'reviewer_lifetime_value', kind = 'bar')\n",
    "plt.axhline(yearly['reviewer_lifetime_value'].mean(),linestyle = '--', color = 'black', alpha = 0.5)\n",
    "plt.ylabel('USD $')\n",
    "plt.xlabel('')\n",
    "plt.title('Reviewer Lifetime Value')\n",
    "plt.legend('')\n",
    "plt.show()"
   ]
  }
 ],
 "metadata": {
  "kernelspec": {
   "display_name": "mads",
   "language": "python",
   "name": "python3"
  },
  "language_info": {
   "codemirror_mode": {
    "name": "ipython",
    "version": 3
   },
   "file_extension": ".py",
   "mimetype": "text/x-python",
   "name": "python",
   "nbconvert_exporter": "python",
   "pygments_lexer": "ipython3",
   "version": "3.11.3"
  },
  "orig_nbformat": 4
 },
 "nbformat": 4,
 "nbformat_minor": 2
}
